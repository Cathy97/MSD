{
 "cells": [
  {
   "cell_type": "code",
   "execution_count": 1,
   "metadata": {
    "collapsed": true
   },
   "outputs": [],
   "source": [
    "import hdf5_getters\n",
    "import numpy as np\n",
    "import pandas as pd"
   ]
  },
  {
   "cell_type": "code",
   "execution_count": 2,
   "metadata": {},
   "outputs": [
    {
     "name": "stdout",
     "output_type": "stream",
     "text": [
      "218.93179\n",
      "b\"I Didn't Mean To\"\n",
      "0.581793765845\n"
     ]
    },
    {
     "data": {
      "text/plain": [
       "1"
      ]
     },
     "execution_count": 2,
     "metadata": {},
     "output_type": "execute_result"
    }
   ],
   "source": [
    "h5 = hdf5_getters.open_h5_file_read('/Users/Mengying/Desktop/Networks/Project/Data/MillionSongSubset/data/A/A/A/TRAAAAW128F429D538.h5')\n",
    "duration = hdf5_getters.get_duration(h5)\n",
    "title = hdf5_getters.get_title(h5)\n",
    "sim = hdf5_getters.get_artist_familiarity(h5)\n",
    "print (duration)\n",
    "print(title)\n",
    "print (sim)\n",
    "hdf5_getters.get_num_songs(h5)"
   ]
  },
  {
   "cell_type": "code",
   "execution_count": 31,
   "metadata": {},
   "outputs": [
    {
     "data": {
      "text/plain": [
       "b'Casual'"
      ]
     },
     "execution_count": 31,
     "metadata": {},
     "output_type": "execute_result"
    }
   ],
   "source": [
    "hdf5_getters.get_artist_name(h5)"
   ]
  },
  {
   "cell_type": "code",
   "execution_count": 32,
   "metadata": {},
   "outputs": [
    {
     "data": {
      "text/plain": [
       "array([b'hip hop', b'underground rap', b'g funk', b'alternative rap',\n",
       "       b'gothic rock', b'west coast rap', b'rap', b'club dance',\n",
       "       b'singer-songwriter', b'chill-out', b'underground hip hop', b'rock',\n",
       "       b'gothic', b'san francisco bay area', b'indie', b'american',\n",
       "       b'punk', b'california', b'industrial', b'new york', b'90s',\n",
       "       b'latin', b'spanish', b'dark', b'ebm', b'underground', b'deathrock',\n",
       "       b'west coast', b'san francisco', b'producer', b'oakland',\n",
       "       b'catalan', b'barcelona', b'doomsdope', b'norcal',\n",
       "       b'west coast hip hop', b'alternative rock'],\n",
       "      dtype='|S256')"
      ]
     },
     "execution_count": 32,
     "metadata": {},
     "output_type": "execute_result"
    }
   ],
   "source": [
    "hdf5_getters.get_artist_terms(h5)"
   ]
  },
  {
   "cell_type": "code",
   "execution_count": 33,
   "metadata": {},
   "outputs": [
    {
     "data": {
      "text/plain": [
       "92.197999999999993"
      ]
     },
     "execution_count": 33,
     "metadata": {},
     "output_type": "execute_result"
    }
   ],
   "source": [
    "hdf5_getters.get_tempo(h5)"
   ]
  },
  {
   "cell_type": "code",
   "execution_count": 34,
   "metadata": {},
   "outputs": [
    {
     "data": {
      "text/plain": [
       "4"
      ]
     },
     "execution_count": 34,
     "metadata": {},
     "output_type": "execute_result"
    }
   ],
   "source": [
    "hdf5_getters.get_time_signature(h5)"
   ]
  },
  {
   "cell_type": "code",
   "execution_count": null,
   "metadata": {
    "collapsed": true
   },
   "outputs": [],
   "source": [
    "h5.close()"
   ]
  }
 ],
 "metadata": {
  "kernelspec": {
   "display_name": "Python 3",
   "language": "python",
   "name": "python3"
  },
  "language_info": {
   "codemirror_mode": {
    "name": "ipython",
    "version": 3
   },
   "file_extension": ".py",
   "mimetype": "text/x-python",
   "name": "python",
   "nbconvert_exporter": "python",
   "pygments_lexer": "ipython3",
   "version": "3.6.6"
  }
 },
 "nbformat": 4,
 "nbformat_minor": 2
}
