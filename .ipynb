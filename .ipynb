{
 "cells": [
  {
   "cell_type": "code",
   "execution_count": 2,
   "metadata": {},
   "outputs": [],
   "source": [
    "import pandas as pd\n",
    "import numpy as np"
   ]
  },
  {
   "cell_type": "code",
   "execution_count": 6,
   "metadata": {},
   "outputs": [
    {
     "data": {
      "text/html": [
       "<div>\n",
       "<style scoped>\n",
       "    .dataframe tbody tr th:only-of-type {\n",
       "        vertical-align: middle;\n",
       "    }\n",
       "\n",
       "    .dataframe tbody tr th {\n",
       "        vertical-align: top;\n",
       "    }\n",
       "\n",
       "    .dataframe thead th {\n",
       "        text-align: right;\n",
       "    }\n",
       "</style>\n",
       "<table border=\"1\" class=\"dataframe\">\n",
       "  <thead>\n",
       "    <tr style=\"text-align: right;\">\n",
       "      <th></th>\n",
       "      <th>track_id</th>\n",
       "      <th>duration</th>\n",
       "      <th>loudness</th>\n",
       "      <th>tempo</th>\n",
       "      <th>artist_hotness</th>\n",
       "      <th>key_confidence</th>\n",
       "      <th>mode_confidence</th>\n",
       "      <th>artist_id</th>\n",
       "    </tr>\n",
       "  </thead>\n",
       "  <tbody>\n",
       "    <tr>\n",
       "      <th>0</th>\n",
       "      <td>b'TRAAAAW128F429D538'</td>\n",
       "      <td>218.93179</td>\n",
       "      <td>-11.197</td>\n",
       "      <td>92.198</td>\n",
       "      <td>0.401998</td>\n",
       "      <td>0.736</td>\n",
       "      <td>0.636</td>\n",
       "      <td>b'ARD7TVE1187B99BFB1'</td>\n",
       "    </tr>\n",
       "    <tr>\n",
       "      <th>1</th>\n",
       "      <td>b'TRAAABD128F429CF47'</td>\n",
       "      <td>148.03546</td>\n",
       "      <td>-9.843</td>\n",
       "      <td>121.274</td>\n",
       "      <td>0.417500</td>\n",
       "      <td>0.169</td>\n",
       "      <td>0.430</td>\n",
       "      <td>b'ARMJAGH1187FB546F3'</td>\n",
       "    </tr>\n",
       "    <tr>\n",
       "      <th>2</th>\n",
       "      <td>b'TRAAADZ128F9348C2E'</td>\n",
       "      <td>177.47546</td>\n",
       "      <td>-9.689</td>\n",
       "      <td>100.070</td>\n",
       "      <td>0.343428</td>\n",
       "      <td>0.643</td>\n",
       "      <td>0.565</td>\n",
       "      <td>b'ARKRRTF1187B9984DA'</td>\n",
       "    </tr>\n",
       "    <tr>\n",
       "      <th>3</th>\n",
       "      <td>b'TRAAAEF128F4273421'</td>\n",
       "      <td>233.40363</td>\n",
       "      <td>-9.013</td>\n",
       "      <td>119.293</td>\n",
       "      <td>0.454231</td>\n",
       "      <td>0.751</td>\n",
       "      <td>0.749</td>\n",
       "      <td>b'AR7G5I41187FB4CE6C'</td>\n",
       "    </tr>\n",
       "    <tr>\n",
       "      <th>4</th>\n",
       "      <td>b'TRAAAFD128F92F423A'</td>\n",
       "      <td>209.60608</td>\n",
       "      <td>-4.501</td>\n",
       "      <td>129.738</td>\n",
       "      <td>0.401724</td>\n",
       "      <td>0.092</td>\n",
       "      <td>0.371</td>\n",
       "      <td>b'ARXR32B1187FB57099'</td>\n",
       "    </tr>\n",
       "  </tbody>\n",
       "</table>\n",
       "</div>"
      ],
      "text/plain": [
       "                track_id   duration  loudness    tempo  artist_hotness  \\\n",
       "0  b'TRAAAAW128F429D538'  218.93179   -11.197   92.198        0.401998   \n",
       "1  b'TRAAABD128F429CF47'  148.03546    -9.843  121.274        0.417500   \n",
       "2  b'TRAAADZ128F9348C2E'  177.47546    -9.689  100.070        0.343428   \n",
       "3  b'TRAAAEF128F4273421'  233.40363    -9.013  119.293        0.454231   \n",
       "4  b'TRAAAFD128F92F423A'  209.60608    -4.501  129.738        0.401724   \n",
       "\n",
       "   key_confidence  mode_confidence              artist_id  \n",
       "0           0.736            0.636  b'ARD7TVE1187B99BFB1'  \n",
       "1           0.169            0.430  b'ARMJAGH1187FB546F3'  \n",
       "2           0.643            0.565  b'ARKRRTF1187B9984DA'  \n",
       "3           0.751            0.749  b'AR7G5I41187FB4CE6C'  \n",
       "4           0.092            0.371  b'ARXR32B1187FB57099'  "
      ]
     },
     "execution_count": 6,
     "metadata": {},
     "output_type": "execute_result"
    }
   ],
   "source": [
    "music = pd.read_csv(\"music_accurate.csv\")\n",
    "music.head()"
   ]
  },
  {
   "cell_type": "code",
   "execution_count": null,
   "metadata": {},
   "outputs": [],
   "source": [
    "np.sqrt(n_samples/2)"
   ]
  }
 ],
 "metadata": {
  "kernelspec": {
   "display_name": "Python 3",
   "language": "python",
   "name": "python3"
  },
  "language_info": {
   "codemirror_mode": {
    "name": "ipython",
    "version": 3
   },
   "file_extension": ".py",
   "mimetype": "text/x-python",
   "name": "python",
   "nbconvert_exporter": "python",
   "pygments_lexer": "ipython3",
   "version": "3.6.6"
  }
 },
 "nbformat": 4,
 "nbformat_minor": 2
}
