{
 "cells": [
  {
   "cell_type": "code",
   "execution_count": 1,
   "metadata": {},
   "outputs": [
    {
     "data": {
      "text/html": [
       "<div>\n",
       "<style scoped>\n",
       "    .dataframe tbody tr th:only-of-type {\n",
       "        vertical-align: middle;\n",
       "    }\n",
       "\n",
       "    .dataframe tbody tr th {\n",
       "        vertical-align: top;\n",
       "    }\n",
       "\n",
       "    .dataframe thead th {\n",
       "        text-align: right;\n",
       "    }\n",
       "</style>\n",
       "<table border=\"1\" class=\"dataframe\">\n",
       "  <thead>\n",
       "    <tr style=\"text-align: right;\">\n",
       "      <th></th>\n",
       "      <th>track_id</th>\n",
       "      <th>duration</th>\n",
       "      <th>loudness</th>\n",
       "      <th>tempo</th>\n",
       "      <th>song_hotness</th>\n",
       "      <th>artist_hotness</th>\n",
       "      <th>key_confidence</th>\n",
       "      <th>mode_confidence</th>\n",
       "      <th>release_year</th>\n",
       "      <th>artist_id</th>\n",
       "      <th>artist_tag</th>\n",
       "    </tr>\n",
       "  </thead>\n",
       "  <tbody>\n",
       "  </tbody>\n",
       "</table>\n",
       "</div>"
      ],
      "text/plain": [
       "Empty DataFrame\n",
       "Columns: [track_id, duration, loudness, tempo, song_hotness, artist_hotness, key_confidence, mode_confidence, release_year, artist_id, artist_tag]\n",
       "Index: []"
      ]
     },
     "execution_count": 1,
     "metadata": {},
     "output_type": "execute_result"
    }
   ],
   "source": [
    "from PythonSrc.hdf5_getters import *\n",
    "import pandas as pd\n",
    "import numpy as np\n",
    "\n",
    "#all id here has with a b'' at the starting point\n",
    "#get out all of them and then output the dataframe as a csv file so that next time can directly import as a df to manipulate\n",
    "\n",
    "#use knn(k nearest neighbour) to do cluster\n",
    "#semantic embedding model\n",
    "#acoustic similarity model\n",
    "\n",
    "col_names =  ['track_id','duration','loudness','tempo','song_hotness','artist_hotness','key_confidence','mode_confidence','release_year','artist_id','artist_tag']\n",
    "df = pd.DataFrame(columns = col_names)\n",
    "df\n"
   ]
  },
  {
   "cell_type": "code",
   "execution_count": 2,
   "metadata": {},
   "outputs": [
    {
     "name": "stderr",
     "output_type": "stream",
     "text": [
      "/anaconda3/envs/si650/lib/python3.6/site-packages/ipykernel_launcher.py:1: ParserWarning: Falling back to the 'python' engine because the 'c' engine does not support regex separators (separators > 1 char and different from '\\s+' are interpreted as regex); you can avoid this warning by specifying engine='python'.\n",
      "  \"\"\"Entry point for launching an IPython kernel.\n"
     ]
    },
    {
     "data": {
      "text/html": [
       "<div>\n",
       "<style scoped>\n",
       "    .dataframe tbody tr th:only-of-type {\n",
       "        vertical-align: middle;\n",
       "    }\n",
       "\n",
       "    .dataframe tbody tr th {\n",
       "        vertical-align: top;\n",
       "    }\n",
       "\n",
       "    .dataframe thead th {\n",
       "        text-align: right;\n",
       "    }\n",
       "</style>\n",
       "<table border=\"1\" class=\"dataframe\">\n",
       "  <thead>\n",
       "    <tr style=\"text-align: right;\">\n",
       "      <th></th>\n",
       "      <th>0</th>\n",
       "      <th>1</th>\n",
       "      <th>2</th>\n",
       "      <th>3</th>\n",
       "    </tr>\n",
       "  </thead>\n",
       "  <tbody>\n",
       "    <tr>\n",
       "      <th>0</th>\n",
       "      <td>TRAAAAW128F429D538</td>\n",
       "      <td>SOMZWCG12A8C13C480</td>\n",
       "      <td>Casual</td>\n",
       "      <td>I Didn't Mean To</td>\n",
       "    </tr>\n",
       "    <tr>\n",
       "      <th>1</th>\n",
       "      <td>TRAAABD128F429CF47</td>\n",
       "      <td>SOCIWDW12A8C13D406</td>\n",
       "      <td>The Box Tops</td>\n",
       "      <td>Soul Deep</td>\n",
       "    </tr>\n",
       "    <tr>\n",
       "      <th>2</th>\n",
       "      <td>TRAAADZ128F9348C2E</td>\n",
       "      <td>SOXVLOJ12AB0189215</td>\n",
       "      <td>Sonora Santanera</td>\n",
       "      <td>Amor De Cabaret</td>\n",
       "    </tr>\n",
       "    <tr>\n",
       "      <th>3</th>\n",
       "      <td>TRAAAEF128F4273421</td>\n",
       "      <td>SONHOTT12A8C13493C</td>\n",
       "      <td>Adam Ant</td>\n",
       "      <td>Something Girls</td>\n",
       "    </tr>\n",
       "    <tr>\n",
       "      <th>4</th>\n",
       "      <td>TRAAAFD128F92F423A</td>\n",
       "      <td>SOFSOCN12A8C143F5D</td>\n",
       "      <td>Gob</td>\n",
       "      <td>Face the Ashes</td>\n",
       "    </tr>\n",
       "  </tbody>\n",
       "</table>\n",
       "</div>"
      ],
      "text/plain": [
       "                    0                   1                 2                 3\n",
       "0  TRAAAAW128F429D538  SOMZWCG12A8C13C480            Casual  I Didn't Mean To\n",
       "1  TRAAABD128F429CF47  SOCIWDW12A8C13D406      The Box Tops         Soul Deep\n",
       "2  TRAAADZ128F9348C2E  SOXVLOJ12AB0189215  Sonora Santanera   Amor De Cabaret\n",
       "3  TRAAAEF128F4273421  SONHOTT12A8C13493C          Adam Ant   Something Girls\n",
       "4  TRAAAFD128F92F423A  SOFSOCN12A8C143F5D               Gob    Face the Ashes"
      ]
     },
     "execution_count": 2,
     "metadata": {},
     "output_type": "execute_result"
    }
   ],
   "source": [
    "track = pd.read_csv(\"MillionSongSubset/AdditionalFiles/subset_unique_tracks.txt\",sep='<SEP>',header=None)\n",
    "track.head()"
   ]
  },
  {
   "cell_type": "code",
   "execution_count": 3,
   "metadata": {},
   "outputs": [],
   "source": [
    "track_list = list(track[0])"
   ]
  },
  {
   "cell_type": "code",
   "execution_count": 4,
   "metadata": {},
   "outputs": [],
   "source": [
    "for i in range(len(track_list)):\n",
    "    path=\"MillionSongSubset/data/\"+ track_list[i][2] + \"/\" + track_list[i][3] + \"/\" + track_list[i][4] +\"/\" + track_list[i] + \".h5\"\n",
    "    h5 = open_h5_file_read(path)\n",
    "    data_list = []\n",
    "    data_list.append(get_track_id(h5))\n",
    "    data_list.append(get_duration(h5))\n",
    "    data_list.append(get_loudness(h5))\n",
    "    data_list.append(get_tempo(h5))\n",
    "    data_list.append(get_song_hotttnesss(h5))\n",
    "    data_list.append(get_artist_hotttnesss(h5))\n",
    "    data_list.append(get_key_confidence(h5))\n",
    "    data_list.append(get_mode_confidence(h5))\n",
    "    data_list.append(get_year(h5))\n",
    "    data_list.append(get_artist_id(h5))\n",
    "    data_list.append(get_artist_mbtags(h5))\n",
    "    df.loc[i]=data_list\n",
    "    h5.close()"
   ]
  },
  {
   "cell_type": "code",
   "execution_count": 12,
   "metadata": {},
   "outputs": [
    {
     "data": {
      "text/html": [
       "<div>\n",
       "<style scoped>\n",
       "    .dataframe tbody tr th:only-of-type {\n",
       "        vertical-align: middle;\n",
       "    }\n",
       "\n",
       "    .dataframe tbody tr th {\n",
       "        vertical-align: top;\n",
       "    }\n",
       "\n",
       "    .dataframe thead th {\n",
       "        text-align: right;\n",
       "    }\n",
       "</style>\n",
       "<table border=\"1\" class=\"dataframe\">\n",
       "  <thead>\n",
       "    <tr style=\"text-align: right;\">\n",
       "      <th></th>\n",
       "      <th>track_id</th>\n",
       "      <th>duration</th>\n",
       "      <th>loudness</th>\n",
       "      <th>tempo</th>\n",
       "      <th>song_hotness</th>\n",
       "      <th>artist_hotness</th>\n",
       "      <th>key_confidence</th>\n",
       "      <th>mode_confidence</th>\n",
       "      <th>release_year</th>\n",
       "      <th>artist_id</th>\n",
       "      <th>artist_tag</th>\n",
       "    </tr>\n",
       "  </thead>\n",
       "  <tbody>\n",
       "    <tr>\n",
       "      <th>0</th>\n",
       "      <td>b'TRAAAAW128F429D538'</td>\n",
       "      <td>218.93179</td>\n",
       "      <td>-11.197</td>\n",
       "      <td>92.198</td>\n",
       "      <td>0.602120</td>\n",
       "      <td>0.401998</td>\n",
       "      <td>0.736</td>\n",
       "      <td>0.636</td>\n",
       "      <td>0</td>\n",
       "      <td>b'ARD7TVE1187B99BFB1'</td>\n",
       "      <td>[]</td>\n",
       "    </tr>\n",
       "    <tr>\n",
       "      <th>1</th>\n",
       "      <td>b'TRAAABD128F429CF47'</td>\n",
       "      <td>148.03546</td>\n",
       "      <td>-9.843</td>\n",
       "      <td>121.274</td>\n",
       "      <td>NaN</td>\n",
       "      <td>0.417500</td>\n",
       "      <td>0.169</td>\n",
       "      <td>0.430</td>\n",
       "      <td>1969</td>\n",
       "      <td>b'ARMJAGH1187FB546F3'</td>\n",
       "      <td>[b'classic pop and rock']</td>\n",
       "    </tr>\n",
       "    <tr>\n",
       "      <th>2</th>\n",
       "      <td>b'TRAAADZ128F9348C2E'</td>\n",
       "      <td>177.47546</td>\n",
       "      <td>-9.689</td>\n",
       "      <td>100.070</td>\n",
       "      <td>NaN</td>\n",
       "      <td>0.343428</td>\n",
       "      <td>0.643</td>\n",
       "      <td>0.565</td>\n",
       "      <td>0</td>\n",
       "      <td>b'ARKRRTF1187B9984DA'</td>\n",
       "      <td>[]</td>\n",
       "    </tr>\n",
       "    <tr>\n",
       "      <th>3</th>\n",
       "      <td>b'TRAAAEF128F4273421'</td>\n",
       "      <td>233.40363</td>\n",
       "      <td>-9.013</td>\n",
       "      <td>119.293</td>\n",
       "      <td>NaN</td>\n",
       "      <td>0.454231</td>\n",
       "      <td>0.751</td>\n",
       "      <td>0.749</td>\n",
       "      <td>1982</td>\n",
       "      <td>b'AR7G5I41187FB4CE6C'</td>\n",
       "      <td>[b'uk', b'british', b'english']</td>\n",
       "    </tr>\n",
       "    <tr>\n",
       "      <th>4</th>\n",
       "      <td>b'TRAAAFD128F92F423A'</td>\n",
       "      <td>209.60608</td>\n",
       "      <td>-4.501</td>\n",
       "      <td>129.738</td>\n",
       "      <td>0.604501</td>\n",
       "      <td>0.401724</td>\n",
       "      <td>0.092</td>\n",
       "      <td>0.371</td>\n",
       "      <td>2007</td>\n",
       "      <td>b'ARXR32B1187FB57099'</td>\n",
       "      <td>[]</td>\n",
       "    </tr>\n",
       "  </tbody>\n",
       "</table>\n",
       "</div>"
      ],
      "text/plain": [
       "                track_id   duration  loudness    tempo  song_hotness  \\\n",
       "0  b'TRAAAAW128F429D538'  218.93179   -11.197   92.198      0.602120   \n",
       "1  b'TRAAABD128F429CF47'  148.03546    -9.843  121.274           NaN   \n",
       "2  b'TRAAADZ128F9348C2E'  177.47546    -9.689  100.070           NaN   \n",
       "3  b'TRAAAEF128F4273421'  233.40363    -9.013  119.293           NaN   \n",
       "4  b'TRAAAFD128F92F423A'  209.60608    -4.501  129.738      0.604501   \n",
       "\n",
       "   artist_hotness  key_confidence  mode_confidence release_year  \\\n",
       "0        0.401998           0.736            0.636            0   \n",
       "1        0.417500           0.169            0.430         1969   \n",
       "2        0.343428           0.643            0.565            0   \n",
       "3        0.454231           0.751            0.749         1982   \n",
       "4        0.401724           0.092            0.371         2007   \n",
       "\n",
       "               artist_id                       artist_tag  \n",
       "0  b'ARD7TVE1187B99BFB1'                               []  \n",
       "1  b'ARMJAGH1187FB546F3'        [b'classic pop and rock']  \n",
       "2  b'ARKRRTF1187B9984DA'                               []  \n",
       "3  b'AR7G5I41187FB4CE6C'  [b'uk', b'british', b'english']  \n",
       "4  b'ARXR32B1187FB57099'                               []  "
      ]
     },
     "execution_count": 12,
     "metadata": {},
     "output_type": "execute_result"
    }
   ],
   "source": [
    "df.head()"
   ]
  },
  {
   "cell_type": "code",
   "execution_count": 7,
   "metadata": {},
   "outputs": [],
   "source": [
    "df.to_csv('music_all.csv', sep=',',index=False)"
   ]
  },
  {
   "cell_type": "code",
   "execution_count": 14,
   "metadata": {},
   "outputs": [],
   "source": [
    "df_accurate = df[['track_id','duration','loudness','tempo','artist_hotness','key_confidence','mode_confidence','artist_id']].copy()\n",
    "df_accurate.to_csv('music_accurate.csv', sep=',',index=False)"
   ]
  },
  {
   "cell_type": "code",
   "execution_count": 88,
   "metadata": {},
   "outputs": [],
   "source": [
    "# h5 = open_h5_file_read(\"MillionSongSubset/data/A/A/A/TRAAAAW128F429D538.h5\")\n",
    "# track_id = get_track_id(h5)\n",
    "# duration = get_duration(h5)\n",
    "# loudness = get_loudness(h5)\n",
    "# tempo = get_tempo(h5)\n",
    "# song_hotness = get_song_hotttnesss(h5)\n",
    "# artist_hotness = get_artist_hotttnesss(h5)\n",
    "# key_confidence = get_key_confidence(h5)\n",
    "# mode_confidence = get_mode_confidence(h5)\n",
    "# release_year = get_year(h5)\n",
    "# artist_id = get_artist_id(h5)\n",
    "# artist_tag = get_artist_mbtags(h5)\n",
    "# h5.close()"
   ]
  },
  {
   "cell_type": "code",
   "execution_count": 39,
   "metadata": {},
   "outputs": [],
   "source": [
    "# timbre = get_segments_timbre(h5)\n",
    "# mode = get_mode(h5)\n",
    "# key = get_key(h5)\n",
    "# title = get_title(h5)\n",
    "# release_id = get_release_7digitalid(h5)"
   ]
  },
  {
   "cell_type": "code",
   "execution_count": null,
   "metadata": {},
   "outputs": [],
   "source": [
    "h5.close()"
   ]
  }
 ],
 "metadata": {
  "kernelspec": {
   "display_name": "Python 3",
   "language": "python",
   "name": "python3"
  },
  "language_info": {
   "codemirror_mode": {
    "name": "ipython",
    "version": 3
   },
   "file_extension": ".py",
   "mimetype": "text/x-python",
   "name": "python",
   "nbconvert_exporter": "python",
   "pygments_lexer": "ipython3",
   "version": "3.6.5"
  }
 },
 "nbformat": 4,
 "nbformat_minor": 2
}
