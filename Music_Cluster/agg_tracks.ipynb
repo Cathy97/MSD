{
 "cells": [
  {
   "cell_type": "code",
   "execution_count": 2,
   "metadata": {},
   "outputs": [],
   "source": [
    "import pandas as pd\n",
    "import numpy as np"
   ]
  },
  {
   "cell_type": "code",
   "execution_count": 3,
   "metadata": {},
   "outputs": [
    {
     "data": {
      "text/html": [
       "<div>\n",
       "<style scoped>\n",
       "    .dataframe tbody tr th:only-of-type {\n",
       "        vertical-align: middle;\n",
       "    }\n",
       "\n",
       "    .dataframe tbody tr th {\n",
       "        vertical-align: top;\n",
       "    }\n",
       "\n",
       "    .dataframe thead th {\n",
       "        text-align: right;\n",
       "    }\n",
       "</style>\n",
       "<table border=\"1\" class=\"dataframe\">\n",
       "  <thead>\n",
       "    <tr style=\"text-align: right;\">\n",
       "      <th></th>\n",
       "      <th>track_id</th>\n",
       "      <th>duration</th>\n",
       "      <th>loudness</th>\n",
       "      <th>tempo</th>\n",
       "      <th>artist_hotness</th>\n",
       "      <th>key_confidence</th>\n",
       "      <th>mode_confidence</th>\n",
       "      <th>artist_id</th>\n",
       "    </tr>\n",
       "  </thead>\n",
       "  <tbody>\n",
       "    <tr>\n",
       "      <th>0</th>\n",
       "      <td>b'TRAAAAW128F429D538'</td>\n",
       "      <td>218.93179</td>\n",
       "      <td>-11.197</td>\n",
       "      <td>92.198</td>\n",
       "      <td>0.401998</td>\n",
       "      <td>0.736</td>\n",
       "      <td>0.636</td>\n",
       "      <td>b'ARD7TVE1187B99BFB1'</td>\n",
       "    </tr>\n",
       "    <tr>\n",
       "      <th>1</th>\n",
       "      <td>b'TRAAABD128F429CF47'</td>\n",
       "      <td>148.03546</td>\n",
       "      <td>-9.843</td>\n",
       "      <td>121.274</td>\n",
       "      <td>0.417500</td>\n",
       "      <td>0.169</td>\n",
       "      <td>0.430</td>\n",
       "      <td>b'ARMJAGH1187FB546F3'</td>\n",
       "    </tr>\n",
       "    <tr>\n",
       "      <th>2</th>\n",
       "      <td>b'TRAAADZ128F9348C2E'</td>\n",
       "      <td>177.47546</td>\n",
       "      <td>-9.689</td>\n",
       "      <td>100.070</td>\n",
       "      <td>0.343428</td>\n",
       "      <td>0.643</td>\n",
       "      <td>0.565</td>\n",
       "      <td>b'ARKRRTF1187B9984DA'</td>\n",
       "    </tr>\n",
       "    <tr>\n",
       "      <th>3</th>\n",
       "      <td>b'TRAAAEF128F4273421'</td>\n",
       "      <td>233.40363</td>\n",
       "      <td>-9.013</td>\n",
       "      <td>119.293</td>\n",
       "      <td>0.454231</td>\n",
       "      <td>0.751</td>\n",
       "      <td>0.749</td>\n",
       "      <td>b'AR7G5I41187FB4CE6C'</td>\n",
       "    </tr>\n",
       "    <tr>\n",
       "      <th>4</th>\n",
       "      <td>b'TRAAAFD128F92F423A'</td>\n",
       "      <td>209.60608</td>\n",
       "      <td>-4.501</td>\n",
       "      <td>129.738</td>\n",
       "      <td>0.401724</td>\n",
       "      <td>0.092</td>\n",
       "      <td>0.371</td>\n",
       "      <td>b'ARXR32B1187FB57099'</td>\n",
       "    </tr>\n",
       "  </tbody>\n",
       "</table>\n",
       "</div>"
      ],
      "text/plain": [
       "                track_id   duration  loudness    tempo  artist_hotness  \\\n",
       "0  b'TRAAAAW128F429D538'  218.93179   -11.197   92.198        0.401998   \n",
       "1  b'TRAAABD128F429CF47'  148.03546    -9.843  121.274        0.417500   \n",
       "2  b'TRAAADZ128F9348C2E'  177.47546    -9.689  100.070        0.343428   \n",
       "3  b'TRAAAEF128F4273421'  233.40363    -9.013  119.293        0.454231   \n",
       "4  b'TRAAAFD128F92F423A'  209.60608    -4.501  129.738        0.401724   \n",
       "\n",
       "   key_confidence  mode_confidence              artist_id  \n",
       "0           0.736            0.636  b'ARD7TVE1187B99BFB1'  \n",
       "1           0.169            0.430  b'ARMJAGH1187FB546F3'  \n",
       "2           0.643            0.565  b'ARKRRTF1187B9984DA'  \n",
       "3           0.751            0.749  b'AR7G5I41187FB4CE6C'  \n",
       "4           0.092            0.371  b'ARXR32B1187FB57099'  "
      ]
     },
     "execution_count": 3,
     "metadata": {},
     "output_type": "execute_result"
    }
   ],
   "source": [
    "df_music = pd.read_csv(\"music_accurate.csv\")\n",
    "df_music.head()"
   ]
  },
  {
   "cell_type": "code",
   "execution_count": 10,
   "metadata": {},
   "outputs": [
    {
     "name": "stderr",
     "output_type": "stream",
     "text": [
      "/anaconda3/envs/si618/lib/python3.6/site-packages/ipykernel_launcher.py:1: ParserWarning: Falling back to the 'python' engine because the 'c' engine does not support regex separators (separators > 1 char and different from '\\s+' are interpreted as regex); you can avoid this warning by specifying engine='python'.\n",
      "  \"\"\"Entry point for launching an IPython kernel.\n"
     ]
    },
    {
     "data": {
      "text/html": [
       "<div>\n",
       "<style scoped>\n",
       "    .dataframe tbody tr th:only-of-type {\n",
       "        vertical-align: middle;\n",
       "    }\n",
       "\n",
       "    .dataframe tbody tr th {\n",
       "        vertical-align: top;\n",
       "    }\n",
       "\n",
       "    .dataframe thead th {\n",
       "        text-align: right;\n",
       "    }\n",
       "</style>\n",
       "<table border=\"1\" class=\"dataframe\">\n",
       "  <thead>\n",
       "    <tr style=\"text-align: right;\">\n",
       "      <th></th>\n",
       "      <th>0</th>\n",
       "      <th>1</th>\n",
       "      <th>2</th>\n",
       "      <th>3</th>\n",
       "    </tr>\n",
       "  </thead>\n",
       "  <tbody>\n",
       "    <tr>\n",
       "      <th>0</th>\n",
       "      <td>TRMMMYQ128F932D901</td>\n",
       "      <td>SOQMMHC12AB0180CB8</td>\n",
       "      <td>Faster Pussy cat</td>\n",
       "      <td>Silent Night</td>\n",
       "    </tr>\n",
       "    <tr>\n",
       "      <th>1</th>\n",
       "      <td>TRMMMKD128F425225D</td>\n",
       "      <td>SOVFVAK12A8C1350D9</td>\n",
       "      <td>Karkkiautomaatti</td>\n",
       "      <td>Tanssi vaan</td>\n",
       "    </tr>\n",
       "    <tr>\n",
       "      <th>2</th>\n",
       "      <td>TRMMMRX128F93187D9</td>\n",
       "      <td>SOGTUKN12AB017F4F1</td>\n",
       "      <td>Hudson Mohawke</td>\n",
       "      <td>No One Could Ever</td>\n",
       "    </tr>\n",
       "    <tr>\n",
       "      <th>3</th>\n",
       "      <td>TRMMMCH128F425532C</td>\n",
       "      <td>SOBNYVR12A8C13558C</td>\n",
       "      <td>Yerba Brava</td>\n",
       "      <td>Si Vos Querés</td>\n",
       "    </tr>\n",
       "    <tr>\n",
       "      <th>4</th>\n",
       "      <td>TRMMMWA128F426B589</td>\n",
       "      <td>SOHSBXH12A8C13B0DF</td>\n",
       "      <td>Der Mystic</td>\n",
       "      <td>Tangle Of Aspens</td>\n",
       "    </tr>\n",
       "  </tbody>\n",
       "</table>\n",
       "</div>"
      ],
      "text/plain": [
       "                    0                   1                 2                  3\n",
       "0  TRMMMYQ128F932D901  SOQMMHC12AB0180CB8  Faster Pussy cat       Silent Night\n",
       "1  TRMMMKD128F425225D  SOVFVAK12A8C1350D9  Karkkiautomaatti        Tanssi vaan\n",
       "2  TRMMMRX128F93187D9  SOGTUKN12AB017F4F1    Hudson Mohawke  No One Could Ever\n",
       "3  TRMMMCH128F425532C  SOBNYVR12A8C13558C       Yerba Brava      Si Vos Querés\n",
       "4  TRMMMWA128F426B589  SOHSBXH12A8C13B0DF        Der Mystic   Tangle Of Aspens"
      ]
     },
     "execution_count": 10,
     "metadata": {},
     "output_type": "execute_result"
    }
   ],
   "source": [
    "tracks = pd.read_csv(\"unique_tracks_full.txt\",sep='<SEP>',header=None)\n",
    "tracks.head()"
   ]
  },
  {
   "cell_type": "code",
   "execution_count": 12,
   "metadata": {},
   "outputs": [
    {
     "data": {
      "text/html": [
       "<div>\n",
       "<style scoped>\n",
       "    .dataframe tbody tr th:only-of-type {\n",
       "        vertical-align: middle;\n",
       "    }\n",
       "\n",
       "    .dataframe tbody tr th {\n",
       "        vertical-align: top;\n",
       "    }\n",
       "\n",
       "    .dataframe thead th {\n",
       "        text-align: right;\n",
       "    }\n",
       "</style>\n",
       "<table border=\"1\" class=\"dataframe\">\n",
       "  <thead>\n",
       "    <tr style=\"text-align: right;\">\n",
       "      <th></th>\n",
       "      <th>track_id</th>\n",
       "      <th>song_id</th>\n",
       "      <th>artist</th>\n",
       "      <th>song_name</th>\n",
       "    </tr>\n",
       "  </thead>\n",
       "  <tbody>\n",
       "    <tr>\n",
       "      <th>0</th>\n",
       "      <td>TRMMMYQ128F932D901</td>\n",
       "      <td>SOQMMHC12AB0180CB8</td>\n",
       "      <td>Faster Pussy cat</td>\n",
       "      <td>Silent Night</td>\n",
       "    </tr>\n",
       "    <tr>\n",
       "      <th>1</th>\n",
       "      <td>TRMMMKD128F425225D</td>\n",
       "      <td>SOVFVAK12A8C1350D9</td>\n",
       "      <td>Karkkiautomaatti</td>\n",
       "      <td>Tanssi vaan</td>\n",
       "    </tr>\n",
       "    <tr>\n",
       "      <th>2</th>\n",
       "      <td>TRMMMRX128F93187D9</td>\n",
       "      <td>SOGTUKN12AB017F4F1</td>\n",
       "      <td>Hudson Mohawke</td>\n",
       "      <td>No One Could Ever</td>\n",
       "    </tr>\n",
       "    <tr>\n",
       "      <th>3</th>\n",
       "      <td>TRMMMCH128F425532C</td>\n",
       "      <td>SOBNYVR12A8C13558C</td>\n",
       "      <td>Yerba Brava</td>\n",
       "      <td>Si Vos Querés</td>\n",
       "    </tr>\n",
       "    <tr>\n",
       "      <th>4</th>\n",
       "      <td>TRMMMWA128F426B589</td>\n",
       "      <td>SOHSBXH12A8C13B0DF</td>\n",
       "      <td>Der Mystic</td>\n",
       "      <td>Tangle Of Aspens</td>\n",
       "    </tr>\n",
       "  </tbody>\n",
       "</table>\n",
       "</div>"
      ],
      "text/plain": [
       "             track_id             song_id            artist          song_name\n",
       "0  TRMMMYQ128F932D901  SOQMMHC12AB0180CB8  Faster Pussy cat       Silent Night\n",
       "1  TRMMMKD128F425225D  SOVFVAK12A8C1350D9  Karkkiautomaatti        Tanssi vaan\n",
       "2  TRMMMRX128F93187D9  SOGTUKN12AB017F4F1    Hudson Mohawke  No One Could Ever\n",
       "3  TRMMMCH128F425532C  SOBNYVR12A8C13558C       Yerba Brava      Si Vos Querés\n",
       "4  TRMMMWA128F426B589  SOHSBXH12A8C13B0DF        Der Mystic   Tangle Of Aspens"
      ]
     },
     "execution_count": 12,
     "metadata": {},
     "output_type": "execute_result"
    }
   ],
   "source": [
    "tracks.columns = ['track_id', 'song_id','artist','song_name']\n",
    "tracks.head()"
   ]
  },
  {
   "cell_type": "code",
   "execution_count": 11,
   "metadata": {},
   "outputs": [
    {
     "data": {
      "text/html": [
       "<div>\n",
       "<style scoped>\n",
       "    .dataframe tbody tr th:only-of-type {\n",
       "        vertical-align: middle;\n",
       "    }\n",
       "\n",
       "    .dataframe tbody tr th {\n",
       "        vertical-align: top;\n",
       "    }\n",
       "\n",
       "    .dataframe thead th {\n",
       "        text-align: right;\n",
       "    }\n",
       "</style>\n",
       "<table border=\"1\" class=\"dataframe\">\n",
       "  <thead>\n",
       "    <tr style=\"text-align: right;\">\n",
       "      <th></th>\n",
       "      <th>song_id</th>\n",
       "    </tr>\n",
       "  </thead>\n",
       "  <tbody>\n",
       "    <tr>\n",
       "      <th>0</th>\n",
       "      <td>SONGIPI12A8AE46162</td>\n",
       "    </tr>\n",
       "    <tr>\n",
       "      <th>1</th>\n",
       "      <td>SOTCMDJ12A6D4F8528</td>\n",
       "    </tr>\n",
       "    <tr>\n",
       "      <th>2</th>\n",
       "      <td>SOGBNLS12A6D4F7818</td>\n",
       "    </tr>\n",
       "    <tr>\n",
       "      <th>3</th>\n",
       "      <td>SOWQJGC12A6D4F703A</td>\n",
       "    </tr>\n",
       "    <tr>\n",
       "      <th>4</th>\n",
       "      <td>SOWYYUQ12A6701D68D</td>\n",
       "    </tr>\n",
       "  </tbody>\n",
       "</table>\n",
       "</div>"
      ],
      "text/plain": [
       "              song_id\n",
       "0  SONGIPI12A8AE46162\n",
       "1  SOTCMDJ12A6D4F8528\n",
       "2  SOGBNLS12A6D4F7818\n",
       "3  SOWQJGC12A6D4F703A\n",
       "4  SOWYYUQ12A6701D68D"
      ]
     },
     "execution_count": 11,
     "metadata": {},
     "output_type": "execute_result"
    }
   ],
   "source": [
    "songs = pd.read_csv(\"songs.csv\")\n",
    "songs.head()"
   ]
  },
  {
   "cell_type": "code",
   "execution_count": 28,
   "metadata": {},
   "outputs": [
    {
     "data": {
      "text/html": [
       "<div>\n",
       "<style scoped>\n",
       "    .dataframe tbody tr th:only-of-type {\n",
       "        vertical-align: middle;\n",
       "    }\n",
       "\n",
       "    .dataframe tbody tr th {\n",
       "        vertical-align: top;\n",
       "    }\n",
       "\n",
       "    .dataframe thead th {\n",
       "        text-align: right;\n",
       "    }\n",
       "</style>\n",
       "<table border=\"1\" class=\"dataframe\">\n",
       "  <thead>\n",
       "    <tr style=\"text-align: right;\">\n",
       "      <th></th>\n",
       "      <th>track_id</th>\n",
       "      <th>song_id</th>\n",
       "      <th>artist</th>\n",
       "      <th>song_name</th>\n",
       "      <th>_merge</th>\n",
       "    </tr>\n",
       "  </thead>\n",
       "  <tbody>\n",
       "    <tr>\n",
       "      <th>0</th>\n",
       "      <td>TRMMMYQ128F932D901</td>\n",
       "      <td>SOQMMHC12AB0180CB8</td>\n",
       "      <td>Faster Pussy cat</td>\n",
       "      <td>Silent Night</td>\n",
       "      <td>both</td>\n",
       "    </tr>\n",
       "    <tr>\n",
       "      <th>1</th>\n",
       "      <td>TRMMMKD128F425225D</td>\n",
       "      <td>SOVFVAK12A8C1350D9</td>\n",
       "      <td>Karkkiautomaatti</td>\n",
       "      <td>Tanssi vaan</td>\n",
       "      <td>left_only</td>\n",
       "    </tr>\n",
       "    <tr>\n",
       "      <th>2</th>\n",
       "      <td>TRMMMRX128F93187D9</td>\n",
       "      <td>SOGTUKN12AB017F4F1</td>\n",
       "      <td>Hudson Mohawke</td>\n",
       "      <td>No One Could Ever</td>\n",
       "      <td>left_only</td>\n",
       "    </tr>\n",
       "    <tr>\n",
       "      <th>3</th>\n",
       "      <td>TRMMMCH128F425532C</td>\n",
       "      <td>SOBNYVR12A8C13558C</td>\n",
       "      <td>Yerba Brava</td>\n",
       "      <td>Si Vos Querés</td>\n",
       "      <td>both</td>\n",
       "    </tr>\n",
       "    <tr>\n",
       "      <th>4</th>\n",
       "      <td>TRMMMWA128F426B589</td>\n",
       "      <td>SOHSBXH12A8C13B0DF</td>\n",
       "      <td>Der Mystic</td>\n",
       "      <td>Tangle Of Aspens</td>\n",
       "      <td>left_only</td>\n",
       "    </tr>\n",
       "  </tbody>\n",
       "</table>\n",
       "</div>"
      ],
      "text/plain": [
       "             track_id             song_id            artist  \\\n",
       "0  TRMMMYQ128F932D901  SOQMMHC12AB0180CB8  Faster Pussy cat   \n",
       "1  TRMMMKD128F425225D  SOVFVAK12A8C1350D9  Karkkiautomaatti   \n",
       "2  TRMMMRX128F93187D9  SOGTUKN12AB017F4F1    Hudson Mohawke   \n",
       "3  TRMMMCH128F425532C  SOBNYVR12A8C13558C       Yerba Brava   \n",
       "4  TRMMMWA128F426B589  SOHSBXH12A8C13B0DF        Der Mystic   \n",
       "\n",
       "           song_name     _merge  \n",
       "0       Silent Night       both  \n",
       "1        Tanssi vaan  left_only  \n",
       "2  No One Could Ever  left_only  \n",
       "3      Si Vos Querés       both  \n",
       "4   Tangle Of Aspens  left_only  "
      ]
     },
     "execution_count": 28,
     "metadata": {},
     "output_type": "execute_result"
    }
   ],
   "source": [
    "song_track_map = pd.merge(tracks,songs,on='song_id',indicator=True,how='outer')\n",
    "song_track_map.head()"
   ]
  },
  {
   "cell_type": "code",
   "execution_count": 29,
   "metadata": {},
   "outputs": [
    {
     "data": {
      "text/plain": [
       "(1000000, 5)"
      ]
     },
     "execution_count": 29,
     "metadata": {},
     "output_type": "execute_result"
    }
   ],
   "source": [
    "song_track_map.shape"
   ]
  },
  {
   "cell_type": "code",
   "execution_count": 35,
   "metadata": {},
   "outputs": [],
   "source": [
    "user_song_track = song_track_map[ song_track_map['_merge']=='both']  #this is the tracks that need to be considered in the whole "
   ]
  },
  {
   "cell_type": "code",
   "execution_count": 69,
   "metadata": {},
   "outputs": [
    {
     "data": {
      "text/plain": [
       "track_id     False\n",
       "song_id      False\n",
       "artist       False\n",
       "song_name     True\n",
       "_merge       False\n",
       "dtype: bool"
      ]
     },
     "execution_count": 69,
     "metadata": {},
     "output_type": "execute_result"
    }
   ],
   "source": [
    "user_song_track.isnull().any()"
   ]
  },
  {
   "cell_type": "code",
   "execution_count": 44,
   "metadata": {},
   "outputs": [
    {
     "data": {
      "text/plain": [
       "(999056, 2)"
      ]
     },
     "execution_count": 44,
     "metadata": {},
     "output_type": "execute_result"
    }
   ],
   "source": [
    "track_count=song_track_map.groupby('song_id').size().reset_index(name='counts')\n",
    "track_count.shape"
   ]
  },
  {
   "cell_type": "code",
   "execution_count": 70,
   "metadata": {},
   "outputs": [
    {
     "data": {
      "text/plain": [
       "song_id    False\n",
       "counts     False\n",
       "dtype: bool"
      ]
     },
     "execution_count": 70,
     "metadata": {},
     "output_type": "execute_result"
    }
   ],
   "source": [
    "track_count.isnull().any()"
   ]
  },
  {
   "cell_type": "code",
   "execution_count": 63,
   "metadata": {},
   "outputs": [],
   "source": [
    "track_dup=track_count[track_count.counts != 1]"
   ]
  },
  {
   "cell_type": "code",
   "execution_count": 72,
   "metadata": {},
   "outputs": [
    {
     "data": {
      "text/html": [
       "<div>\n",
       "<style scoped>\n",
       "    .dataframe tbody tr th:only-of-type {\n",
       "        vertical-align: middle;\n",
       "    }\n",
       "\n",
       "    .dataframe tbody tr th {\n",
       "        vertical-align: top;\n",
       "    }\n",
       "\n",
       "    .dataframe thead th {\n",
       "        text-align: right;\n",
       "    }\n",
       "</style>\n",
       "<table border=\"1\" class=\"dataframe\">\n",
       "  <thead>\n",
       "    <tr style=\"text-align: right;\">\n",
       "      <th></th>\n",
       "      <th>song_id</th>\n",
       "      <th>counts</th>\n",
       "    </tr>\n",
       "  </thead>\n",
       "  <tbody>\n",
       "    <tr>\n",
       "      <th>304</th>\n",
       "      <td>SOAAEFC12AB01852F1</td>\n",
       "      <td>2</td>\n",
       "    </tr>\n",
       "    <tr>\n",
       "      <th>4062</th>\n",
       "      <td>SOACGAQ12A58A79805</td>\n",
       "      <td>2</td>\n",
       "    </tr>\n",
       "    <tr>\n",
       "      <th>5702</th>\n",
       "      <td>SOADFGH12A6D4F74F7</td>\n",
       "      <td>2</td>\n",
       "    </tr>\n",
       "    <tr>\n",
       "      <th>6942</th>\n",
       "      <td>SOADYVX12A8A9D9462</td>\n",
       "      <td>2</td>\n",
       "    </tr>\n",
       "    <tr>\n",
       "      <th>7510</th>\n",
       "      <td>SOAEIFW12A8C1391E4</td>\n",
       "      <td>2</td>\n",
       "    </tr>\n",
       "  </tbody>\n",
       "</table>\n",
       "</div>"
      ],
      "text/plain": [
       "                 song_id  counts\n",
       "304   SOAAEFC12AB01852F1       2\n",
       "4062  SOACGAQ12A58A79805       2\n",
       "5702  SOADFGH12A6D4F74F7       2\n",
       "6942  SOADYVX12A8A9D9462       2\n",
       "7510  SOAEIFW12A8C1391E4       2"
      ]
     },
     "execution_count": 72,
     "metadata": {},
     "output_type": "execute_result"
    }
   ],
   "source": [
    "track_dup.head()"
   ]
  },
  {
   "cell_type": "code",
   "execution_count": 65,
   "metadata": {},
   "outputs": [
    {
     "data": {
      "text/plain": [
       "(896, 2)"
      ]
     },
     "execution_count": 65,
     "metadata": {},
     "output_type": "execute_result"
    }
   ],
   "source": [
    "track_dup.shape"
   ]
  },
  {
   "cell_type": "code",
   "execution_count": 79,
   "metadata": {},
   "outputs": [
    {
     "data": {
      "text/html": [
       "<div>\n",
       "<style scoped>\n",
       "    .dataframe tbody tr th:only-of-type {\n",
       "        vertical-align: middle;\n",
       "    }\n",
       "\n",
       "    .dataframe tbody tr th {\n",
       "        vertical-align: top;\n",
       "    }\n",
       "\n",
       "    .dataframe thead th {\n",
       "        text-align: right;\n",
       "    }\n",
       "</style>\n",
       "<table border=\"1\" class=\"dataframe\">\n",
       "  <thead>\n",
       "    <tr style=\"text-align: right;\">\n",
       "      <th></th>\n",
       "      <th>song_id</th>\n",
       "      <th>track_id</th>\n",
       "      <th>_merge</th>\n",
       "    </tr>\n",
       "  </thead>\n",
       "  <tbody>\n",
       "    <tr>\n",
       "      <th>0</th>\n",
       "      <td>SOAAEFC12AB01852F1</td>\n",
       "      <td>TRFKWJW12903CD3E3F</td>\n",
       "      <td>both</td>\n",
       "    </tr>\n",
       "    <tr>\n",
       "      <th>1</th>\n",
       "      <td>SOAAEFC12AB01852F1</td>\n",
       "      <td>TRYWQZV12903CB413C</td>\n",
       "      <td>both</td>\n",
       "    </tr>\n",
       "    <tr>\n",
       "      <th>2</th>\n",
       "      <td>SOACGAQ12A58A79805</td>\n",
       "      <td>TRHELBK128F931F176</td>\n",
       "      <td>both</td>\n",
       "    </tr>\n",
       "    <tr>\n",
       "      <th>3</th>\n",
       "      <td>SOACGAQ12A58A79805</td>\n",
       "      <td>TRTOJFP128F933897E</td>\n",
       "      <td>both</td>\n",
       "    </tr>\n",
       "    <tr>\n",
       "      <th>4</th>\n",
       "      <td>SOADFGH12A6D4F74F7</td>\n",
       "      <td>TRMIGUO128F146D75D</td>\n",
       "      <td>both</td>\n",
       "    </tr>\n",
       "  </tbody>\n",
       "</table>\n",
       "</div>"
      ],
      "text/plain": [
       "              song_id            track_id _merge\n",
       "0  SOAAEFC12AB01852F1  TRFKWJW12903CD3E3F   both\n",
       "1  SOAAEFC12AB01852F1  TRYWQZV12903CB413C   both\n",
       "2  SOACGAQ12A58A79805  TRHELBK128F931F176   both\n",
       "3  SOACGAQ12A58A79805  TRTOJFP128F933897E   both\n",
       "4  SOADFGH12A6D4F74F7  TRMIGUO128F146D75D   both"
      ]
     },
     "execution_count": 79,
     "metadata": {},
     "output_type": "execute_result"
    }
   ],
   "source": [
    "user_dup_track_tmp = pd.merge(track_dup[['song_id']],user_song_track[['track_id','song_id']],on='song_id',indicator=True, how='outer')\n",
    "user_dup_track_tmp.head()"
   ]
  },
  {
   "cell_type": "code",
   "execution_count": 80,
   "metadata": {},
   "outputs": [],
   "source": [
    "user_dup_track = user_dup_track_tmp[user_dup_track_tmp['_merge']=='both']"
   ]
  },
  {
   "cell_type": "code",
   "execution_count": 81,
   "metadata": {},
   "outputs": [
    {
     "data": {
      "text/plain": [
       "(1375, 3)"
      ]
     },
     "execution_count": 81,
     "metadata": {},
     "output_type": "execute_result"
    }
   ],
   "source": [
    "user_dup_track.shape"
   ]
  },
  {
   "cell_type": "code",
   "execution_count": 82,
   "metadata": {},
   "outputs": [
    {
     "data": {
      "text/plain": [
       "song_id     False\n",
       "track_id    False\n",
       "_merge      False\n",
       "dtype: bool"
      ]
     },
     "execution_count": 82,
     "metadata": {},
     "output_type": "execute_result"
    }
   ],
   "source": [
    "user_dup_track.isnull().any()"
   ]
  },
  {
   "cell_type": "code",
   "execution_count": 85,
   "metadata": {},
   "outputs": [
    {
     "data": {
      "text/html": [
       "<div>\n",
       "<style scoped>\n",
       "    .dataframe tbody tr th:only-of-type {\n",
       "        vertical-align: middle;\n",
       "    }\n",
       "\n",
       "    .dataframe tbody tr th {\n",
       "        vertical-align: top;\n",
       "    }\n",
       "\n",
       "    .dataframe thead th {\n",
       "        text-align: right;\n",
       "    }\n",
       "</style>\n",
       "<table border=\"1\" class=\"dataframe\">\n",
       "  <thead>\n",
       "    <tr style=\"text-align: right;\">\n",
       "      <th></th>\n",
       "      <th>song_id</th>\n",
       "      <th>track_id</th>\n",
       "    </tr>\n",
       "  </thead>\n",
       "  <tbody>\n",
       "    <tr>\n",
       "      <th>0</th>\n",
       "      <td>SOAAEFC12AB01852F1</td>\n",
       "      <td>TRFKWJW12903CD3E3F</td>\n",
       "    </tr>\n",
       "    <tr>\n",
       "      <th>1</th>\n",
       "      <td>SOAAEFC12AB01852F1</td>\n",
       "      <td>TRYWQZV12903CB413C</td>\n",
       "    </tr>\n",
       "    <tr>\n",
       "      <th>2</th>\n",
       "      <td>SOACGAQ12A58A79805</td>\n",
       "      <td>TRHELBK128F931F176</td>\n",
       "    </tr>\n",
       "    <tr>\n",
       "      <th>3</th>\n",
       "      <td>SOACGAQ12A58A79805</td>\n",
       "      <td>TRTOJFP128F933897E</td>\n",
       "    </tr>\n",
       "    <tr>\n",
       "      <th>4</th>\n",
       "      <td>SOADFGH12A6D4F74F7</td>\n",
       "      <td>TRMIGUO128F146D75D</td>\n",
       "    </tr>\n",
       "  </tbody>\n",
       "</table>\n",
       "</div>"
      ],
      "text/plain": [
       "              song_id            track_id\n",
       "0  SOAAEFC12AB01852F1  TRFKWJW12903CD3E3F\n",
       "1  SOAAEFC12AB01852F1  TRYWQZV12903CB413C\n",
       "2  SOACGAQ12A58A79805  TRHELBK128F931F176\n",
       "3  SOACGAQ12A58A79805  TRTOJFP128F933897E\n",
       "4  SOADFGH12A6D4F74F7  TRMIGUO128F146D75D"
      ]
     },
     "execution_count": 85,
     "metadata": {},
     "output_type": "execute_result"
    }
   ],
   "source": [
    "user_dup_track=user_dup_track[['song_id','track_id']]\n",
    "user_dup_track.head()"
   ]
  },
  {
   "cell_type": "code",
   "execution_count": 3,
   "metadata": {},
   "outputs": [
    {
     "data": {
      "text/html": [
       "<div>\n",
       "<style scoped>\n",
       "    .dataframe tbody tr th:only-of-type {\n",
       "        vertical-align: middle;\n",
       "    }\n",
       "\n",
       "    .dataframe tbody tr th {\n",
       "        vertical-align: top;\n",
       "    }\n",
       "\n",
       "    .dataframe thead th {\n",
       "        text-align: right;\n",
       "    }\n",
       "</style>\n",
       "<table border=\"1\" class=\"dataframe\">\n",
       "  <thead>\n",
       "    <tr style=\"text-align: right;\">\n",
       "      <th></th>\n",
       "      <th>user</th>\n",
       "      <th>count</th>\n",
       "      <th>track_id</th>\n",
       "      <th>song_id</th>\n",
       "      <th>artist</th>\n",
       "      <th>song_y</th>\n",
       "      <th>duration</th>\n",
       "      <th>loudness</th>\n",
       "      <th>tempo</th>\n",
       "      <th>song_hotness</th>\n",
       "      <th>artist_hotness</th>\n",
       "      <th>key_confidence</th>\n",
       "      <th>mode_confidence</th>\n",
       "      <th>release_year</th>\n",
       "      <th>artist_id</th>\n",
       "      <th>artist_tag</th>\n",
       "    </tr>\n",
       "  </thead>\n",
       "  <tbody>\n",
       "    <tr>\n",
       "      <th>0</th>\n",
       "      <td>b80344d063b5ccb3212f76538f3d9e43d87dca9e</td>\n",
       "      <td>1</td>\n",
       "      <td>TRAUCNU128F42671EB</td>\n",
       "      <td>SOWEZSI12A81C21CE6</td>\n",
       "      <td>Gipsy Kings</td>\n",
       "      <td>Tu Quieres Volver</td>\n",
       "      <td>194.87302</td>\n",
       "      <td>-8.403</td>\n",
       "      <td>165.006</td>\n",
       "      <td>0.778821</td>\n",
       "      <td>0.540631</td>\n",
       "      <td>0.351</td>\n",
       "      <td>0.318</td>\n",
       "      <td>1987</td>\n",
       "      <td>b'AR2UQQ51187B9AC816'</td>\n",
       "      <td>[b'classic pop and rock' b'folk']</td>\n",
       "    </tr>\n",
       "    <tr>\n",
       "      <th>1</th>\n",
       "      <td>833c530ecda3d99deb8395f70400aa3999783d91</td>\n",
       "      <td>2</td>\n",
       "      <td>TRAUCNU128F42671EB</td>\n",
       "      <td>SOWEZSI12A81C21CE6</td>\n",
       "      <td>Gipsy Kings</td>\n",
       "      <td>Tu Quieres Volver</td>\n",
       "      <td>194.87302</td>\n",
       "      <td>-8.403</td>\n",
       "      <td>165.006</td>\n",
       "      <td>0.778821</td>\n",
       "      <td>0.540631</td>\n",
       "      <td>0.351</td>\n",
       "      <td>0.318</td>\n",
       "      <td>1987</td>\n",
       "      <td>b'AR2UQQ51187B9AC816'</td>\n",
       "      <td>[b'classic pop and rock' b'folk']</td>\n",
       "    </tr>\n",
       "    <tr>\n",
       "      <th>2</th>\n",
       "      <td>d6c5bd2b570b4faf8964d7ed04f3392ff505d2be</td>\n",
       "      <td>1</td>\n",
       "      <td>TRAUCNU128F42671EB</td>\n",
       "      <td>SOWEZSI12A81C21CE6</td>\n",
       "      <td>Gipsy Kings</td>\n",
       "      <td>Tu Quieres Volver</td>\n",
       "      <td>194.87302</td>\n",
       "      <td>-8.403</td>\n",
       "      <td>165.006</td>\n",
       "      <td>0.778821</td>\n",
       "      <td>0.540631</td>\n",
       "      <td>0.351</td>\n",
       "      <td>0.318</td>\n",
       "      <td>1987</td>\n",
       "      <td>b'AR2UQQ51187B9AC816'</td>\n",
       "      <td>[b'classic pop and rock' b'folk']</td>\n",
       "    </tr>\n",
       "    <tr>\n",
       "      <th>3</th>\n",
       "      <td>724534729c9f5dc72a009269c2c225883e4775d2</td>\n",
       "      <td>1</td>\n",
       "      <td>TRAUCNU128F42671EB</td>\n",
       "      <td>SOWEZSI12A81C21CE6</td>\n",
       "      <td>Gipsy Kings</td>\n",
       "      <td>Tu Quieres Volver</td>\n",
       "      <td>194.87302</td>\n",
       "      <td>-8.403</td>\n",
       "      <td>165.006</td>\n",
       "      <td>0.778821</td>\n",
       "      <td>0.540631</td>\n",
       "      <td>0.351</td>\n",
       "      <td>0.318</td>\n",
       "      <td>1987</td>\n",
       "      <td>b'AR2UQQ51187B9AC816'</td>\n",
       "      <td>[b'classic pop and rock' b'folk']</td>\n",
       "    </tr>\n",
       "    <tr>\n",
       "      <th>4</th>\n",
       "      <td>ee7aa84c164038c963cfd02a7e52a5598aa470c3</td>\n",
       "      <td>2</td>\n",
       "      <td>TRAUCNU128F42671EB</td>\n",
       "      <td>SOWEZSI12A81C21CE6</td>\n",
       "      <td>Gipsy Kings</td>\n",
       "      <td>Tu Quieres Volver</td>\n",
       "      <td>194.87302</td>\n",
       "      <td>-8.403</td>\n",
       "      <td>165.006</td>\n",
       "      <td>0.778821</td>\n",
       "      <td>0.540631</td>\n",
       "      <td>0.351</td>\n",
       "      <td>0.318</td>\n",
       "      <td>1987</td>\n",
       "      <td>b'AR2UQQ51187B9AC816'</td>\n",
       "      <td>[b'classic pop and rock' b'folk']</td>\n",
       "    </tr>\n",
       "  </tbody>\n",
       "</table>\n",
       "</div>"
      ],
      "text/plain": [
       "                                       user  count            track_id  \\\n",
       "0  b80344d063b5ccb3212f76538f3d9e43d87dca9e      1  TRAUCNU128F42671EB   \n",
       "1  833c530ecda3d99deb8395f70400aa3999783d91      2  TRAUCNU128F42671EB   \n",
       "2  d6c5bd2b570b4faf8964d7ed04f3392ff505d2be      1  TRAUCNU128F42671EB   \n",
       "3  724534729c9f5dc72a009269c2c225883e4775d2      1  TRAUCNU128F42671EB   \n",
       "4  ee7aa84c164038c963cfd02a7e52a5598aa470c3      2  TRAUCNU128F42671EB   \n",
       "\n",
       "              song_id       artist             song_y   duration  loudness  \\\n",
       "0  SOWEZSI12A81C21CE6  Gipsy Kings  Tu Quieres Volver  194.87302    -8.403   \n",
       "1  SOWEZSI12A81C21CE6  Gipsy Kings  Tu Quieres Volver  194.87302    -8.403   \n",
       "2  SOWEZSI12A81C21CE6  Gipsy Kings  Tu Quieres Volver  194.87302    -8.403   \n",
       "3  SOWEZSI12A81C21CE6  Gipsy Kings  Tu Quieres Volver  194.87302    -8.403   \n",
       "4  SOWEZSI12A81C21CE6  Gipsy Kings  Tu Quieres Volver  194.87302    -8.403   \n",
       "\n",
       "     tempo  song_hotness  artist_hotness  key_confidence  mode_confidence  \\\n",
       "0  165.006      0.778821        0.540631           0.351            0.318   \n",
       "1  165.006      0.778821        0.540631           0.351            0.318   \n",
       "2  165.006      0.778821        0.540631           0.351            0.318   \n",
       "3  165.006      0.778821        0.540631           0.351            0.318   \n",
       "4  165.006      0.778821        0.540631           0.351            0.318   \n",
       "\n",
       "   release_year              artist_id                         artist_tag  \n",
       "0          1987  b'AR2UQQ51187B9AC816'  [b'classic pop and rock' b'folk']  \n",
       "1          1987  b'AR2UQQ51187B9AC816'  [b'classic pop and rock' b'folk']  \n",
       "2          1987  b'AR2UQQ51187B9AC816'  [b'classic pop and rock' b'folk']  \n",
       "3          1987  b'AR2UQQ51187B9AC816'  [b'classic pop and rock' b'folk']  \n",
       "4          1987  b'AR2UQQ51187B9AC816'  [b'classic pop and rock' b'folk']  "
      ]
     },
     "execution_count": 3,
     "metadata": {},
     "output_type": "execute_result"
    }
   ],
   "source": [
    "full_data = pd.read_csv(\"full_profile.csv\")\n",
    "full_data.head()"
   ]
  },
  {
   "cell_type": "code",
   "execution_count": 5,
   "metadata": {},
   "outputs": [
    {
     "data": {
      "text/plain": [
       "False"
      ]
     },
     "execution_count": 5,
     "metadata": {},
     "output_type": "execute_result"
    }
   ],
   "source": [
    "any(full_data.duplicated())"
   ]
  },
  {
   "cell_type": "code",
   "execution_count": null,
   "metadata": {},
   "outputs": [],
   "source": []
  }
 ],
 "metadata": {
  "kernelspec": {
   "display_name": "Python 3",
   "language": "python",
   "name": "python3"
  },
  "language_info": {
   "codemirror_mode": {
    "name": "ipython",
    "version": 3
   },
   "file_extension": ".py",
   "mimetype": "text/x-python",
   "name": "python",
   "nbconvert_exporter": "python",
   "pygments_lexer": "ipython3",
   "version": "3.6.5"
  }
 },
 "nbformat": 4,
 "nbformat_minor": 2
}
