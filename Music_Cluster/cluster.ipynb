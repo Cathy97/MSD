{
 "cells": [
  {
   "cell_type": "code",
   "execution_count": 1,
   "metadata": {},
   "outputs": [],
   "source": [
    "import pandas as pd\n",
    "import numpy as np"
   ]
  },
  {
   "cell_type": "code",
   "execution_count": 2,
   "metadata": {},
   "outputs": [
    {
     "data": {
      "text/html": [
       "<div>\n",
       "<style scoped>\n",
       "    .dataframe tbody tr th:only-of-type {\n",
       "        vertical-align: middle;\n",
       "    }\n",
       "\n",
       "    .dataframe tbody tr th {\n",
       "        vertical-align: top;\n",
       "    }\n",
       "\n",
       "    .dataframe thead th {\n",
       "        text-align: right;\n",
       "    }\n",
       "</style>\n",
       "<table border=\"1\" class=\"dataframe\">\n",
       "  <thead>\n",
       "    <tr style=\"text-align: right;\">\n",
       "      <th></th>\n",
       "      <th>track_id</th>\n",
       "      <th>duration</th>\n",
       "      <th>loudness</th>\n",
       "      <th>tempo</th>\n",
       "      <th>artist_hotness</th>\n",
       "      <th>key_confidence</th>\n",
       "      <th>mode_confidence</th>\n",
       "      <th>artist_id</th>\n",
       "    </tr>\n",
       "  </thead>\n",
       "  <tbody>\n",
       "    <tr>\n",
       "      <th>0</th>\n",
       "      <td>b'TRAAAAW128F429D538'</td>\n",
       "      <td>218.93179</td>\n",
       "      <td>-11.197</td>\n",
       "      <td>92.198</td>\n",
       "      <td>0.401998</td>\n",
       "      <td>0.736</td>\n",
       "      <td>0.636</td>\n",
       "      <td>b'ARD7TVE1187B99BFB1'</td>\n",
       "    </tr>\n",
       "    <tr>\n",
       "      <th>1</th>\n",
       "      <td>b'TRAAABD128F429CF47'</td>\n",
       "      <td>148.03546</td>\n",
       "      <td>-9.843</td>\n",
       "      <td>121.274</td>\n",
       "      <td>0.417500</td>\n",
       "      <td>0.169</td>\n",
       "      <td>0.430</td>\n",
       "      <td>b'ARMJAGH1187FB546F3'</td>\n",
       "    </tr>\n",
       "    <tr>\n",
       "      <th>2</th>\n",
       "      <td>b'TRAAADZ128F9348C2E'</td>\n",
       "      <td>177.47546</td>\n",
       "      <td>-9.689</td>\n",
       "      <td>100.070</td>\n",
       "      <td>0.343428</td>\n",
       "      <td>0.643</td>\n",
       "      <td>0.565</td>\n",
       "      <td>b'ARKRRTF1187B9984DA'</td>\n",
       "    </tr>\n",
       "    <tr>\n",
       "      <th>3</th>\n",
       "      <td>b'TRAAAEF128F4273421'</td>\n",
       "      <td>233.40363</td>\n",
       "      <td>-9.013</td>\n",
       "      <td>119.293</td>\n",
       "      <td>0.454231</td>\n",
       "      <td>0.751</td>\n",
       "      <td>0.749</td>\n",
       "      <td>b'AR7G5I41187FB4CE6C'</td>\n",
       "    </tr>\n",
       "    <tr>\n",
       "      <th>4</th>\n",
       "      <td>b'TRAAAFD128F92F423A'</td>\n",
       "      <td>209.60608</td>\n",
       "      <td>-4.501</td>\n",
       "      <td>129.738</td>\n",
       "      <td>0.401724</td>\n",
       "      <td>0.092</td>\n",
       "      <td>0.371</td>\n",
       "      <td>b'ARXR32B1187FB57099'</td>\n",
       "    </tr>\n",
       "  </tbody>\n",
       "</table>\n",
       "</div>"
      ],
      "text/plain": [
       "                track_id   duration  loudness    tempo  artist_hotness  \\\n",
       "0  b'TRAAAAW128F429D538'  218.93179   -11.197   92.198        0.401998   \n",
       "1  b'TRAAABD128F429CF47'  148.03546    -9.843  121.274        0.417500   \n",
       "2  b'TRAAADZ128F9348C2E'  177.47546    -9.689  100.070        0.343428   \n",
       "3  b'TRAAAEF128F4273421'  233.40363    -9.013  119.293        0.454231   \n",
       "4  b'TRAAAFD128F92F423A'  209.60608    -4.501  129.738        0.401724   \n",
       "\n",
       "   key_confidence  mode_confidence              artist_id  \n",
       "0           0.736            0.636  b'ARD7TVE1187B99BFB1'  \n",
       "1           0.169            0.430  b'ARMJAGH1187FB546F3'  \n",
       "2           0.643            0.565  b'ARKRRTF1187B9984DA'  \n",
       "3           0.751            0.749  b'AR7G5I41187FB4CE6C'  \n",
       "4           0.092            0.371  b'ARXR32B1187FB57099'  "
      ]
     },
     "execution_count": 2,
     "metadata": {},
     "output_type": "execute_result"
    }
   ],
   "source": [
    "df_music = pd.read_csv(\"music_accurate.csv\")\n",
    "df_music.head()"
   ]
  },
  {
   "cell_type": "code",
   "execution_count": 13,
   "metadata": {},
   "outputs": [
    {
     "data": {
      "text/html": [
       "<div>\n",
       "<style scoped>\n",
       "    .dataframe tbody tr th:only-of-type {\n",
       "        vertical-align: middle;\n",
       "    }\n",
       "\n",
       "    .dataframe tbody tr th {\n",
       "        vertical-align: top;\n",
       "    }\n",
       "\n",
       "    .dataframe thead th {\n",
       "        text-align: right;\n",
       "    }\n",
       "</style>\n",
       "<table border=\"1\" class=\"dataframe\">\n",
       "  <thead>\n",
       "    <tr style=\"text-align: right;\">\n",
       "      <th></th>\n",
       "      <th>track_id</th>\n",
       "      <th>duration</th>\n",
       "      <th>loudness</th>\n",
       "      <th>tempo</th>\n",
       "      <th>artist_hotness</th>\n",
       "      <th>key_confidence</th>\n",
       "      <th>mode_confidence</th>\n",
       "      <th>artist_id</th>\n",
       "    </tr>\n",
       "  </thead>\n",
       "  <tbody>\n",
       "    <tr>\n",
       "      <th>0</th>\n",
       "      <td>0</td>\n",
       "      <td>218.93179</td>\n",
       "      <td>-11.197</td>\n",
       "      <td>92.198</td>\n",
       "      <td>0.401998</td>\n",
       "      <td>0.736</td>\n",
       "      <td>0.636</td>\n",
       "      <td>1268</td>\n",
       "    </tr>\n",
       "    <tr>\n",
       "      <th>1</th>\n",
       "      <td>1</td>\n",
       "      <td>148.03546</td>\n",
       "      <td>-9.843</td>\n",
       "      <td>121.274</td>\n",
       "      <td>0.417500</td>\n",
       "      <td>0.169</td>\n",
       "      <td>0.430</td>\n",
       "      <td>2353</td>\n",
       "    </tr>\n",
       "    <tr>\n",
       "      <th>2</th>\n",
       "      <td>2</td>\n",
       "      <td>177.47546</td>\n",
       "      <td>-9.689</td>\n",
       "      <td>100.070</td>\n",
       "      <td>0.343428</td>\n",
       "      <td>0.643</td>\n",
       "      <td>0.565</td>\n",
       "      <td>2167</td>\n",
       "    </tr>\n",
       "    <tr>\n",
       "      <th>3</th>\n",
       "      <td>3</td>\n",
       "      <td>233.40363</td>\n",
       "      <td>-9.013</td>\n",
       "      <td>119.293</td>\n",
       "      <td>0.454231</td>\n",
       "      <td>0.751</td>\n",
       "      <td>0.749</td>\n",
       "      <td>714</td>\n",
       "    </tr>\n",
       "    <tr>\n",
       "      <th>4</th>\n",
       "      <td>4</td>\n",
       "      <td>209.60608</td>\n",
       "      <td>-4.501</td>\n",
       "      <td>129.738</td>\n",
       "      <td>0.401724</td>\n",
       "      <td>0.092</td>\n",
       "      <td>0.371</td>\n",
       "      <td>3608</td>\n",
       "    </tr>\n",
       "  </tbody>\n",
       "</table>\n",
       "</div>"
      ],
      "text/plain": [
       "   track_id   duration  loudness    tempo  artist_hotness  key_confidence  \\\n",
       "0         0  218.93179   -11.197   92.198        0.401998           0.736   \n",
       "1         1  148.03546    -9.843  121.274        0.417500           0.169   \n",
       "2         2  177.47546    -9.689  100.070        0.343428           0.643   \n",
       "3         3  233.40363    -9.013  119.293        0.454231           0.751   \n",
       "4         4  209.60608    -4.501  129.738        0.401724           0.092   \n",
       "\n",
       "   mode_confidence  artist_id  \n",
       "0            0.636       1268  \n",
       "1            0.430       2353  \n",
       "2            0.565       2167  \n",
       "3            0.749        714  \n",
       "4            0.371       3608  "
      ]
     },
     "execution_count": 13,
     "metadata": {},
     "output_type": "execute_result"
    }
   ],
   "source": [
    "from sklearn import preprocessing\n",
    "le = preprocessing.LabelEncoder()\n",
    "df_music_encode = df_music.copy()\n",
    "df_music_encode['track_id'] = le.fit_transform(df_music_encode['track_id'])\n",
    "df_music_encode['artist_id'] = le.fit_transform(df_music_encode['artist_id'])\n",
    "df_music_encode.head()"
   ]
  },
  {
   "cell_type": "code",
   "execution_count": 14,
   "metadata": {},
   "outputs": [
    {
     "data": {
      "text/html": [
       "<div>\n",
       "<style scoped>\n",
       "    .dataframe tbody tr th:only-of-type {\n",
       "        vertical-align: middle;\n",
       "    }\n",
       "\n",
       "    .dataframe tbody tr th {\n",
       "        vertical-align: top;\n",
       "    }\n",
       "\n",
       "    .dataframe thead th {\n",
       "        text-align: right;\n",
       "    }\n",
       "</style>\n",
       "<table border=\"1\" class=\"dataframe\">\n",
       "  <thead>\n",
       "    <tr style=\"text-align: right;\">\n",
       "      <th></th>\n",
       "      <th>duration</th>\n",
       "      <th>loudness</th>\n",
       "      <th>tempo</th>\n",
       "      <th>artist_hotness</th>\n",
       "      <th>key_confidence</th>\n",
       "      <th>mode_confidence</th>\n",
       "    </tr>\n",
       "  </thead>\n",
       "  <tbody>\n",
       "    <tr>\n",
       "      <th>0</th>\n",
       "      <td>218.93179</td>\n",
       "      <td>-11.197</td>\n",
       "      <td>92.198</td>\n",
       "      <td>0.401998</td>\n",
       "      <td>0.736</td>\n",
       "      <td>0.636</td>\n",
       "    </tr>\n",
       "    <tr>\n",
       "      <th>1</th>\n",
       "      <td>148.03546</td>\n",
       "      <td>-9.843</td>\n",
       "      <td>121.274</td>\n",
       "      <td>0.417500</td>\n",
       "      <td>0.169</td>\n",
       "      <td>0.430</td>\n",
       "    </tr>\n",
       "    <tr>\n",
       "      <th>2</th>\n",
       "      <td>177.47546</td>\n",
       "      <td>-9.689</td>\n",
       "      <td>100.070</td>\n",
       "      <td>0.343428</td>\n",
       "      <td>0.643</td>\n",
       "      <td>0.565</td>\n",
       "    </tr>\n",
       "    <tr>\n",
       "      <th>3</th>\n",
       "      <td>233.40363</td>\n",
       "      <td>-9.013</td>\n",
       "      <td>119.293</td>\n",
       "      <td>0.454231</td>\n",
       "      <td>0.751</td>\n",
       "      <td>0.749</td>\n",
       "    </tr>\n",
       "    <tr>\n",
       "      <th>4</th>\n",
       "      <td>209.60608</td>\n",
       "      <td>-4.501</td>\n",
       "      <td>129.738</td>\n",
       "      <td>0.401724</td>\n",
       "      <td>0.092</td>\n",
       "      <td>0.371</td>\n",
       "    </tr>\n",
       "  </tbody>\n",
       "</table>\n",
       "</div>"
      ],
      "text/plain": [
       "    duration  loudness    tempo  artist_hotness  key_confidence  \\\n",
       "0  218.93179   -11.197   92.198        0.401998           0.736   \n",
       "1  148.03546    -9.843  121.274        0.417500           0.169   \n",
       "2  177.47546    -9.689  100.070        0.343428           0.643   \n",
       "3  233.40363    -9.013  119.293        0.454231           0.751   \n",
       "4  209.60608    -4.501  129.738        0.401724           0.092   \n",
       "\n",
       "   mode_confidence  \n",
       "0            0.636  \n",
       "1            0.430  \n",
       "2            0.565  \n",
       "3            0.749  \n",
       "4            0.371  "
      ]
     },
     "execution_count": 14,
     "metadata": {},
     "output_type": "execute_result"
    }
   ],
   "source": [
    "df_music_encode.iloc[:,1:7].head()"
   ]
  },
  {
   "cell_type": "code",
   "execution_count": 24,
   "metadata": {},
   "outputs": [
    {
     "data": {
      "text/plain": [
       "70.71067811865476"
      ]
     },
     "execution_count": 24,
     "metadata": {},
     "output_type": "execute_result"
    }
   ],
   "source": [
    "n_samples=len(df_music_encode.index)\n",
    "np.sqrt(n_samples/2)"
   ]
  },
  {
   "cell_type": "code",
   "execution_count": 25,
   "metadata": {},
   "outputs": [
    {
     "data": {
      "text/plain": [
       "(1, 79.95)"
      ]
     },
     "execution_count": 25,
     "metadata": {},
     "output_type": "execute_result"
    },
    {
     "data": {
      "image/png": "[encoded data removed]",
      "text/plain": [
       "<Figure size 432x288 with 1 Axes>"
      ]
     },
     "metadata": {},
     "output_type": "display_data"
    }
   ],
   "source": [
    "from sklearn.cluster import KMeans\n",
    "from sklearn import metrics\n",
    "import sklearn.cluster as skc\n",
    "import matplotlib.pyplot as plt\n",
    "import seaborn as sns\n",
    "\n",
    "ans = []\n",
    "for k in range(60, 80):\n",
    "    kmeans = KMeans(n_clusters=k, init='k-means++')\n",
    "    kmeans.fit(df_music_encode.iloc[:,1:7])\n",
    "    ans.append(metrics.silhouette_score(df_music_encode.iloc[:,1:7],kmeans.labels_))\n",
    "fig,ax = plt.subplots()\n",
    "plt.plot(range(60,80), ans, '*-')\n",
    "plt.xlim(1, plt.xlim()[1])"
   ]
  },
  {
   "cell_type": "code",
   "execution_count": 32,
   "metadata": {},
   "outputs": [],
   "source": [
    "kmeans = KMeans(init='k-means++', n_clusters=74)"
   ]
  },
  {
   "cell_type": "code",
   "execution_count": 33,
   "metadata": {},
   "outputs": [
    {
     "data": {
      "text/plain": [
       "KMeans(algorithm='auto', copy_x=True, init='k-means++', max_iter=300,\n",
       "    n_clusters=74, n_init=10, n_jobs=None, precompute_distances='auto',\n",
       "    random_state=None, tol=0.0001, verbose=0)"
      ]
     },
     "execution_count": 33,
     "metadata": {},
     "output_type": "execute_result"
    }
   ],
   "source": [
    "#train the kmeans model\n",
    "kmeans.fit(df_music_encode.iloc[:,1:7])"
   ]
  },
  {
   "cell_type": "code",
   "execution_count": 34,
   "metadata": {},
   "outputs": [],
   "source": [
    "result = kmeans.predict(df_music_encode.iloc[:,1:7])"
   ]
  },
  {
   "cell_type": "code",
   "execution_count": 35,
   "metadata": {},
   "outputs": [
    {
     "data": {
      "text/html": [
       "<div>\n",
       "<style scoped>\n",
       "    .dataframe tbody tr th:only-of-type {\n",
       "        vertical-align: middle;\n",
       "    }\n",
       "\n",
       "    .dataframe tbody tr th {\n",
       "        vertical-align: top;\n",
       "    }\n",
       "\n",
       "    .dataframe thead th {\n",
       "        text-align: right;\n",
       "    }\n",
       "</style>\n",
       "<table border=\"1\" class=\"dataframe\">\n",
       "  <thead>\n",
       "    <tr style=\"text-align: right;\">\n",
       "      <th></th>\n",
       "      <th>track_id</th>\n",
       "      <th>duration</th>\n",
       "      <th>loudness</th>\n",
       "      <th>tempo</th>\n",
       "      <th>artist_hotness</th>\n",
       "      <th>key_confidence</th>\n",
       "      <th>mode_confidence</th>\n",
       "      <th>artist_id</th>\n",
       "      <th>predict</th>\n",
       "    </tr>\n",
       "  </thead>\n",
       "  <tbody>\n",
       "    <tr>\n",
       "      <th>0</th>\n",
       "      <td>0</td>\n",
       "      <td>218.93179</td>\n",
       "      <td>-11.197</td>\n",
       "      <td>92.198</td>\n",
       "      <td>0.401998</td>\n",
       "      <td>0.736</td>\n",
       "      <td>0.636</td>\n",
       "      <td>1268</td>\n",
       "      <td>12</td>\n",
       "    </tr>\n",
       "    <tr>\n",
       "      <th>1</th>\n",
       "      <td>1</td>\n",
       "      <td>148.03546</td>\n",
       "      <td>-9.843</td>\n",
       "      <td>121.274</td>\n",
       "      <td>0.417500</td>\n",
       "      <td>0.169</td>\n",
       "      <td>0.430</td>\n",
       "      <td>2353</td>\n",
       "      <td>49</td>\n",
       "    </tr>\n",
       "    <tr>\n",
       "      <th>2</th>\n",
       "      <td>2</td>\n",
       "      <td>177.47546</td>\n",
       "      <td>-9.689</td>\n",
       "      <td>100.070</td>\n",
       "      <td>0.343428</td>\n",
       "      <td>0.643</td>\n",
       "      <td>0.565</td>\n",
       "      <td>2167</td>\n",
       "      <td>71</td>\n",
       "    </tr>\n",
       "    <tr>\n",
       "      <th>3</th>\n",
       "      <td>3</td>\n",
       "      <td>233.40363</td>\n",
       "      <td>-9.013</td>\n",
       "      <td>119.293</td>\n",
       "      <td>0.454231</td>\n",
       "      <td>0.751</td>\n",
       "      <td>0.749</td>\n",
       "      <td>714</td>\n",
       "      <td>54</td>\n",
       "    </tr>\n",
       "    <tr>\n",
       "      <th>4</th>\n",
       "      <td>4</td>\n",
       "      <td>209.60608</td>\n",
       "      <td>-4.501</td>\n",
       "      <td>129.738</td>\n",
       "      <td>0.401724</td>\n",
       "      <td>0.092</td>\n",
       "      <td>0.371</td>\n",
       "      <td>3608</td>\n",
       "      <td>31</td>\n",
       "    </tr>\n",
       "  </tbody>\n",
       "</table>\n",
       "</div>"
      ],
      "text/plain": [
       "   track_id   duration  loudness    tempo  artist_hotness  key_confidence  \\\n",
       "0         0  218.93179   -11.197   92.198        0.401998           0.736   \n",
       "1         1  148.03546    -9.843  121.274        0.417500           0.169   \n",
       "2         2  177.47546    -9.689  100.070        0.343428           0.643   \n",
       "3         3  233.40363    -9.013  119.293        0.454231           0.751   \n",
       "4         4  209.60608    -4.501  129.738        0.401724           0.092   \n",
       "\n",
       "   mode_confidence  artist_id  predict  \n",
       "0            0.636       1268       12  \n",
       "1            0.430       2353       49  \n",
       "2            0.565       2167       71  \n",
       "3            0.749        714       54  \n",
       "4            0.371       3608       31  "
      ]
     },
     "execution_count": 35,
     "metadata": {},
     "output_type": "execute_result"
    }
   ],
   "source": [
    "df_music_encode['predict']=result\n",
    "df_music_encode.head()"
   ]
  },
  {
   "cell_type": "code",
   "execution_count": 36,
   "metadata": {},
   "outputs": [],
   "source": [
    "#reduced model\n",
    "import sklearn.manifold as skm\n",
    "import sklearn.decomposition as skd\n",
    "import sklearn.preprocessing as skp\n",
    "# df_music_reduced = skd.PCA(n_components=2).fit_transform(df_music_encode.iloc[:,1:7])\n",
    "df_music_norm = df_music_encode.copy()\n",
    "df_music_norm.iloc[:,1:7] = skp.scale(df_music_norm.iloc[:,1:7].astype(np.float))"
   ]
  },
  {
   "cell_type": "code",
   "execution_count": 22,
   "metadata": {},
   "outputs": [],
   "source": [
    "pca_model = skd.PCA().fit(df_music_norm)\n",
    "norm1 = pca_model.transform(df_music_norm)\n",
    "norm2 = pca_model.transform(df_music_norm)"
   ]
  },
  {
   "cell_type": "code",
   "execution_count": 37,
   "metadata": {},
   "outputs": [
    {
     "data": {
      "text/html": [
       "<div>\n",
       "<style scoped>\n",
       "    .dataframe tbody tr th:only-of-type {\n",
       "        vertical-align: middle;\n",
       "    }\n",
       "\n",
       "    .dataframe tbody tr th {\n",
       "        vertical-align: top;\n",
       "    }\n",
       "\n",
       "    .dataframe thead th {\n",
       "        text-align: right;\n",
       "    }\n",
       "</style>\n",
       "<table border=\"1\" class=\"dataframe\">\n",
       "  <thead>\n",
       "    <tr style=\"text-align: right;\">\n",
       "      <th></th>\n",
       "      <th>dimension_1</th>\n",
       "      <th>dimension_2</th>\n",
       "      <th>predict_reduced</th>\n",
       "    </tr>\n",
       "  </thead>\n",
       "  <tbody>\n",
       "    <tr>\n",
       "      <th>0</th>\n",
       "      <td>4999.300586</td>\n",
       "      <td>-639.776430</td>\n",
       "      <td>41</td>\n",
       "    </tr>\n",
       "    <tr>\n",
       "      <th>1</th>\n",
       "      <td>4998.640149</td>\n",
       "      <td>445.210975</td>\n",
       "      <td>29</td>\n",
       "    </tr>\n",
       "    <tr>\n",
       "      <th>2</th>\n",
       "      <td>4997.579761</td>\n",
       "      <td>259.219853</td>\n",
       "      <td>29</td>\n",
       "    </tr>\n",
       "    <tr>\n",
       "      <th>3</th>\n",
       "      <td>4996.132739</td>\n",
       "      <td>-1193.785076</td>\n",
       "      <td>7</td>\n",
       "    </tr>\n",
       "    <tr>\n",
       "      <th>4</th>\n",
       "      <td>4996.023499</td>\n",
       "      <td>1700.224529</td>\n",
       "      <td>55</td>\n",
       "    </tr>\n",
       "  </tbody>\n",
       "</table>\n",
       "</div>"
      ],
      "text/plain": [
       "   dimension_1  dimension_2  predict_reduced\n",
       "0  4999.300586  -639.776430               41\n",
       "1  4998.640149   445.210975               29\n",
       "2  4997.579761   259.219853               29\n",
       "3  4996.132739 -1193.785076                7\n",
       "4  4996.023499  1700.224529               55"
      ]
     },
     "execution_count": 37,
     "metadata": {},
     "output_type": "execute_result"
    }
   ],
   "source": [
    "kmeans = KMeans(init='k-means++', n_clusters=74)\n",
    "kmeans.fit(norm1)\n",
    "result_red = kmeans.predict(norm2)\n",
    "df_music_red = pd.DataFrame(data=norm2[:, [0,1]], columns=['dimension_1', 'dimension_2'])\n",
    "df_music_red['predict_reduced']=result_red\n",
    "df_music_red.head()"
   ]
  },
  {
   "cell_type": "code",
   "execution_count": 41,
   "metadata": {},
   "outputs": [],
   "source": [
    "cluster=df_music_encode[['track_id','predict']]\n",
    "cluster.to_csv('cluster_predict.csv', sep=',',index=False)"
   ]
  },
  {
   "cell_type": "code",
   "execution_count": null,
   "metadata": {},
   "outputs": [],
   "source": []
  },
  {
   "cell_type": "code",
   "execution_count": null,
   "metadata": {},
   "outputs": [],
   "source": []
  },
  {
   "cell_type": "code",
   "execution_count": 3,
   "metadata": {},
   "outputs": [
    {
     "ename": "NameError",
     "evalue": "name 'KMeans' is not defined",
     "output_type": "error",
     "traceback": [
      "\u001b[0;31m---------------------------------------------------------------------------\u001b[0m",
      "\u001b[0;31mNameError\u001b[0m                                 Traceback (most recent call last)",
      "\u001b[0;32m<ipython-input-3-8bb1c777584a>\u001b[0m in \u001b[0;36m<module>\u001b[0;34m()\u001b[0m\n\u001b[0;32m----> 1\u001b[0;31m \u001b[0mkmeans\u001b[0m \u001b[0;34m=\u001b[0m \u001b[0mKMeans\u001b[0m\u001b[0;34m(\u001b[0m\u001b[0minit\u001b[0m\u001b[0;34m=\u001b[0m\u001b[0;34m'k-means++'\u001b[0m\u001b[0;34m,\u001b[0m \u001b[0mn_clusters\u001b[0m\u001b[0;34m=\u001b[0m\u001b[0;36m74\u001b[0m\u001b[0;34m)\u001b[0m\u001b[0;34m\u001b[0m\u001b[0m\n\u001b[0m",
      "\u001b[0;31mNameError\u001b[0m: name 'KMeans' is not defined"
     ]
    }
   ],
   "source": [
    "kmeans = KMeans(init='k-means++', n_clusters=74)"
   ]
  },
  {
   "cell_type": "code",
   "execution_count": null,
   "metadata": {},
   "outputs": [],
   "source": [
    "#train the kmeans model\n",
    "kmeans.fit(df_music_encode.iloc[:,1:7])"
   ]
  },
  {
   "cell_type": "code",
   "execution_count": null,
   "metadata": {},
   "outputs": [],
   "source": [
    "result = kmeans.predict(df_music_encode.iloc[:,1:7])"
   ]
  },
  {
   "cell_type": "code",
   "execution_count": null,
   "metadata": {},
   "outputs": [],
   "source": [
    "df_music_encode['predict']=result\n",
    "df_music_encode.head()"
   ]
  },
  {
   "cell_type": "code",
   "execution_count": null,
   "metadata": {},
   "outputs": [],
   "source": [
    "cluster=df_music_encode[['track_id','predict']]\n",
    "cluster.to_csv('cluster_predict_noid.csv', sep=',',index=False)"
   ]
  }
 ],
 "metadata": {
  "kernelspec": {
   "display_name": "Python 3",
   "language": "python",
   "name": "python3"
  },
  "language_info": {
   "codemirror_mode": {
    "name": "ipython",
    "version": 3
   },
   "file_extension": ".py",
   "mimetype": "text/x-python",
   "name": "python",
   "nbconvert_exporter": "python",
   "pygments_lexer": "ipython3",
   "version": "3.6.5"
  }
 },
 "nbformat": 4,
 "nbformat_minor": 2
}
