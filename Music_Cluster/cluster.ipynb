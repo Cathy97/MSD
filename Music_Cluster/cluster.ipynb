{
 "cells": [
  {
   "cell_type": "code",
   "execution_count": 1,
   "metadata": {
    "collapsed": true
   },
   "outputs": [],
   "source": [
    "import pandas as pd\n",
    "import numpy as np"
   ]
  },
  {
   "cell_type": "code",
   "execution_count": 2,
   "metadata": {},
   "outputs": [
    {
     "data": {
      "text/html": [
       "<div>\n",
       "<style scoped>\n",
       "    .dataframe tbody tr th:only-of-type {\n",
       "        vertical-align: middle;\n",
       "    }\n",
       "\n",
       "    .dataframe tbody tr th {\n",
       "        vertical-align: top;\n",
       "    }\n",
       "\n",
       "    .dataframe thead th {\n",
       "        text-align: right;\n",
       "    }\n",
       "</style>\n",
       "<table border=\"1\" class=\"dataframe\">\n",
       "  <thead>\n",
       "    <tr style=\"text-align: right;\">\n",
       "      <th></th>\n",
       "      <th>track_id</th>\n",
       "      <th>duration</th>\n",
       "      <th>loudness</th>\n",
       "      <th>tempo</th>\n",
       "      <th>artist_hotness</th>\n",
       "      <th>key_confidence</th>\n",
       "      <th>mode_confidence</th>\n",
       "      <th>artist_id</th>\n",
       "    </tr>\n",
       "  </thead>\n",
       "  <tbody>\n",
       "    <tr>\n",
       "      <th>0</th>\n",
       "      <td>b'TRAAAAW128F429D538'</td>\n",
       "      <td>218.93179</td>\n",
       "      <td>-11.197</td>\n",
       "      <td>92.198</td>\n",
       "      <td>0.401998</td>\n",
       "      <td>0.736</td>\n",
       "      <td>0.636</td>\n",
       "      <td>b'ARD7TVE1187B99BFB1'</td>\n",
       "    </tr>\n",
       "    <tr>\n",
       "      <th>1</th>\n",
       "      <td>b'TRAAABD128F429CF47'</td>\n",
       "      <td>148.03546</td>\n",
       "      <td>-9.843</td>\n",
       "      <td>121.274</td>\n",
       "      <td>0.417500</td>\n",
       "      <td>0.169</td>\n",
       "      <td>0.430</td>\n",
       "      <td>b'ARMJAGH1187FB546F3'</td>\n",
       "    </tr>\n",
       "    <tr>\n",
       "      <th>2</th>\n",
       "      <td>b'TRAAADZ128F9348C2E'</td>\n",
       "      <td>177.47546</td>\n",
       "      <td>-9.689</td>\n",
       "      <td>100.070</td>\n",
       "      <td>0.343428</td>\n",
       "      <td>0.643</td>\n",
       "      <td>0.565</td>\n",
       "      <td>b'ARKRRTF1187B9984DA'</td>\n",
       "    </tr>\n",
       "    <tr>\n",
       "      <th>3</th>\n",
       "      <td>b'TRAAAEF128F4273421'</td>\n",
       "      <td>233.40363</td>\n",
       "      <td>-9.013</td>\n",
       "      <td>119.293</td>\n",
       "      <td>0.454231</td>\n",
       "      <td>0.751</td>\n",
       "      <td>0.749</td>\n",
       "      <td>b'AR7G5I41187FB4CE6C'</td>\n",
       "    </tr>\n",
       "    <tr>\n",
       "      <th>4</th>\n",
       "      <td>b'TRAAAFD128F92F423A'</td>\n",
       "      <td>209.60608</td>\n",
       "      <td>-4.501</td>\n",
       "      <td>129.738</td>\n",
       "      <td>0.401724</td>\n",
       "      <td>0.092</td>\n",
       "      <td>0.371</td>\n",
       "      <td>b'ARXR32B1187FB57099'</td>\n",
       "    </tr>\n",
       "  </tbody>\n",
       "</table>\n",
       "</div>"
      ],
      "text/plain": [
       "                track_id   duration  loudness    tempo  artist_hotness  \\\n",
       "0  b'TRAAAAW128F429D538'  218.93179   -11.197   92.198        0.401998   \n",
       "1  b'TRAAABD128F429CF47'  148.03546    -9.843  121.274        0.417500   \n",
       "2  b'TRAAADZ128F9348C2E'  177.47546    -9.689  100.070        0.343428   \n",
       "3  b'TRAAAEF128F4273421'  233.40363    -9.013  119.293        0.454231   \n",
       "4  b'TRAAAFD128F92F423A'  209.60608    -4.501  129.738        0.401724   \n",
       "\n",
       "   key_confidence  mode_confidence              artist_id  \n",
       "0           0.736            0.636  b'ARD7TVE1187B99BFB1'  \n",
       "1           0.169            0.430  b'ARMJAGH1187FB546F3'  \n",
       "2           0.643            0.565  b'ARKRRTF1187B9984DA'  \n",
       "3           0.751            0.749  b'AR7G5I41187FB4CE6C'  \n",
       "4           0.092            0.371  b'ARXR32B1187FB57099'  "
      ]
     },
     "execution_count": 2,
     "metadata": {},
     "output_type": "execute_result"
    }
   ],
   "source": [
    "df_music = pd.read_csv(\"music_accurate.csv\")\n",
    "df_music.head()"
   ]
  },
  {
   "cell_type": "code",
   "execution_count": 12,
   "metadata": {},
   "outputs": [],
   "source": [
    "def create_soup(x):\n",
    "    return ' '.join(x['track_id'])+' '+' '.join(x['artist_id'])\n",
    "   # return ' '.join(x['keywords'])"
   ]
  },
  {
   "cell_type": "code",
   "execution_count": 13,
   "metadata": {},
   "outputs": [],
   "source": [
    "df_music['soup'] = df_music.apply(create_soup,axis=1)"
   ]
  },
  {
   "cell_type": "code",
   "execution_count": null,
   "metadata": {},
   "outputs": [],
   "source": []
  },
  {
   "cell_type": "code",
   "execution_count": 13,
   "metadata": {},
   "outputs": [
    {
     "data": {
      "text/html": [
       "<div>\n",
       "<style scoped>\n",
       "    .dataframe tbody tr th:only-of-type {\n",
       "        vertical-align: middle;\n",
       "    }\n",
       "\n",
       "    .dataframe tbody tr th {\n",
       "        vertical-align: top;\n",
       "    }\n",
       "\n",
       "    .dataframe thead th {\n",
       "        text-align: right;\n",
       "    }\n",
       "</style>\n",
       "<table border=\"1\" class=\"dataframe\">\n",
       "  <thead>\n",
       "    <tr style=\"text-align: right;\">\n",
       "      <th></th>\n",
       "      <th>track_id</th>\n",
       "      <th>duration</th>\n",
       "      <th>loudness</th>\n",
       "      <th>tempo</th>\n",
       "      <th>artist_hotness</th>\n",
       "      <th>key_confidence</th>\n",
       "      <th>mode_confidence</th>\n",
       "      <th>artist_id</th>\n",
       "    </tr>\n",
       "  </thead>\n",
       "  <tbody>\n",
       "    <tr>\n",
       "      <th>0</th>\n",
       "      <td>0</td>\n",
       "      <td>218.93179</td>\n",
       "      <td>-11.197</td>\n",
       "      <td>92.198</td>\n",
       "      <td>0.401998</td>\n",
       "      <td>0.736</td>\n",
       "      <td>0.636</td>\n",
       "      <td>1268</td>\n",
       "    </tr>\n",
       "    <tr>\n",
       "      <th>1</th>\n",
       "      <td>1</td>\n",
       "      <td>148.03546</td>\n",
       "      <td>-9.843</td>\n",
       "      <td>121.274</td>\n",
       "      <td>0.417500</td>\n",
       "      <td>0.169</td>\n",
       "      <td>0.430</td>\n",
       "      <td>2353</td>\n",
       "    </tr>\n",
       "    <tr>\n",
       "      <th>2</th>\n",
       "      <td>2</td>\n",
       "      <td>177.47546</td>\n",
       "      <td>-9.689</td>\n",
       "      <td>100.070</td>\n",
       "      <td>0.343428</td>\n",
       "      <td>0.643</td>\n",
       "      <td>0.565</td>\n",
       "      <td>2167</td>\n",
       "    </tr>\n",
       "    <tr>\n",
       "      <th>3</th>\n",
       "      <td>3</td>\n",
       "      <td>233.40363</td>\n",
       "      <td>-9.013</td>\n",
       "      <td>119.293</td>\n",
       "      <td>0.454231</td>\n",
       "      <td>0.751</td>\n",
       "      <td>0.749</td>\n",
       "      <td>714</td>\n",
       "    </tr>\n",
       "    <tr>\n",
       "      <th>4</th>\n",
       "      <td>4</td>\n",
       "      <td>209.60608</td>\n",
       "      <td>-4.501</td>\n",
       "      <td>129.738</td>\n",
       "      <td>0.401724</td>\n",
       "      <td>0.092</td>\n",
       "      <td>0.371</td>\n",
       "      <td>3608</td>\n",
       "    </tr>\n",
       "  </tbody>\n",
       "</table>\n",
       "</div>"
      ],
      "text/plain": [
       "   track_id   duration  loudness    tempo  artist_hotness  key_confidence  \\\n",
       "0         0  218.93179   -11.197   92.198        0.401998           0.736   \n",
       "1         1  148.03546    -9.843  121.274        0.417500           0.169   \n",
       "2         2  177.47546    -9.689  100.070        0.343428           0.643   \n",
       "3         3  233.40363    -9.013  119.293        0.454231           0.751   \n",
       "4         4  209.60608    -4.501  129.738        0.401724           0.092   \n",
       "\n",
       "   mode_confidence  artist_id  \n",
       "0            0.636       1268  \n",
       "1            0.430       2353  \n",
       "2            0.565       2167  \n",
       "3            0.749        714  \n",
       "4            0.371       3608  "
      ]
     },
     "execution_count": 13,
     "metadata": {},
     "output_type": "execute_result"
    }
   ],
   "source": [
    "from sklearn import preprocessing\n",
    "le = preprocessing.LabelEncoder()\n",
    "df_music_encode = df_music.copy()\n",
    "df_music_encode['track_id'] = le.fit_transform(df_music_encode['track_id'])\n",
    "df_music_encode['artist_id'] = le.fit_transform(df_music_encode['artist_id'])\n",
    "df_music_encode.head()"
   ]
  },
  {
   "cell_type": "code",
   "execution_count": 14,
   "metadata": {},
   "outputs": [
    {
     "data": {
      "text/html": [
       "<div>\n",
       "<style scoped>\n",
       "    .dataframe tbody tr th:only-of-type {\n",
       "        vertical-align: middle;\n",
       "    }\n",
       "\n",
       "    .dataframe tbody tr th {\n",
       "        vertical-align: top;\n",
       "    }\n",
       "\n",
       "    .dataframe thead th {\n",
       "        text-align: right;\n",
       "    }\n",
       "</style>\n",
       "<table border=\"1\" class=\"dataframe\">\n",
       "  <thead>\n",
       "    <tr style=\"text-align: right;\">\n",
       "      <th></th>\n",
       "      <th>duration</th>\n",
       "      <th>loudness</th>\n",
       "      <th>tempo</th>\n",
       "      <th>artist_hotness</th>\n",
       "      <th>key_confidence</th>\n",
       "      <th>mode_confidence</th>\n",
       "    </tr>\n",
       "  </thead>\n",
       "  <tbody>\n",
       "    <tr>\n",
       "      <th>0</th>\n",
       "      <td>218.93179</td>\n",
       "      <td>-11.197</td>\n",
       "      <td>92.198</td>\n",
       "      <td>0.401998</td>\n",
       "      <td>0.736</td>\n",
       "      <td>0.636</td>\n",
       "    </tr>\n",
       "    <tr>\n",
       "      <th>1</th>\n",
       "      <td>148.03546</td>\n",
       "      <td>-9.843</td>\n",
       "      <td>121.274</td>\n",
       "      <td>0.417500</td>\n",
       "      <td>0.169</td>\n",
       "      <td>0.430</td>\n",
       "    </tr>\n",
       "    <tr>\n",
       "      <th>2</th>\n",
       "      <td>177.47546</td>\n",
       "      <td>-9.689</td>\n",
       "      <td>100.070</td>\n",
       "      <td>0.343428</td>\n",
       "      <td>0.643</td>\n",
       "      <td>0.565</td>\n",
       "    </tr>\n",
       "    <tr>\n",
       "      <th>3</th>\n",
       "      <td>233.40363</td>\n",
       "      <td>-9.013</td>\n",
       "      <td>119.293</td>\n",
       "      <td>0.454231</td>\n",
       "      <td>0.751</td>\n",
       "      <td>0.749</td>\n",
       "    </tr>\n",
       "    <tr>\n",
       "      <th>4</th>\n",
       "      <td>209.60608</td>\n",
       "      <td>-4.501</td>\n",
       "      <td>129.738</td>\n",
       "      <td>0.401724</td>\n",
       "      <td>0.092</td>\n",
       "      <td>0.371</td>\n",
       "    </tr>\n",
       "  </tbody>\n",
       "</table>\n",
       "</div>"
      ],
      "text/plain": [
       "    duration  loudness    tempo  artist_hotness  key_confidence  \\\n",
       "0  218.93179   -11.197   92.198        0.401998           0.736   \n",
       "1  148.03546    -9.843  121.274        0.417500           0.169   \n",
       "2  177.47546    -9.689  100.070        0.343428           0.643   \n",
       "3  233.40363    -9.013  119.293        0.454231           0.751   \n",
       "4  209.60608    -4.501  129.738        0.401724           0.092   \n",
       "\n",
       "   mode_confidence  \n",
       "0            0.636  \n",
       "1            0.430  \n",
       "2            0.565  \n",
       "3            0.749  \n",
       "4            0.371  "
      ]
     },
     "execution_count": 14,
     "metadata": {},
     "output_type": "execute_result"
    }
   ],
   "source": [
    "df_music_encode.iloc[:,1:7].head()"
   ]
  },
  {
   "cell_type": "code",
   "execution_count": 24,
   "metadata": {},
   "outputs": [
    {
     "data": {
      "text/plain": [
       "70.71067811865476"
      ]
     },
     "execution_count": 24,
     "metadata": {},
     "output_type": "execute_result"
    }
   ],
   "source": [
    "n_samples=len(df_music_encode.index)\n",
    "np.sqrt(n_samples/2)"
   ]
  },
  {
   "cell_type": "code",
   "execution_count": 25,
   "metadata": {},
   "outputs": [
    {
     "data": {
      "text/plain": [
       "(1, 79.95)"
      ]
     },
     "execution_count": 25,
     "metadata": {},
     "output_type": "execute_result"
    },
    {
     "data": {
      "image/png": "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\n",
      "text/plain": [
       "<Figure size 432x288 with 1 Axes>"
      ]
     },
     "metadata": {},
     "output_type": "display_data"
    }
   ],
   "source": [
    "from sklearn.cluster import KMeans\n",
    "from sklearn import metrics\n",
    "import sklearn.cluster as skc\n",
    "import matplotlib.pyplot as plt\n",
    "import seaborn as sns\n",
    "\n",
    "ans = []\n",
    "for k in range(60, 80):\n",
    "    kmeans = KMeans(n_clusters=k, init='k-means++')\n",
    "    kmeans.fit(df_music_encode.iloc[:,1:7])\n",
    "    ans.append(metrics.silhouette_score(df_music_encode.iloc[:,1:7],kmeans.labels_))\n",
    "fig,ax = plt.subplots()\n",
    "plt.plot(range(60,80), ans, '*-')\n",
    "plt.xlim(1, plt.xlim()[1])"
   ]
  },
  {
   "cell_type": "code",
   "execution_count": 32,
   "metadata": {
    "collapsed": true
   },
   "outputs": [],
   "source": [
    "kmeans = KMeans(init='k-means++', n_clusters=74)"
   ]
  },
  {
   "cell_type": "code",
   "execution_count": 33,
   "metadata": {},
   "outputs": [
    {
     "data": {
      "text/plain": [
       "KMeans(algorithm='auto', copy_x=True, init='k-means++', max_iter=300,\n",
       "    n_clusters=74, n_init=10, n_jobs=None, precompute_distances='auto',\n",
       "    random_state=None, tol=0.0001, verbose=0)"
      ]
     },
     "execution_count": 33,
     "metadata": {},
     "output_type": "execute_result"
    }
   ],
   "source": [
    "#train the kmeans model\n",
    "kmeans.fit(df_music_encode.iloc[:,1:7])"
   ]
  },
  {
   "cell_type": "code",
   "execution_count": 34,
   "metadata": {
    "collapsed": true
   },
   "outputs": [],
   "source": [
    "result = kmeans.predict(df_music_encode.iloc[:,1:7])"
   ]
  },
  {
   "cell_type": "code",
   "execution_count": 35,
   "metadata": {},
   "outputs": [
    {
     "data": {
      "text/html": [
       "<div>\n",
       "<style scoped>\n",
       "    .dataframe tbody tr th:only-of-type {\n",
       "        vertical-align: middle;\n",
       "    }\n",
       "\n",
       "    .dataframe tbody tr th {\n",
       "        vertical-align: top;\n",
       "    }\n",
       "\n",
       "    .dataframe thead th {\n",
       "        text-align: right;\n",
       "    }\n",
       "</style>\n",
       "<table border=\"1\" class=\"dataframe\">\n",
       "  <thead>\n",
       "    <tr style=\"text-align: right;\">\n",
       "      <th></th>\n",
       "      <th>track_id</th>\n",
       "      <th>duration</th>\n",
       "      <th>loudness</th>\n",
       "      <th>tempo</th>\n",
       "      <th>artist_hotness</th>\n",
       "      <th>key_confidence</th>\n",
       "      <th>mode_confidence</th>\n",
       "      <th>artist_id</th>\n",
       "      <th>predict</th>\n",
       "    </tr>\n",
       "  </thead>\n",
       "  <tbody>\n",
       "    <tr>\n",
       "      <th>0</th>\n",
       "      <td>0</td>\n",
       "      <td>218.93179</td>\n",
       "      <td>-11.197</td>\n",
       "      <td>92.198</td>\n",
       "      <td>0.401998</td>\n",
       "      <td>0.736</td>\n",
       "      <td>0.636</td>\n",
       "      <td>1268</td>\n",
       "      <td>12</td>\n",
       "    </tr>\n",
       "    <tr>\n",
       "      <th>1</th>\n",
       "      <td>1</td>\n",
       "      <td>148.03546</td>\n",
       "      <td>-9.843</td>\n",
       "      <td>121.274</td>\n",
       "      <td>0.417500</td>\n",
       "      <td>0.169</td>\n",
       "      <td>0.430</td>\n",
       "      <td>2353</td>\n",
       "      <td>49</td>\n",
       "    </tr>\n",
       "    <tr>\n",
       "      <th>2</th>\n",
       "      <td>2</td>\n",
       "      <td>177.47546</td>\n",
       "      <td>-9.689</td>\n",
       "      <td>100.070</td>\n",
       "      <td>0.343428</td>\n",
       "      <td>0.643</td>\n",
       "      <td>0.565</td>\n",
       "      <td>2167</td>\n",
       "      <td>71</td>\n",
       "    </tr>\n",
       "    <tr>\n",
       "      <th>3</th>\n",
       "      <td>3</td>\n",
       "      <td>233.40363</td>\n",
       "      <td>-9.013</td>\n",
       "      <td>119.293</td>\n",
       "      <td>0.454231</td>\n",
       "      <td>0.751</td>\n",
       "      <td>0.749</td>\n",
       "      <td>714</td>\n",
       "      <td>54</td>\n",
       "    </tr>\n",
       "    <tr>\n",
       "      <th>4</th>\n",
       "      <td>4</td>\n",
       "      <td>209.60608</td>\n",
       "      <td>-4.501</td>\n",
       "      <td>129.738</td>\n",
       "      <td>0.401724</td>\n",
       "      <td>0.092</td>\n",
       "      <td>0.371</td>\n",
       "      <td>3608</td>\n",
       "      <td>31</td>\n",
       "    </tr>\n",
       "  </tbody>\n",
       "</table>\n",
       "</div>"
      ],
      "text/plain": [
       "   track_id   duration  loudness    tempo  artist_hotness  key_confidence  \\\n",
       "0         0  218.93179   -11.197   92.198        0.401998           0.736   \n",
       "1         1  148.03546    -9.843  121.274        0.417500           0.169   \n",
       "2         2  177.47546    -9.689  100.070        0.343428           0.643   \n",
       "3         3  233.40363    -9.013  119.293        0.454231           0.751   \n",
       "4         4  209.60608    -4.501  129.738        0.401724           0.092   \n",
       "\n",
       "   mode_confidence  artist_id  predict  \n",
       "0            0.636       1268       12  \n",
       "1            0.430       2353       49  \n",
       "2            0.565       2167       71  \n",
       "3            0.749        714       54  \n",
       "4            0.371       3608       31  "
      ]
     },
     "execution_count": 35,
     "metadata": {},
     "output_type": "execute_result"
    }
   ],
   "source": [
    "df_music_encode['predict']=result\n",
    "df_music_encode.head()"
   ]
  },
  {
   "cell_type": "code",
   "execution_count": 36,
   "metadata": {
    "collapsed": true
   },
   "outputs": [],
   "source": [
    "#reduced model\n",
    "import sklearn.manifold as skm\n",
    "import sklearn.decomposition as skd\n",
    "import sklearn.preprocessing as skp\n",
    "# df_music_reduced = skd.PCA(n_components=2).fit_transform(df_music_encode.iloc[:,1:7])\n",
    "df_music_norm = df_music_encode.copy()\n",
    "df_music_norm.iloc[:,1:7] = skp.scale(df_music_norm.iloc[:,1:7].astype(np.float))"
   ]
  },
  {
   "cell_type": "code",
   "execution_count": 22,
   "metadata": {
    "collapsed": true
   },
   "outputs": [],
   "source": [
    "pca_model = skd.PCA().fit(df_music_norm)\n",
    "norm1 = pca_model.transform(df_music_norm)\n",
    "norm2 = pca_model.transform(df_music_norm)"
   ]
  },
  {
   "cell_type": "code",
   "execution_count": 37,
   "metadata": {},
   "outputs": [
    {
     "data": {
      "text/html": [
       "<div>\n",
       "<style scoped>\n",
       "    .dataframe tbody tr th:only-of-type {\n",
       "        vertical-align: middle;\n",
       "    }\n",
       "\n",
       "    .dataframe tbody tr th {\n",
       "        vertical-align: top;\n",
       "    }\n",
       "\n",
       "    .dataframe thead th {\n",
       "        text-align: right;\n",
       "    }\n",
       "</style>\n",
       "<table border=\"1\" class=\"dataframe\">\n",
       "  <thead>\n",
       "    <tr style=\"text-align: right;\">\n",
       "      <th></th>\n",
       "      <th>dimension_1</th>\n",
       "      <th>dimension_2</th>\n",
       "      <th>predict_reduced</th>\n",
       "    </tr>\n",
       "  </thead>\n",
       "  <tbody>\n",
       "    <tr>\n",
       "      <th>0</th>\n",
       "      <td>4999.300586</td>\n",
       "      <td>-639.776430</td>\n",
       "      <td>41</td>\n",
       "    </tr>\n",
       "    <tr>\n",
       "      <th>1</th>\n",
       "      <td>4998.640149</td>\n",
       "      <td>445.210975</td>\n",
       "      <td>29</td>\n",
       "    </tr>\n",
       "    <tr>\n",
       "      <th>2</th>\n",
       "      <td>4997.579761</td>\n",
       "      <td>259.219853</td>\n",
       "      <td>29</td>\n",
       "    </tr>\n",
       "    <tr>\n",
       "      <th>3</th>\n",
       "      <td>4996.132739</td>\n",
       "      <td>-1193.785076</td>\n",
       "      <td>7</td>\n",
       "    </tr>\n",
       "    <tr>\n",
       "      <th>4</th>\n",
       "      <td>4996.023499</td>\n",
       "      <td>1700.224529</td>\n",
       "      <td>55</td>\n",
       "    </tr>\n",
       "  </tbody>\n",
       "</table>\n",
       "</div>"
      ],
      "text/plain": [
       "   dimension_1  dimension_2  predict_reduced\n",
       "0  4999.300586  -639.776430               41\n",
       "1  4998.640149   445.210975               29\n",
       "2  4997.579761   259.219853               29\n",
       "3  4996.132739 -1193.785076                7\n",
       "4  4996.023499  1700.224529               55"
      ]
     },
     "execution_count": 37,
     "metadata": {},
     "output_type": "execute_result"
    }
   ],
   "source": [
    "kmeans = KMeans(init='k-means++', n_clusters=74)\n",
    "kmeans.fit(norm1)\n",
    "result_red = kmeans.predict(norm2)\n",
    "df_music_red = pd.DataFrame(data=norm2[:, [0,1]], columns=['dimension_1', 'dimension_2'])\n",
    "df_music_red['predict_reduced']=result_red\n",
    "df_music_red.head()"
   ]
  },
  {
   "cell_type": "code",
   "execution_count": 41,
   "metadata": {
    "collapsed": true
   },
   "outputs": [],
   "source": [
    "cluster=df_music_encode[['track_id','predict']]\n",
    "cluster.to_csv('cluster_predict.csv', sep=',',index=False)"
   ]
  },
  {
   "cell_type": "code",
   "execution_count": null,
   "metadata": {
    "collapsed": true
   },
   "outputs": [],
   "source": []
  },
  {
   "cell_type": "code",
   "execution_count": 7,
   "metadata": {
    "collapsed": true
   },
   "outputs": [],
   "source": [
    "from sklearn.cluster import KMeans\n",
    "from sklearn import metrics\n",
    "import sklearn.cluster as skc\n",
    "import matplotlib.pyplot as plt\n",
    "import seaborn as sns\n",
    "kmeans = KMeans(init='k-means++', n_clusters=71)"
   ]
  },
  {
   "cell_type": "code",
   "execution_count": 49,
   "metadata": {},
   "outputs": [
    {
     "data": {
      "text/plain": [
       "KMeans(algorithm='auto', copy_x=True, init='k-means++', max_iter=300,\n",
       "    n_clusters=71, n_init=10, n_jobs=None, precompute_distances='auto',\n",
       "    random_state=None, tol=0.0001, verbose=0)"
      ]
     },
     "execution_count": 49,
     "metadata": {},
     "output_type": "execute_result"
    }
   ],
   "source": [
    "#train the kmeans model\n",
    "kmeans.fit(df_music.iloc[:,1:7])"
   ]
  },
  {
   "cell_type": "code",
   "execution_count": 50,
   "metadata": {
    "collapsed": true
   },
   "outputs": [],
   "source": [
    "result = kmeans.predict(df_music.iloc[:,1:7])"
   ]
  },
  {
   "cell_type": "code",
   "execution_count": 51,
   "metadata": {},
   "outputs": [
    {
     "data": {
      "text/html": [
       "<div>\n",
       "<style scoped>\n",
       "    .dataframe tbody tr th:only-of-type {\n",
       "        vertical-align: middle;\n",
       "    }\n",
       "\n",
       "    .dataframe tbody tr th {\n",
       "        vertical-align: top;\n",
       "    }\n",
       "\n",
       "    .dataframe thead th {\n",
       "        text-align: right;\n",
       "    }\n",
       "</style>\n",
       "<table border=\"1\" class=\"dataframe\">\n",
       "  <thead>\n",
       "    <tr style=\"text-align: right;\">\n",
       "      <th></th>\n",
       "      <th>track_id</th>\n",
       "      <th>duration</th>\n",
       "      <th>loudness</th>\n",
       "      <th>tempo</th>\n",
       "      <th>artist_hotness</th>\n",
       "      <th>key_confidence</th>\n",
       "      <th>mode_confidence</th>\n",
       "      <th>artist_id</th>\n",
       "      <th>predict</th>\n",
       "    </tr>\n",
       "  </thead>\n",
       "  <tbody>\n",
       "    <tr>\n",
       "      <th>0</th>\n",
       "      <td>b'TRAAAAW128F429D538'</td>\n",
       "      <td>218.93179</td>\n",
       "      <td>-11.197</td>\n",
       "      <td>92.198</td>\n",
       "      <td>0.401998</td>\n",
       "      <td>0.736</td>\n",
       "      <td>0.636</td>\n",
       "      <td>b'ARD7TVE1187B99BFB1'</td>\n",
       "      <td>18</td>\n",
       "    </tr>\n",
       "    <tr>\n",
       "      <th>1</th>\n",
       "      <td>b'TRAAABD128F429CF47'</td>\n",
       "      <td>148.03546</td>\n",
       "      <td>-9.843</td>\n",
       "      <td>121.274</td>\n",
       "      <td>0.417500</td>\n",
       "      <td>0.169</td>\n",
       "      <td>0.430</td>\n",
       "      <td>b'ARMJAGH1187FB546F3'</td>\n",
       "      <td>15</td>\n",
       "    </tr>\n",
       "    <tr>\n",
       "      <th>2</th>\n",
       "      <td>b'TRAAADZ128F9348C2E'</td>\n",
       "      <td>177.47546</td>\n",
       "      <td>-9.689</td>\n",
       "      <td>100.070</td>\n",
       "      <td>0.343428</td>\n",
       "      <td>0.643</td>\n",
       "      <td>0.565</td>\n",
       "      <td>b'ARKRRTF1187B9984DA'</td>\n",
       "      <td>4</td>\n",
       "    </tr>\n",
       "    <tr>\n",
       "      <th>3</th>\n",
       "      <td>b'TRAAAEF128F4273421'</td>\n",
       "      <td>233.40363</td>\n",
       "      <td>-9.013</td>\n",
       "      <td>119.293</td>\n",
       "      <td>0.454231</td>\n",
       "      <td>0.751</td>\n",
       "      <td>0.749</td>\n",
       "      <td>b'AR7G5I41187FB4CE6C'</td>\n",
       "      <td>16</td>\n",
       "    </tr>\n",
       "    <tr>\n",
       "      <th>4</th>\n",
       "      <td>b'TRAAAFD128F92F423A'</td>\n",
       "      <td>209.60608</td>\n",
       "      <td>-4.501</td>\n",
       "      <td>129.738</td>\n",
       "      <td>0.401724</td>\n",
       "      <td>0.092</td>\n",
       "      <td>0.371</td>\n",
       "      <td>b'ARXR32B1187FB57099'</td>\n",
       "      <td>34</td>\n",
       "    </tr>\n",
       "  </tbody>\n",
       "</table>\n",
       "</div>"
      ],
      "text/plain": [
       "                track_id   duration  loudness    tempo  artist_hotness  \\\n",
       "0  b'TRAAAAW128F429D538'  218.93179   -11.197   92.198        0.401998   \n",
       "1  b'TRAAABD128F429CF47'  148.03546    -9.843  121.274        0.417500   \n",
       "2  b'TRAAADZ128F9348C2E'  177.47546    -9.689  100.070        0.343428   \n",
       "3  b'TRAAAEF128F4273421'  233.40363    -9.013  119.293        0.454231   \n",
       "4  b'TRAAAFD128F92F423A'  209.60608    -4.501  129.738        0.401724   \n",
       "\n",
       "   key_confidence  mode_confidence              artist_id  predict  \n",
       "0           0.736            0.636  b'ARD7TVE1187B99BFB1'       18  \n",
       "1           0.169            0.430  b'ARMJAGH1187FB546F3'       15  \n",
       "2           0.643            0.565  b'ARKRRTF1187B9984DA'        4  \n",
       "3           0.751            0.749  b'AR7G5I41187FB4CE6C'       16  \n",
       "4           0.092            0.371  b'ARXR32B1187FB57099'       34  "
      ]
     },
     "execution_count": 51,
     "metadata": {},
     "output_type": "execute_result"
    }
   ],
   "source": [
    "df_music['predict']=result\n",
    "df_music.head()"
   ]
  },
  {
   "cell_type": "code",
   "execution_count": 52,
   "metadata": {},
   "outputs": [
    {
     "data": {
      "text/plain": [
       "<function matplotlib.pyplot.show(*args, **kw)>"
      ]
     },
     "execution_count": 52,
     "metadata": {},
     "output_type": "execute_result"
    },
    {
     "data": {
      "image/png": "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\n",
      "text/plain": [
       "<Figure size 576x396 with 1 Axes>"
      ]
     },
     "metadata": {},
     "output_type": "display_data"
    }
   ],
   "source": [
    "import seaborn as sns\n",
    "from matplotlib import pyplot as plt\n",
    "cluster_dt=df_music.groupby('predict').size().reset_index(name='counts')\n",
    "plt.style.use('seaborn')\n",
    "plt.bar(cluster_dt.predict,cluster_dt.counts)\n",
    "plt.show\n",
    "# cluster_dt"
   ]
  },
  {
   "cell_type": "code",
   "execution_count": null,
   "metadata": {
    "collapsed": true
   },
   "outputs": [],
   "source": [
    "cluster_dt=df_music[['track_id','predict']]\n",
    "cluster_dt.to_csv('cluster_predict_noid.csv', sep=',',index=False)"
   ]
  },
  {
   "cell_type": "markdown",
   "metadata": {},
   "source": [
    "# Get similar songs in a cluster"
   ]
  },
  {
   "cell_type": "code",
<<<<<<< HEAD
   "execution_count": 6,
=======
   "execution_count": 2,
>>>>>>> 4347e445bb72a37c772c0e7b99cfc9060d816738
   "metadata": {},
   "outputs": [
    {
     "data": {
      "text/html": [
       "<div>\n",
       "<style>\n",
       "    .dataframe thead tr:only-child th {\n",
       "        text-align: right;\n",
       "    }\n",
       "\n",
       "    .dataframe thead th {\n",
       "        text-align: left;\n",
       "    }\n",
       "\n",
       "    .dataframe tbody tr th {\n",
       "        vertical-align: top;\n",
       "    }\n",
       "</style>\n",
       "<table border=\"1\" class=\"dataframe\">\n",
       "  <thead>\n",
       "    <tr style=\"text-align: right;\">\n",
       "      <th></th>\n",
       "      <th>track_id</th>\n",
       "      <th>predict</th>\n",
       "    </tr>\n",
       "  </thead>\n",
       "  <tbody>\n",
       "    <tr>\n",
       "      <th>0</th>\n",
       "      <td>b'TRAAAAW128F429D538'</td>\n",
       "      <td>29</td>\n",
       "    </tr>\n",
       "    <tr>\n",
       "      <th>1</th>\n",
       "      <td>b'TRAAABD128F429CF47'</td>\n",
       "      <td>57</td>\n",
       "    </tr>\n",
       "    <tr>\n",
       "      <th>2</th>\n",
       "      <td>b'TRAAADZ128F9348C2E'</td>\n",
       "      <td>8</td>\n",
       "    </tr>\n",
       "    <tr>\n",
       "      <th>3</th>\n",
       "      <td>b'TRAAAEF128F4273421'</td>\n",
       "      <td>12</td>\n",
       "    </tr>\n",
       "    <tr>\n",
       "      <th>4</th>\n",
       "      <td>b'TRAAAFD128F92F423A'</td>\n",
       "      <td>68</td>\n",
       "    </tr>\n",
       "  </tbody>\n",
       "</table>\n",
       "</div>"
      ],
      "text/plain": [
       "                track_id  predict\n",
       "0  b'TRAAAAW128F429D538'       29\n",
       "1  b'TRAAABD128F429CF47'       57\n",
       "2  b'TRAAADZ128F9348C2E'        8\n",
       "3  b'TRAAAEF128F4273421'       12\n",
       "4  b'TRAAAFD128F92F423A'       68"
      ]
     },
<<<<<<< HEAD
     "execution_count": 6,
=======
     "execution_count": 2,
>>>>>>> 4347e445bb72a37c772c0e7b99cfc9060d816738
     "metadata": {},
     "output_type": "execute_result"
    }
   ],
   "source": [
    "music_cluster = pd.read_csv(\"cluster_predict_noid.csv\")\n",
    "music_cluster.head()"
   ]
  },
  {
   "cell_type": "code",
   "execution_count": 16,
   "metadata": {},
   "outputs": [
    {
     "data": {
      "text/html": [
       "<div>\n",
       "<style scoped>\n",
       "    .dataframe tbody tr th:only-of-type {\n",
       "        vertical-align: middle;\n",
       "    }\n",
       "\n",
       "    .dataframe tbody tr th {\n",
       "        vertical-align: top;\n",
       "    }\n",
       "\n",
       "    .dataframe thead th {\n",
       "        text-align: right;\n",
       "    }\n",
       "</style>\n",
       "<table border=\"1\" class=\"dataframe\">\n",
       "  <thead>\n",
       "    <tr style=\"text-align: right;\">\n",
       "      <th></th>\n",
       "      <th>predict</th>\n",
       "      <th>counts</th>\n",
       "    </tr>\n",
       "  </thead>\n",
       "  <tbody>\n",
       "    <tr>\n",
       "      <th>0</th>\n",
       "      <td>0</td>\n",
       "      <td>197</td>\n",
       "    </tr>\n",
       "    <tr>\n",
       "      <th>1</th>\n",
       "      <td>1</td>\n",
       "      <td>92</td>\n",
       "    </tr>\n",
       "    <tr>\n",
       "      <th>2</th>\n",
       "      <td>2</td>\n",
       "      <td>294</td>\n",
       "    </tr>\n",
       "    <tr>\n",
       "      <th>3</th>\n",
       "      <td>3</td>\n",
       "      <td>10</td>\n",
       "    </tr>\n",
       "    <tr>\n",
       "      <th>4</th>\n",
       "      <td>4</td>\n",
       "      <td>37</td>\n",
       "    </tr>\n",
       "  </tbody>\n",
       "</table>\n",
       "</div>"
      ],
      "text/plain": [
       "   predict  counts\n",
       "0        0     197\n",
       "1        1      92\n",
       "2        2     294\n",
       "3        3      10\n",
       "4        4      37"
      ]
     },
     "execution_count": 16,
     "metadata": {},
     "output_type": "execute_result"
    }
   ],
   "source": [
    "cluster=music.groupby('predict').size().reset_index(name='counts')\n",
    "cluster.head()"
   ]
  },
  {
   "cell_type": "code",
   "execution_count": 11,
   "metadata": {},
   "outputs": [
    {
     "data": {
      "text/html": [
       "<div>\n",
       "<style scoped>\n",
       "    .dataframe tbody tr th:only-of-type {\n",
       "        vertical-align: middle;\n",
       "    }\n",
       "\n",
       "    .dataframe tbody tr th {\n",
       "        vertical-align: top;\n",
       "    }\n",
       "\n",
       "    .dataframe thead th {\n",
       "        text-align: right;\n",
       "    }\n",
       "</style>\n",
       "<table border=\"1\" class=\"dataframe\">\n",
       "  <thead>\n",
       "    <tr style=\"text-align: right;\">\n",
       "      <th></th>\n",
       "      <th>track_id</th>\n",
       "      <th>duration</th>\n",
       "      <th>loudness</th>\n",
       "      <th>tempo</th>\n",
       "      <th>artist_hotness</th>\n",
       "      <th>key_confidence</th>\n",
       "      <th>mode_confidence</th>\n",
       "      <th>artist_id</th>\n",
       "    </tr>\n",
       "  </thead>\n",
       "  <tbody>\n",
       "    <tr>\n",
       "      <th>0</th>\n",
       "      <td>b'TRAAAAW128F429D538'</td>\n",
       "      <td>218.93179</td>\n",
       "      <td>-11.197</td>\n",
       "      <td>92.198</td>\n",
       "      <td>0.401998</td>\n",
       "      <td>0.736</td>\n",
       "      <td>0.636</td>\n",
       "      <td>b'ARD7TVE1187B99BFB1'</td>\n",
       "    </tr>\n",
       "    <tr>\n",
       "      <th>1</th>\n",
       "      <td>b'TRAAABD128F429CF47'</td>\n",
       "      <td>148.03546</td>\n",
       "      <td>-9.843</td>\n",
       "      <td>121.274</td>\n",
       "      <td>0.417500</td>\n",
       "      <td>0.169</td>\n",
       "      <td>0.430</td>\n",
       "      <td>b'ARMJAGH1187FB546F3'</td>\n",
       "    </tr>\n",
       "    <tr>\n",
       "      <th>2</th>\n",
       "      <td>b'TRAAADZ128F9348C2E'</td>\n",
       "      <td>177.47546</td>\n",
       "      <td>-9.689</td>\n",
       "      <td>100.070</td>\n",
       "      <td>0.343428</td>\n",
       "      <td>0.643</td>\n",
       "      <td>0.565</td>\n",
       "      <td>b'ARKRRTF1187B9984DA'</td>\n",
       "    </tr>\n",
       "    <tr>\n",
       "      <th>3</th>\n",
       "      <td>b'TRAAAEF128F4273421'</td>\n",
       "      <td>233.40363</td>\n",
       "      <td>-9.013</td>\n",
       "      <td>119.293</td>\n",
       "      <td>0.454231</td>\n",
       "      <td>0.751</td>\n",
       "      <td>0.749</td>\n",
       "      <td>b'AR7G5I41187FB4CE6C'</td>\n",
       "    </tr>\n",
       "    <tr>\n",
       "      <th>4</th>\n",
       "      <td>b'TRAAAFD128F92F423A'</td>\n",
       "      <td>209.60608</td>\n",
       "      <td>-4.501</td>\n",
       "      <td>129.738</td>\n",
       "      <td>0.401724</td>\n",
       "      <td>0.092</td>\n",
       "      <td>0.371</td>\n",
       "      <td>b'ARXR32B1187FB57099'</td>\n",
       "    </tr>\n",
       "  </tbody>\n",
       "</table>\n",
       "</div>"
      ],
      "text/plain": [
       "                track_id   duration  loudness    tempo  artist_hotness  \\\n",
       "0  b'TRAAAAW128F429D538'  218.93179   -11.197   92.198        0.401998   \n",
       "1  b'TRAAABD128F429CF47'  148.03546    -9.843  121.274        0.417500   \n",
       "2  b'TRAAADZ128F9348C2E'  177.47546    -9.689  100.070        0.343428   \n",
       "3  b'TRAAAEF128F4273421'  233.40363    -9.013  119.293        0.454231   \n",
       "4  b'TRAAAFD128F92F423A'  209.60608    -4.501  129.738        0.401724   \n",
       "\n",
       "   key_confidence  mode_confidence              artist_id  \n",
       "0           0.736            0.636  b'ARD7TVE1187B99BFB1'  \n",
       "1           0.169            0.430  b'ARMJAGH1187FB546F3'  \n",
       "2           0.643            0.565  b'ARKRRTF1187B9984DA'  \n",
       "3           0.751            0.749  b'AR7G5I41187FB4CE6C'  \n",
       "4           0.092            0.371  b'ARXR32B1187FB57099'  "
      ]
     },
     "execution_count": 11,
     "metadata": {},
     "output_type": "execute_result"
    }
   ],
   "source": [
    "df_music.head()"
   ]
  },
  {
   "cell_type": "code",
<<<<<<< HEAD
   "execution_count": 14,
   "metadata": {},
=======
   "execution_count": 6,
   "metadata": {
    "collapsed": true
   },
>>>>>>> 4347e445bb72a37c772c0e7b99cfc9060d816738
   "outputs": [],
   "source": [
    "from scipy import spatial\n",
    " \n",
    "def cosine_similarity(x, y):\n",
    "    return(1 - spatial.distance.cosine(x, y))"
   ]
  },
  {
   "cell_type": "code",
   "execution_count": 37,
   "metadata": {
    "collapsed": true
   },
   "outputs": [],
   "source": [
    "#the input is the dataframe of track_id with their whole features\n",
    "def get_feature_list(df):\n",
    "    df_new = df[['track_id']].copy()\n",
    "    df_new['feature_list'] = df[['duration','loudness','tempo','artist_hotness','key_confidence','mode_confidence']].values.tolist()\n",
    "    return df_new"
   ]
  },
  {
   "cell_type": "code",
   "execution_count": 73,
   "metadata": {},
   "outputs": [
    {
     "data": {
      "text/html": [
       "<div>\n",
       "<style scoped>\n",
       "    .dataframe tbody tr th:only-of-type {\n",
       "        vertical-align: middle;\n",
       "    }\n",
       "\n",
       "    .dataframe tbody tr th {\n",
       "        vertical-align: top;\n",
       "    }\n",
       "\n",
       "    .dataframe thead th {\n",
       "        text-align: right;\n",
       "    }\n",
       "</style>\n",
       "<table border=\"1\" class=\"dataframe\">\n",
       "  <thead>\n",
       "    <tr style=\"text-align: right;\">\n",
       "      <th></th>\n",
       "      <th>track_id</th>\n",
       "      <th>feature_list</th>\n",
       "    </tr>\n",
       "  </thead>\n",
       "  <tbody>\n",
       "    <tr>\n",
       "      <th>0</th>\n",
       "      <td>b'TRAAAAW128F429D538'</td>\n",
       "      <td>[218.93178999999998, -11.197000000000001, 92.1...</td>\n",
       "    </tr>\n",
       "    <tr>\n",
       "      <th>1</th>\n",
       "      <td>b'TRAAABD128F429CF47'</td>\n",
       "      <td>[148.03546, -9.843, 121.274, 0.417499644970978...</td>\n",
       "    </tr>\n",
       "    <tr>\n",
       "      <th>2</th>\n",
       "      <td>b'TRAAADZ128F9348C2E'</td>\n",
       "      <td>[177.47546, -9.689, 100.07, 0.3434283782968824...</td>\n",
       "    </tr>\n",
       "    <tr>\n",
       "      <th>3</th>\n",
       "      <td>b'TRAAAEF128F4273421'</td>\n",
       "      <td>[233.40363, -9.013, 119.29299999999999, 0.4542...</td>\n",
       "    </tr>\n",
       "    <tr>\n",
       "      <th>4</th>\n",
       "      <td>b'TRAAAFD128F92F423A'</td>\n",
       "      <td>[209.60608, -4.501, 129.738, 0.401723685503678...</td>\n",
       "    </tr>\n",
       "  </tbody>\n",
       "</table>\n",
       "</div>"
      ],
      "text/plain": [
       "                track_id                                       feature_list\n",
       "0  b'TRAAAAW128F429D538'  [218.93178999999998, -11.197000000000001, 92.1...\n",
       "1  b'TRAAABD128F429CF47'  [148.03546, -9.843, 121.274, 0.417499644970978...\n",
       "2  b'TRAAADZ128F9348C2E'  [177.47546, -9.689, 100.07, 0.3434283782968824...\n",
       "3  b'TRAAAEF128F4273421'  [233.40363, -9.013, 119.29299999999999, 0.4542...\n",
       "4  b'TRAAAFD128F92F423A'  [209.60608, -4.501, 129.738, 0.401723685503678..."
      ]
     },
     "execution_count": 73,
     "metadata": {},
     "output_type": "execute_result"
    }
   ],
   "source": [
    "df_featurelist= get_feature_list(df_music)\n",
    "df_featurelist.head()"
   ]
  },
  {
   "cell_type": "code",
   "execution_count": 74,
   "metadata": {
    "collapsed": true
   },
   "outputs": [],
   "source": [
    "df_featurelist.to_csv('track_feature_list.csv', sep=',',index=False)"
   ]
  },
  {
   "cell_type": "code",
<<<<<<< HEAD
   "execution_count": 10,
=======
   "execution_count": 3,
>>>>>>> 4347e445bb72a37c772c0e7b99cfc9060d816738
   "metadata": {},
   "outputs": [
    {
     "data": {
      "text/html": [
       "<div>\n",
       "<style>\n",
       "    .dataframe thead tr:only-child th {\n",
       "        text-align: right;\n",
       "    }\n",
       "\n",
       "    .dataframe thead th {\n",
       "        text-align: left;\n",
       "    }\n",
       "\n",
       "    .dataframe tbody tr th {\n",
       "        vertical-align: top;\n",
       "    }\n",
       "</style>\n",
       "<table border=\"1\" class=\"dataframe\">\n",
       "  <thead>\n",
       "    <tr style=\"text-align: right;\">\n",
       "      <th></th>\n",
       "      <th>track_id</th>\n",
       "      <th>feature_list</th>\n",
       "    </tr>\n",
       "  </thead>\n",
       "  <tbody>\n",
       "    <tr>\n",
       "      <th>0</th>\n",
       "      <td>b'TRAAAAW128F429D538'</td>\n",
       "      <td>[218.93178999999998, -11.197000000000001, 92.1...</td>\n",
       "    </tr>\n",
       "    <tr>\n",
       "      <th>1</th>\n",
       "      <td>b'TRAAABD128F429CF47'</td>\n",
       "      <td>[148.03546, -9.843, 121.274, 0.417499644970978...</td>\n",
       "    </tr>\n",
       "    <tr>\n",
       "      <th>2</th>\n",
       "      <td>b'TRAAADZ128F9348C2E'</td>\n",
       "      <td>[177.47546, -9.689, 100.07, 0.3434283782968824...</td>\n",
       "    </tr>\n",
       "    <tr>\n",
       "      <th>3</th>\n",
       "      <td>b'TRAAAEF128F4273421'</td>\n",
       "      <td>[233.40363, -9.013, 119.29299999999999, 0.4542...</td>\n",
       "    </tr>\n",
       "    <tr>\n",
       "      <th>4</th>\n",
       "      <td>b'TRAAAFD128F92F423A'</td>\n",
       "      <td>[209.60608, -4.501, 129.738, 0.401723685503678...</td>\n",
       "    </tr>\n",
       "  </tbody>\n",
       "</table>\n",
       "</div>"
      ],
      "text/plain": [
       "                track_id                                       feature_list\n",
       "0  b'TRAAAAW128F429D538'  [218.93178999999998, -11.197000000000001, 92.1...\n",
       "1  b'TRAAABD128F429CF47'  [148.03546, -9.843, 121.274, 0.417499644970978...\n",
       "2  b'TRAAADZ128F9348C2E'  [177.47546, -9.689, 100.07, 0.3434283782968824...\n",
       "3  b'TRAAAEF128F4273421'  [233.40363, -9.013, 119.29299999999999, 0.4542...\n",
       "4  b'TRAAAFD128F92F423A'  [209.60608, -4.501, 129.738, 0.401723685503678..."
      ]
     },
<<<<<<< HEAD
     "execution_count": 10,
=======
     "execution_count": 3,
>>>>>>> 4347e445bb72a37c772c0e7b99cfc9060d816738
     "metadata": {},
     "output_type": "execute_result"
    }
   ],
   "source": [
    "df_featurelist = pd.read_csv(\"track_feature_list.csv\")\n",
    "df_featurelist.head()"
   ]
  },
  {
   "cell_type": "code",
<<<<<<< HEAD
   "execution_count": 16,
=======
   "execution_count": 9,
>>>>>>> 4347e445bb72a37c772c0e7b99cfc9060d816738
   "metadata": {},
   "outputs": [],
   "source": [
    "#df_cluster: the dataframe for track cluster assignment\n",
    "#df_featurelist: the dataframe with the track_id and feature list\n",
    "#cluster_id: needed retrieving cluster\n",
    "#track_id: needed track from that cluster\n",
    "#sim_number: get this top number of similartiy songs to return\n",
    "import ast\n",
    "\n",
    "def get_similar_song(df_cluster, df_featurelist, cluster_id, track, sim_number):\n",
    "    track_list = list(df_cluster[df_cluster.predict==cluster_id].track_id)\n",
    "    df_selected = pd.DataFrame(columns=['track_id','sim_score'])\n",
    "    selected_track=df_featurelist[df_featurelist['track_id']== track].feature_list.item()\n",
    "    selected_track=ast.literal_eval(selected_track)\n",
    "    sim_score_list = []\n",
    "    if track not in track_list:\n",
    "        print(\"ERROR: \",track, \"is not in cluster\", cluster_id) \n",
    "        return\n",
    "    else:\n",
    "        for i in track_list:\n",
    "            other_track=ast.literal_eval(df_featurelist[df_featurelist['track_id']== i].feature_list.item())\n",
    "            sim_score_list.append(cosine_similarity(selected_track,other_track))\n",
    "    df_selected['track_id']=track_list\n",
    "    df_selected['sim_score']=sim_score_list\n",
    "    \n",
    "    df_sorted = df_selected.sort_values(by=['sim_score'], ascending=False)\n",
    "    plus_itself=sim_number+1\n",
    "    df_wanted = df_sorted.iloc[:plus_itself,:]\n",
    "    \n",
    "    return df_wanted\n",
    "   "
   ]
  },
  {
   "cell_type": "code",
<<<<<<< HEAD
   "execution_count": 17,
=======
   "execution_count": 10,
>>>>>>> 4347e445bb72a37c772c0e7b99cfc9060d816738
   "metadata": {},
   "outputs": [
    {
     "data": {
      "text/html": [
       "<div>\n",
       "<style>\n",
       "    .dataframe thead tr:only-child th {\n",
       "        text-align: right;\n",
       "    }\n",
       "\n",
       "    .dataframe thead th {\n",
       "        text-align: left;\n",
       "    }\n",
       "\n",
       "    .dataframe tbody tr th {\n",
       "        vertical-align: top;\n",
       "    }\n",
       "</style>\n",
       "<table border=\"1\" class=\"dataframe\">\n",
       "  <thead>\n",
       "    <tr style=\"text-align: right;\">\n",
       "      <th></th>\n",
       "      <th>track_id</th>\n",
       "      <th>sim_score</th>\n",
       "    </tr>\n",
       "  </thead>\n",
       "  <tbody>\n",
       "    <tr>\n",
       "      <th>0</th>\n",
       "      <td>b'TRADVJK12903CC7D31'</td>\n",
       "      <td>1.000000</td>\n",
       "    </tr>\n",
       "    <tr>\n",
       "      <th>4</th>\n",
       "      <td>b'TRAMGZV128F426FAB3'</td>\n",
       "      <td>0.999967</td>\n",
       "    </tr>\n",
       "    <tr>\n",
       "      <th>5</th>\n",
       "      <td>b'TRANOPO128F4217958'</td>\n",
       "      <td>0.999904</td>\n",
       "    </tr>\n",
       "    <tr>\n",
       "      <th>2</th>\n",
       "      <td>b'TRAGEHE128F423E5A1'</td>\n",
       "      <td>0.999879</td>\n",
       "    </tr>\n",
       "    <tr>\n",
       "      <th>8</th>\n",
       "      <td>b'TRBGNVA128F92F6C7A'</td>\n",
       "      <td>0.999855</td>\n",
       "    </tr>\n",
       "    <tr>\n",
       "      <th>7</th>\n",
       "      <td>b'TRBBWKS128F424E84A'</td>\n",
       "      <td>0.999571</td>\n",
       "    </tr>\n",
       "  </tbody>\n",
       "</table>\n",
       "</div>"
      ],
      "text/plain": [
       "                track_id  sim_score\n",
       "0  b'TRADVJK12903CC7D31'   1.000000\n",
       "4  b'TRAMGZV128F426FAB3'   0.999967\n",
       "5  b'TRANOPO128F4217958'   0.999904\n",
       "2  b'TRAGEHE128F423E5A1'   0.999879\n",
       "8  b'TRBGNVA128F92F6C7A'   0.999855\n",
       "7  b'TRBBWKS128F424E84A'   0.999571"
      ]
     },
<<<<<<< HEAD
     "execution_count": 17,
=======
     "execution_count": 10,
>>>>>>> 4347e445bb72a37c772c0e7b99cfc9060d816738
     "metadata": {},
     "output_type": "execute_result"
    }
   ],
   "source": [
    "df=get_similar_song(music_cluster, df_featurelist, 3, \"b'TRADVJK12903CC7D31'\", 5)\n",
    "df"
   ]
  },
  {
   "cell_type": "code",
   "execution_count": 189,
   "metadata": {},
   "outputs": [
    {
     "name": "stdout",
     "output_type": "stream",
     "text": [
      "b'TRADVJK12903CC7D31'\n",
      "b'TRAGCMO12903CE20CD'\n",
      "b'TRAGEHE128F423E5A1'\n",
      "b'TRAMEQB128F42710BB'\n",
      "b'TRAMGZV128F426FAB3'\n",
      "b'TRANOPO128F4217958'\n",
      "b'TRAVTPJ128F4265425'\n",
      "b'TRBBWKS128F424E84A'\n",
      "b'TRBGNVA128F92F6C7A'\n",
      "b'TRBHMFA128F148DC24'\n"
     ]
    }
   ],
   "source": [
    "testlist=list(music_cluster[music_cluster.predict==3].track_id)\n",
    "for i in testlist:\n",
    "    print(i)"
   ]
  },
  {
   "cell_type": "code",
   "execution_count": null,
   "metadata": {
    "collapsed": true
   },
   "outputs": [],
   "source": []
  }
 ],
 "metadata": {
  "kernelspec": {
   "display_name": "Python 3",
   "language": "python",
   "name": "python3"
  },
  "language_info": {
   "codemirror_mode": {
    "name": "ipython",
    "version": 3
   },
   "file_extension": ".py",
   "mimetype": "text/x-python",
   "name": "python",
   "nbconvert_exporter": "python",
   "pygments_lexer": "ipython3",
   "version": "3.6.6"
  }
 },
 "nbformat": 4,
 "nbformat_minor": 2
}
