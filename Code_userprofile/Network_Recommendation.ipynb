{
 "cells": [
  {
   "cell_type": "code",
   "execution_count": 2,
   "metadata": {
    "collapsed": true
   },
   "outputs": [],
   "source": [
    "import pandas as pd\n",
    "import numpy as np\n",
    "import time\n",
    "import sklearn\n",
    "from sklearn.linear_model import LinearRegression\n",
    "from sklearn.metrics.pairwise import cosine_similarity\n",
    "from sklearn.metrics import pairwise_distances\n",
    "from scipy import sparse\n",
    "from sklearn import preprocessing\n",
    "import matplotlib.pyplot as plt\n",
    "import seaborn as sns\n",
    "from sklearn import preprocessing\n",
    "from collections import Counter\n",
    "import pickle\n",
    "import ast\n",
    "import networkx as nx\n",
    "from networkx.algorithms import bipartite\n",
    "import random"
   ]
  },
  {
   "cell_type": "code",
   "execution_count": 3,
   "metadata": {
    "collapsed": true
   },
   "outputs": [],
   "source": [
    "def save_obj(obj, name ):\n",
    "    with open('/Users/Mengying/Desktop/Networks/Project/MSD/Data_userprofile/'+ name + '.pkl', 'wb') as f:\n",
    "        pickle.dump(obj, f, pickle.HIGHEST_PROTOCOL)\n",
    "\n",
    "def load_obj(name ):\n",
    "    with open('/Users/Mengying/Desktop/Networks/Project/MSD/Data_userprofile/' + name + '.pkl', 'rb') as f:\n",
    "        return pickle.load(f)"
   ]
  },
  {
   "cell_type": "code",
   "execution_count": 5,
   "metadata": {},
   "outputs": [],
   "source": [
    "train = pd.read_csv('/Users/Mengying/Desktop/Networks/Project/MSD/Data_userprofile/train.csv')\n",
    "test_cluster_batch = pd.read_csv('/Users/Mengying/Desktop/Networks/Project/MSD/Data_userprofile/test_cluster_batch.csv')\n",
    "train_clustered = pd.read_csv('/Users/Mengying/Desktop/Networks/Project/MSD/Data_userprofile/train_clustered.csv')\n",
    "\n",
    "users_dict = load_obj('users_dict')\n",
    "tracks_dict = load_obj('tracks_dict')\n",
    "clusters_dict = load_obj('clusters_dict')"
   ]
  },
  {
   "cell_type": "code",
   "execution_count": 6,
   "metadata": {
    "collapsed": true
   },
   "outputs": [],
   "source": [
    "test_mini = test_cluster_batch[test_cluster_batch['CF']!=-99] #877"
   ]
  },
  {
   "cell_type": "code",
   "execution_count": 208,
   "metadata": {},
   "outputs": [
    {
     "data": {
      "text/html": [
       "<div>\n",
       "<style>\n",
       "    .dataframe thead tr:only-child th {\n",
       "        text-align: right;\n",
       "    }\n",
       "\n",
       "    .dataframe thead th {\n",
       "        text-align: left;\n",
       "    }\n",
       "\n",
       "    .dataframe tbody tr th {\n",
       "        vertical-align: top;\n",
       "    }\n",
       "</style>\n",
       "<table border=\"1\" class=\"dataframe\">\n",
       "  <thead>\n",
       "    <tr style=\"text-align: right;\">\n",
       "      <th></th>\n",
       "      <th>user</th>\n",
       "      <th>count</th>\n",
       "      <th>track_id</th>\n",
       "      <th>song_id</th>\n",
       "      <th>artist</th>\n",
       "      <th>song_y</th>\n",
       "      <th>duration</th>\n",
       "      <th>loudness</th>\n",
       "      <th>tempo</th>\n",
       "      <th>song_hotness</th>\n",
       "      <th>...</th>\n",
       "      <th>artist_tag</th>\n",
       "      <th>predict</th>\n",
       "      <th>CF</th>\n",
       "      <th>dummy</th>\n",
       "      <th>like</th>\n",
       "      <th>CF_raw</th>\n",
       "      <th>SONG_AVG</th>\n",
       "      <th>SONG_Q</th>\n",
       "      <th>track_label</th>\n",
       "      <th>user_label</th>\n",
       "    </tr>\n",
       "  </thead>\n",
       "  <tbody>\n",
       "    <tr>\n",
       "      <th>0</th>\n",
       "      <td>82ef16cb5e45c1afe71979afcc6dbae8fdd36aeb</td>\n",
       "      <td>8</td>\n",
       "      <td>TRBDQUF128F42AE54C</td>\n",
       "      <td>SOBBFWL12A8C140087</td>\n",
       "      <td>Daler Mehndi;Chitra</td>\n",
       "      <td>Rang De Basanti</td>\n",
       "      <td>363.80689</td>\n",
       "      <td>-7.403</td>\n",
       "      <td>105.026</td>\n",
       "      <td>0.363686</td>\n",
       "      <td>...</td>\n",
       "      <td>[b'singer' b'dancer' b'indian']</td>\n",
       "      <td>49</td>\n",
       "      <td>2.0</td>\n",
       "      <td>0</td>\n",
       "      <td>2</td>\n",
       "      <td>9.616318</td>\n",
       "      <td>8.628472</td>\n",
       "      <td>5.0</td>\n",
       "      <td>2920</td>\n",
       "      <td>63564</td>\n",
       "    </tr>\n",
       "  </tbody>\n",
       "</table>\n",
       "<p>1 rows × 25 columns</p>\n",
       "</div>"
      ],
      "text/plain": [
       "                                       user  count            track_id  \\\n",
       "0  82ef16cb5e45c1afe71979afcc6dbae8fdd36aeb      8  TRBDQUF128F42AE54C   \n",
       "\n",
       "              song_id               artist           song_y   duration  \\\n",
       "0  SOBBFWL12A8C140087  Daler Mehndi;Chitra  Rang De Basanti  363.80689   \n",
       "\n",
       "   loudness    tempo  song_hotness     ...      \\\n",
       "0    -7.403  105.026      0.363686     ...       \n",
       "\n",
       "                        artist_tag  predict   CF  dummy like    CF_raw  \\\n",
       "0  [b'singer' b'dancer' b'indian']       49  2.0      0    2  9.616318   \n",
       "\n",
       "   SONG_AVG  SONG_Q  track_label  user_label  \n",
       "0  8.628472     5.0         2920       63564  \n",
       "\n",
       "[1 rows x 25 columns]"
      ]
     },
     "execution_count": 208,
     "metadata": {},
     "output_type": "execute_result"
    }
   ],
   "source": [
    "test_mini.head(1)"
   ]
  },
  {
   "cell_type": "code",
   "execution_count": 207,
   "metadata": {},
   "outputs": [
    {
     "data": {
      "text/plain": [
       "0.3055872291904219"
      ]
     },
     "execution_count": 207,
     "metadata": {},
     "output_type": "execute_result"
    }
   ],
   "source": [
    "len(test_mini[test_mini.like == test_mini.CF])/len(test_mini)"
   ]
  },
  {
   "cell_type": "code",
   "execution_count": 212,
   "metadata": {},
   "outputs": [
    {
     "data": {
      "text/plain": [
       "0.13112884834663627"
      ]
     },
     "execution_count": 212,
     "metadata": {},
     "output_type": "execute_result"
    }
   ],
   "source": [
    "len(test_mini[(test_mini.CF == test_mini.like) & (test_mini.CF==2)])/len(test_mini)"
   ]
  },
  {
   "cell_type": "code",
   "execution_count": 75,
   "metadata": {},
   "outputs": [
    {
     "data": {
      "text/plain": [
       "344"
      ]
     },
     "execution_count": 75,
     "metadata": {},
     "output_type": "execute_result"
    }
   ],
   "source": [
    "len(test_mini.track_id.unique()) #344"
   ]
  },
  {
   "cell_type": "code",
   "execution_count": 76,
   "metadata": {},
   "outputs": [
    {
     "data": {
      "text/plain": [
       "873"
      ]
     },
     "execution_count": 76,
     "metadata": {},
     "output_type": "execute_result"
    }
   ],
   "source": [
    "len(test_mini.user.unique()) # 873"
   ]
  },
  {
   "cell_type": "code",
   "execution_count": 7,
   "metadata": {
    "collapsed": true
   },
   "outputs": [],
   "source": [
    "test_user_history = set(train[train.user.isin(test_mini.user)]['track_id']) # 1910 history records"
   ]
  },
  {
   "cell_type": "code",
   "execution_count": 217,
   "metadata": {},
   "outputs": [
    {
     "data": {
      "text/plain": [
       "564"
      ]
     },
     "execution_count": 217,
     "metadata": {},
     "output_type": "execute_result"
    }
   ],
   "source": [
    "len(test_user_history)"
   ]
  },
  {
   "cell_type": "code",
   "execution_count": 8,
   "metadata": {
    "collapsed": true
   },
   "outputs": [],
   "source": [
    "all_songs = test_user_history|set(test_mini.track_id.values)"
   ]
  },
  {
   "cell_type": "code",
   "execution_count": 214,
   "metadata": {},
   "outputs": [
    {
     "data": {
      "text/plain": [
       "691"
      ]
     },
     "execution_count": 214,
     "metadata": {},
     "output_type": "execute_result"
    }
   ],
   "source": [
    "len(all_songs)"
   ]
  },
  {
   "cell_type": "code",
   "execution_count": 9,
   "metadata": {
    "collapsed": true
   },
   "outputs": [],
   "source": [
    "# users that have listened to test data songs\n",
    "train['_flag'] = train.apply(lambda x: 1 if x['track_id'] in set(test_mini['track_id']) else 0,axis=1)\n",
    "train['_flag'] = train.groupby([\"user\"])[\"_flag\"].transform('sum')\n",
    "filtered_train = train[train['_flag']>=1]\n",
    "\n",
    "# users that have listened to test_user_history\n",
    "train['_flag2'] = train.apply(lambda x: 1 if x['track_id'] in  test_user_history else 0,axis=1)\n",
    "train['_flag2'] = train.groupby([\"user\"])[\"_flag2\"].transform('sum')\n",
    "filtered_train2 = train[train['_flag2']>=1] "
   ]
  },
  {
   "cell_type": "code",
   "execution_count": 10,
   "metadata": {},
   "outputs": [],
   "source": [
    "valuable_user = set(filtered_train2.user.values)&set(filtered_train.user.values) # listened to both"
   ]
  },
  {
   "cell_type": "code",
   "execution_count": 181,
   "metadata": {},
   "outputs": [
    {
     "data": {
      "text/plain": [
       "105986"
      ]
     },
     "execution_count": 181,
     "metadata": {},
     "output_type": "execute_result"
    }
   ],
   "source": [
    "len(valuable_user)"
   ]
  },
  {
   "cell_type": "code",
   "execution_count": 12,
   "metadata": {
    "collapsed": true
   },
   "outputs": [],
   "source": [
    "all_users = set(valuable_user)"
   ]
  },
  {
   "cell_type": "code",
   "execution_count": 13,
   "metadata": {},
   "outputs": [],
   "source": [
    "train_mini = train[(train.track_id.isin(all_songs)) & (train.user.isin(all_users))] # 286,480"
   ]
  },
  {
   "cell_type": "code",
   "execution_count": 14,
   "metadata": {},
   "outputs": [
    {
     "data": {
      "text/plain": [
       "(286480, 22)"
      ]
     },
     "execution_count": 14,
     "metadata": {},
     "output_type": "execute_result"
    }
   ],
   "source": [
    "train_mini.shape"
   ]
  },
  {
   "cell_type": "code",
   "execution_count": 15,
   "metadata": {},
   "outputs": [
    {
     "data": {
      "text/plain": [
       "286480"
      ]
     },
     "execution_count": 15,
     "metadata": {},
     "output_type": "execute_result"
    }
   ],
   "source": [
    "history = list(zip(train_mini.user.values,train_mini.track_id.values))\n",
    "len(history)"
   ]
  },
  {
   "cell_type": "code",
   "execution_count": 16,
   "metadata": {
    "collapsed": true
   },
   "outputs": [],
   "source": [
    "# Bipariate\n",
    "B = nx.Graph()\n",
    "B.add_nodes_from(train_mini.user.values, bipartite=0) # user\n",
    "B.add_nodes_from(train_mini.track_id.values, bipartite=1) # song\n",
    "# Add edges only between nodes of opposite node sets\n",
    "B.add_edges_from(history)"
   ]
  },
  {
   "cell_type": "code",
   "execution_count": 172,
   "metadata": {},
   "outputs": [
    {
     "data": {
      "text/plain": [
       "6296"
      ]
     },
     "execution_count": 172,
     "metadata": {},
     "output_type": "execute_result"
    }
   ],
   "source": [
    "len(B.edges)"
   ]
  },
  {
   "cell_type": "code",
   "execution_count": 188,
   "metadata": {},
   "outputs": [
    {
     "data": {
      "text/plain": [
       "True"
      ]
     },
     "execution_count": 188,
     "metadata": {},
     "output_type": "execute_result"
    }
   ],
   "source": [
    "nx.is_connected(B)"
   ]
  },
  {
   "cell_type": "code",
   "execution_count": 17,
   "metadata": {},
   "outputs": [],
   "source": [
    "bottom_nodes, top_nodes = bipartite.sets(B)"
   ]
  },
  {
   "cell_type": "code",
   "execution_count": 190,
   "metadata": {},
   "outputs": [
    {
     "data": {
      "text/plain": [
       "105986"
      ]
     },
     "execution_count": 190,
     "metadata": {},
     "output_type": "execute_result"
    }
   ],
   "source": [
    "len(bottom_nodes)"
   ]
  },
  {
   "cell_type": "code",
   "execution_count": 18,
   "metadata": {},
   "outputs": [
    {
     "data": {
      "text/plain": [
       "690"
      ]
     },
     "execution_count": 18,
     "metadata": {},
     "output_type": "execute_result"
    }
   ],
   "source": [
    "len(top_nodes) # missing 1 song: nobody has listened to this plus some other songs in history"
   ]
  },
  {
   "cell_type": "code",
   "execution_count": 19,
   "metadata": {},
   "outputs": [],
   "source": [
    "# one mode projection\n",
    "projection = bipartite.weighted_projected_graph(B, top_nodes)"
   ]
  },
  {
   "cell_type": "code",
   "execution_count": 99,
   "metadata": {},
   "outputs": [
    {
     "name": "stderr",
     "output_type": "stream",
     "text": [
      "/anaconda3/envs/si618/lib/python3.6/site-packages/networkx/drawing/nx_pylab.py:565: MatplotlibDeprecationWarning: isinstance(..., numbers.Number)\n",
      "  if cb.is_numlike(alpha):\n"
     ]
    },
    {
     "data": {
      "image/png": "[encoded data removed]",
      "text/plain": [
       "<Figure size 432x288 with 1 Axes>"
      ]
     },
     "metadata": {},
     "output_type": "display_data"
    }
   ],
   "source": [
    "pos = nx.spring_layout(projection)\n",
    "\n",
    "nx.draw(projection, pos,node_color='#A0CBE2',node_size=100,\n",
    "        width=1, edge_color = \"#e0ebeb\", with_labels=False)\n",
    "plt.show()"
   ]
  },
  {
   "cell_type": "code",
   "execution_count": 195,
   "metadata": {
    "collapsed": true
   },
   "outputs": [
    {
     "name": "stderr",
     "output_type": "stream",
     "text": [
      "/anaconda3/envs/si618/lib/python3.6/site-packages/networkx/drawing/nx_pylab.py:565: MatplotlibDeprecationWarning: isinstance(..., numbers.Number)\n",
      "  if cb.is_numlike(alpha):\n"
     ]
    },
    {
     "data": {
      "image/png": "[encoded data removed]",
      "text/plain": [
       "<Figure size 432x288 with 1 Axes>"
      ]
     },
     "metadata": {},
     "output_type": "display_data"
    }
   ],
   "source": [
    "nx.draw_networkx(projection, with_labels=False)\n",
    "plt.show()"
   ]
  },
  {
   "cell_type": "code",
   "execution_count": 193,
   "metadata": {},
   "outputs": [
    {
     "data": {
      "text/plain": [
       "690"
      ]
     },
     "execution_count": 193,
     "metadata": {},
     "output_type": "execute_result"
    }
   ],
   "source": [
    "len(projection.nodes)"
   ]
  },
  {
   "cell_type": "code",
   "execution_count": 128,
   "metadata": {},
   "outputs": [
    {
     "data": {
      "text/plain": [
       "156"
      ]
     },
     "execution_count": 128,
     "metadata": {},
     "output_type": "execute_result"
    }
   ],
   "source": [
    "len(bottom_nodes)"
   ]
  },
  {
   "cell_type": "code",
   "execution_count": 194,
   "metadata": {
    "collapsed": true
   },
   "outputs": [
    {
     "data": {
      "text/plain": [
       "DegreeView({'TRANMKF128E07995A8': 239, 'TRATBNG128F92CADA8': 377, 'TRAPNQZ128F145B04E': 27, 'TRADXCO128F426B26D': 14, 'TRANWCP12903CF31D3': 18, 'TRAGETA128F4272C38': 36, 'TRAJNZF12903CB22A9': 194, 'TRAKHXX128E07877EB': 218, 'TRAPMTY128F1459DA1': 75, 'TRALKBS128F423BB4C': 101, 'TRACCJA128F149A144': 118, 'TRAJCOV128F92FDF3F': 3, 'TRBDIOP128EF35F99C': 280, 'TRAIGZU128F4236EB6': 190, 'TRBEQFT128F146BD6D': 249, 'TRAYQLP128F92FA224': 538, 'TRBDNDG128E0782EDC': 363, 'TRBCIDX128F422F215': 243, 'TRAUEYX12903CEAF48': 150, 'TRAXLPR128F428E466': 312, 'TRARJEM128F92E444D': 203, 'TRAXLIU128E07860D4': 195, 'TRAVYNN128F425EBBC': 188, 'TRBAMES128F14947D4': 21, 'TRAPVXU128F149E7CD': 312, 'TRAVYRR128F423C597': 98, 'TRAVXEP128F14539AE': 162, 'TRBEKNV128F9326A8A': 163, 'TRBHYTA128F93425AC': 195, 'TRAOOGD128F92E4768': 321, 'TRACTIE128F92E473B': 290, 'TRAWYNV128F92F5E7E': 306, 'TRAWEIX128F14B0F05': 313, 'TRAQEVV128EF34E413': 204, 'TRBFQII128F930D519': 21, 'TRBACGF128F92C5774': 218, 'TRAGNGY12903C9CD76': 84, 'TRBGELF128E07915B8': 90, 'TRBDIBC12903CE95C2': 2, 'TRBEGKI12903CBD34C': 35, 'TRASVOH12903CCDC0B': 480, 'TRBBEYU128F4235623': 252, 'TRBCIQL128F427C0AD': 24, 'TRABCKL128F423A778': 400, 'TRABVIZ128F42BA066': 474, 'TRAYPMR128E0785DD1': 155, 'TRARUTP128E0797FC7': 578, 'TRAYMKM128F4277046': 161, 'TRAXQUZ128F42B77BE': 8, 'TRAEUIW12903D018F0': 515, 'TRAEPZJ12903CB00C4': 18, 'TRACBOR128F422CFE4': 31, 'TRABNRG128F425E087': 126, 'TRBBECU128F931E67C': 271, 'TRAACCG128F92E8A55': 211, 'TRACFZI128E0795424': 303, 'TRADVNR12903CE5A54': 74, 'TRAAUEO128E0780CB9': 332, 'TRAJOPN128F423BEC3': 363, 'TRAUMIT128F424DA18': 285, 'TRBDSFP128E07937B9': 433, 'TRARCZH12903CF7D2F': 373, 'TRAZHAJ128F4289AE1': 57, 'TRAGFUR128E078B8B3': 199, 'TRAAFJW128F428A424': 342, 'TRAPCNK128F427D7B5': 322, 'TRAMCGL128F92F3D87': 379, 'TRBGRWH128F92E3551': 88, 'TRBAMLU128F146F6B2': 60, 'TRABTXS128F92E2FDC': 17, 'TRAZORC128F426C323': 425, 'TRADSQZ128F42707D7': 173, 'TRACKAP128F425B741': 57, 'TRBHKXX128F4252D02': 540, 'TRADYQK128F42A762A': 512, 'TRAAOTT128F14AE002': 23, 'TRARREF128F422FD96': 243, 'TRAVPHL128F424EAE1': 249, 'TRAHUGQ128F92FF08F': 64, 'TRBHFIF12903CF66F4': 43, 'TRARODV128F1460DBC': 143, 'TRBCMSO128F92E6AE5': 164, 'TRBARSX12903D03AE5': 192, 'TRBHJPQ128E078ED8F': 355, 'TRANIJQ128F4298A10': 311, 'TRBABJK128F93330A6': 163, 'TRAWLYS12903CCFEFC': 400, 'TRBAPZQ128F4240B93': 107, 'TRADVGV128F42BCACE': 90, 'TRAWBSZ128F4278C10': 226, 'TRAWJDS128F4262D92': 249, 'TRBDSWA128F92FE70A': 333, 'TRBEIKK128F14628D6': 118, 'TRBHFVD128F4248837': 179, 'TRAOXXW128F92E8C86': 50, 'TRBADZM12903CBCEA0': 18, 'TRBCJUF128F93190C2': 462, 'TRAOAYQ12903CFE05C': 336, 'TRAUVTO128F4297AA2': 16, 'TRAPTOE128F4272000': 450, 'TRANTFR128F931C7DA': 95, 'TRATBNY128F1485A4A': 117, 'TRACYXW128F4297569': 414, 'TRAWOPG128F92EF9A1': 311, 'TRALQZK128F429802D': 290, 'TRBFRFR128E0781C86': 291, 'TRARLGD128F93119C1': 335, 'TRABUSZ128F4257BAB': 236, 'TRAZASM128F932FBEE': 310, 'TRAZBRT128F9305CE3': 426, 'TRAREHS128F92F8E13': 32, 'TRACTHF128F4295A22': 130, 'TRAFTAM128F4294843': 206, 'TRACVSS128E07846A7': 107, 'TRALAZG128F93170BF': 53, 'TRBCSSE12903CBE261': 231, 'TRAFQJT12903CF4891': 190, 'TRBCJSZ128E07969B5': 348, 'TRAIWXX128F1461FE9': 213, 'TRBEYYM128F1493C56': 99, 'TRASPAS128E078DFB3': 383, 'TRBGITL12903CF2662': 18, 'TRAGVRD12903D09FED': 21, 'TRAJHHJ128F4279625': 42, 'TRAADYB128F92D7E73': 34, 'TRALSXX128F92F94B0': 283, 'TRADESF128F4214D8E': 392, 'TRADQHV128F92CD663': 45, 'TRALROP128F92CA9CC': 461, 'TRAUEVU128F42B7B0A': 64, 'TRAAQCK128F92E8C33': 326, 'TRAVWZA128F931F36E': 272, 'TRBFBAB128F4227B85': 208, 'TRASLGT12903CDFC6C': 140, 'TRAMMDO128E0781A5D': 59, 'TRAQQVR128F4255A3A': 408, 'TRBGKTM128F9315B5E': 62, 'TRAWFGF128E0792FE0': 112, 'TRAAQUC128F9322A82': 30, 'TRBDWDQ128F1455787': 38, 'TRBDTNY128F9327A10': 166, 'TRAHTOP128F429484D': 191, 'TRALTKQ128F932DA67': 195, 'TRBCMJT128F14B12CC': 346, 'TRBIFGK128F92F23A2': 517, 'TRACWBS128F932C993': 43, 'TRALGQH12903CD4922': 11, 'TRBCKEI128F92FE542': 81, 'TRANWOF12903CB3E19': 189, 'TRAWPNC128F92EAA90': 95, 'TRAFMNM128F4251008': 224, 'TRABKJU128F422A7FE': 240, 'TRBGTPK128F429E5D5': 196, 'TRANRWM128F42873F9': 116, 'TRBBUPS12903CFC938': 71, 'TRBIHKT128F4290554': 117, 'TRBCORE12903CD6FA0': 217, 'TRANMXY128F1489C65': 39, 'TRARSZV12903CDB2DE': 131, 'TRBCUPT128F1462B73': 362, 'TRAOYFS128F423E593': 258, 'TRBCANP128F92FA6B9': 329, 'TRASIKP128F423EED7': 163, 'TRAYABW128F4235888': 230, 'TRARCSJ12903CA71D8': 113, 'TRAATBN128F14ACE82': 67, 'TRAWRKT128E0788857': 501, 'TRANBUW128F933C645': 579, 'TRAVOHH128F4247EF9': 67, 'TRAWBHE12903CBC4CB': 595, 'TRAAMES128F42AF068': 431, 'TRAIUPS128F92F2825': 98, 'TRAVNVI128F4298D23': 70, 'TRAMBLO128F4287D24': 54, 'TRASTIS128F92FA998': 74, 'TRAJFQF128F92E354E': 81, 'TRANHYE128F92DE232': 369, 'TRAUWFN128F1462E09': 285, 'TRAXQZA128F1463DEB': 85, 'TRAVYVD128F4237876': 103, 'TRBEONB128EF3405E6': 282, 'TRAGLMS128F425FE0A': 42, 'TRARZBX12903CD70DA': 150, 'TRADOXP128F145C13A': 145, 'TRBBHUW128F429476F': 58, 'TRAITRS128F9308142': 107, 'TRAAEEH128E0795DFE': 430, 'TRAIZQI128F42A51F9': 229, 'TRBBNML12903CBD2B3': 48, 'TRBAMEV128F148C814': 133, 'TRAVWIP128E078FA3D': 10, 'TRAGJPA128F92F9665': 102, 'TRAPIKQ128E07951D4': 182, 'TRBAFWX12903CA9831': 40, 'TRBGGBF128F425E4D1': 371, 'TRANEMQ128F42A10A8': 15, 'TRANZPN128F934935A': 119, 'TRBCYOI128F1455566': 206, 'TRAEOFB12903CB7900': 251, 'TRAAGCZ128F93210FD': 495, 'TRAFTMA128F933A3D7': 128, 'TRARTEH128F423DBC1': 552, 'TRBDOFA128F427C09D': 339, 'TRBEEEP128F426C17D': 215, 'TRBCTBG128F42B7E1B': 32, 'TRAMMDM128F425EAA9': 129, 'TRAYUXO12903C99CBF': 324, 'TRAXBLJ128F92EEBB1': 272, 'TRAQHNX128E07822A7': 366, 'TRABRMZ128F4261DED': 189, 'TRADNBP128F932475B': 1, 'TRBEUMG128F422305C': 23, 'TRBDHSQ12903CDB3E8': 84, 'TRBHQAU128F9316C04': 35, 'TRAFHRS128F14599C0': 371, 'TRAEQPB128F1475024': 108, 'TRBIHAU128F425C317': 152, 'TRAXKLH128F4289138': 21, 'TRBDOVF128E0795641': 557, 'TRARPWX128F92CD69C': 34, 'TRAJHCO128F42570C1': 93, 'TRASDOI128F1480E28': 476, 'TRAGLZM128F931C995': 216, 'TRAEASY128F148247C': 182, 'TRAXEHW128F423E590': 68, 'TRAAKDG128F42A0ECB': 568, 'TRAKMUO128F4215890': 139, 'TRAQVTO128F14696A6': 426, 'TRAYDZH128C71967BC': 138, 'TRAURQM128F423C581': 67, 'TRAPFLR128F92FAB4D': 83, 'TRAGSGF128E0780CA7': 514, 'TRADKEU12903CF1540': 41, 'TRAKEUZ128E078BE99': 10, 'TRATBLI128F92F78F8': 386, 'TRAGPMS128F4248295': 126, 'TRAPHZT128F147A02B': 282, 'TRADZXK128F429DB92': 400, 'TRARDRX128F9325812': 72, 'TRACFAP128E07862C1': 122, 'TRBIJFB128F92ED124': 44, 'TRBAFIP128F42438D8': 55, 'TRAUOPE128EF367610': 506, 'TRAPIPG128F42521C6': 159, 'TRASRXK128F9311176': 462, 'TRARVDX128F424A397': 20, 'TRAPLSD128E0781A94': 288, 'TRAFJVH128F42BC25E': 68, 'TRBABHR12903CBCE9C': 25, 'TRAWMMI128F149CB27': 358, 'TRBCBXZ128F14628C3': 209, 'TRAAENC128F1451DE9': 12, 'TRAJZLM128F427CEB7': 210, 'TRBGPZX128F4285105': 31, 'TRBFQQY128F4249C56': 221, 'TRBEADA128F1455D45': 222, 'TRAXTSU128F4241835': 185, 'TRAVPOV128F429EC1B': 441, 'TRBCTRX128F4299237': 106, 'TRAUOEY128F421CBD3': 536, 'TRBBMDA12903CB688E': 6, 'TRARDOK128F9300AB5': 77, 'TRALXLX128E078D1B4': 226, 'TRBEATE128E078F0D8': 139, 'TRANONM128F92EAF7A': 258, 'TRAYANL128F9316BF9': 81, 'TRBDHKL128F426BE45': 444, 'TRAEQAB128F429C226': 262, 'TRAWCQE128F14676AC': 307, 'TRBFSNP128F14572B5': 47, 'TRAFUAM128F423640A': 10, 'TRAGBPI128E0792998': 356, 'TRAABLR128F423B7E3': 29, 'TRAQGNV128C7196894': 372, 'TRASBVS12903CF4537': 69, 'TRBDMFL128F145F691': 244, 'TRANSUM128F92E8DF3': 181, 'TRAKHYP128E0792F07': 101, 'TRBGWWM12903CCE627': 331, 'TRBGULP128F422F290': 244, 'TRBIIEU128F9307C88': 169, 'TRANRFB128F1481F1E': 244, 'TRALZUL128F4236D23': 153, 'TRBASRX12903C9FDA8': 455, 'TRBHLXQ128E07856AC': 480, 'TRAYPFH128E07937C3': 281, 'TRBGQAB128E07877E4': 391, 'TRAXBLT128F42A2099': 5, 'TRAIYZW128F9330F7D': 454, 'TRBGCAK128F425F3CC': 530, 'TRAVNUK128F92F274F': 105, 'TRAOMDT12903CF73C3': 19, 'TRAYSMW128F1468307': 176, 'TRAGJQZ128F9302ADA': 269, 'TRAQTKV128F427BFA5': 265, 'TRADODV128F4283EB6': 202, 'TRAMQEB128F9306B3A': 42, 'TRAXQDR128F4260194': 106, 'TRAMPHV12903CF952C': 11, 'TRBBHHP128EF365DA0': 50, 'TRAOWBP128F4257C64': 380, 'TRAHUQT128F4281228': 319, 'TRANUEV128F4282392': 407, 'TRBDUSM128F9339A13': 122, 'TRAFJIW128E078E1DE': 307, 'TRALDGU128F933DE63': 161, 'TRBHIRB128F1452ACC': 385, 'TRAGMXK128F9305A50': 148, 'TRBDEXM128F4291A7F': 13, 'TRAYKHZ128F145289F': 303, 'TRAGYMA128EF34B55E': 395, 'TRAWWHM128F9310FD7': 229, 'TRAXMAK128E07822CB': 87, 'TRAXRSK128F42B44D2': 486, 'TRBDUXD128F148328A': 309, 'TRAQKZA128F9306913': 13, 'TRAWDRR128F4285F57': 224, 'TRAPEHR128E0786D5A': 133, 'TRAEMTU128EF363016': 45, 'TRBBCVJ128F425BE2C': 302, 'TRAWKPT128E0795428': 77, 'TRACMTI128EF342A56': 78, 'TRABYVN128F429E5CF': 198, 'TRAVHCL128F93015C4': 152, 'TRBFLIP128E07897B4': 347, 'TRATDDF128F4294E6A': 58, 'TRARFQL128F931E523': 285, 'TRASAQI128F426EEA3': 240, 'TRAPUWG128EF3425E7': 313, 'TRALBOZ128F4251490': 256, 'TRBGUTI128E07872F0': 161, 'TRBGQAO128EF35A1AD': 229, 'TRBDRTN12903D021D9': 41, 'TRAEFOU128F932105B': 133, 'TRALZBV128F4250E60': 292, 'TRAHSPW128F149867A': 119, 'TRATIRE128F42A667F': 130, 'TRBEKGR128F425DA44': 236, 'TRAENVO128E0781A16': 210, 'TRBFXMJ12903CB50F6': 164, 'TRANASA12903D11452': 49, 'TRAICHS128E0785545': 362, 'TRAZVZJ128F92EF28A': 101, 'TRAMHIY128F427A892': 58, 'TRAKWUV128F42699BD': 131, 'TRACASH128F931C969': 70, 'TRANREH128F93462CF': 62, 'TRAMFJR128F92C1DB1': 240, 'TRASBSO128F1465A78': 214, 'TRASPCN128F92DE67E': 135, 'TRBAYJH128F427CA64': 223, 'TRBDUKK128F4241E90': 194, 'TRALJBT128F4266FD8': 247, 'TRBCVBK128E07813EC': 427, 'TRAADLN128F14832E9': 581, 'TRAWIQY12903CCC64A': 211, 'TRAKUJE128F42AE89C': 95, 'TRADBRI128F423BAED': 23, 'TRABUDK128F14943F3': 25, 'TRAADVH128EF34DE7A': 286, 'TRAMGPM128F9311196': 434, 'TRBGKGR128F92EE206': 192, 'TRANIZO128F9335764': 63, 'TRAZBYT128F93351CF': 80, 'TRALOBE12903CDA6C5': 184, 'TRBDMIN128F147FCBB': 445, 'TRAUSMF12903CE71E5': 20, 'TRBDEKV128F426BDAF': 53, 'TRAUVUF128F148D1AA': 359, 'TRAKLHO128F42BA554': 399, 'TRAUTTP128F425BDEB': 366, 'TRAOHNR128F428CD58': 272, 'TRAEVRI128F93608F3': 363, 'TRAUURC128E078EC6E': 368, 'TRAURHK12903CA60F8': 171, 'TRBGWRL128F9301CB9': 5, 'TRAMESI128F93509F7': 124, 'TRALQGZ128F146F500': 232, 'TRAESJK128E0792227': 142, 'TRAEHNA128F423786C': 107, 'TRAPGKY128F42972A9': 289, 'TRADZQV128F14A5760': 257, 'TRAWULX128F4291255': 104, 'TRAWMBE128F423A76C': 405, 'TRACTOP128F147AAE1': 92, 'TRBICGT128E0792473': 113, 'TRBAMLH128F9324758': 8, 'TRAZSCZ128F42554F4': 155, 'TRAHMWO128F42A2181': 78, 'TRAMKUA128F92ED3E1': 259, 'TRBAHBP128F42985D6': 221, 'TRAGNBQ128F149CB93': 336, 'TRAYJOF128F92F9EEA': 166, 'TRADGXI128F92EF28F': 115, 'TRAOTVH12903CA2DE6': 241, 'TRAWBOE128F92F2F46': 308, 'TRAGHJX128F426F76F': 122, 'TRAIJMG12903D08168': 32, 'TRAUCRP128F931364D': 120, 'TRANMOT128F92EFF19': 8, 'TRAPWMY128F4275285': 39, 'TRAZJGD128F4289D2A': 211, 'TRBAUVN128F932FEF8': 318, 'TRAXMNY12903CB5207': 206, 'TRBHZUN12903CA60F7': 173, 'TRAGQQK128F42561AB': 24, 'TRACYOV128F92CB613': 236, 'TRBFURI128F1455498': 299, 'TRAQDUR128F931B4E9': 282, 'TRAQEKD128F425293D': 86, 'TRAAQLJ128F428E870': 113, 'TRAVFEW128F92E2B47': 375, 'TRATQUI128F9347C68': 43, 'TRAMMQW128F42621E1': 153, 'TRAUVSF128F14A0B6F': 221, 'TRACMXG12903CA2541': 11, 'TRAVSVL128F14B12BE': 348, 'TRASPTN128F14B0EF2': 307, 'TRABCUQ128E0783E2B': 169, 'TRBEZEL128E079116D': 98, 'TRBGJDW128F4292EDB': 311, 'TRAUONA128F4255A38': 405, 'TRAFMPX128F4246C49': 164, 'TRAHVUK128F1456988': 206, 'TRADMAJ128F92F566E': 6, 'TRANJGM128F427A41B': 271, 'TRAMTYX128F42985D0': 256, 'TRBCGXN128F148C0CD': 24, 'TRANBMY128F426416A': 67, 'TRAVBSQ128EF344B3C': 233, 'TRAASQC128F93480F0': 294, 'TRAYWLI128F9300223': 275, 'TRBDQUF128F42AE54C': 174, 'TRBEDVH128F14599C7': 416, 'TRALMTD128E07862AC': 290, 'TRATQSL128F932E2ED': 155, 'TRAILKS128F14A3AC9': 208, 'TRAUXYC128F42A86E8': 22, 'TRAFLZY128F148959F': 96, 'TRARRQO128F427B5F5': 222, 'TRAUXSK128F427C58D': 77, 'TRBHLDQ128F423EF10': 519, 'TRAQRJO128F42B7B09': 371, 'TRBFVAA128F423C356': 214, 'TRAQYFL12903D138CF': 190, 'TRAIGNN128F9326AB4': 156, 'TRABKUJ128F4292445': 297, 'TRATKVY128EF35F97A': 481, 'TRBFXOQ128F426A061': 48, 'TRAPJFL128F42AA7B4': 155, 'TRAZGQQ128F4278C1A': 283, 'TRAUSHD128E0795347': 139, 'TRBCWQL12903D01904': 32, 'TRARNJN12903CE49F8': 7, 'TRABUMO12903CBE25F': 300, 'TRAOEFX128F4241203': 11, 'TRBGKOU128F148C6C6': 164, 'TRACTLX128F42A51F6': 309, 'TRAXDNU128F9341CDE': 20, 'TRATHTH128F42BC347': 528, 'TRBDIMX128F147A307': 29, 'TRAUTCA128F429B624': 57, 'TRBFKVH128F4262579': 401, 'TRAYZHZ12903CB576F': 10, 'TRANVZT128F42AE134': 186, 'TRAFYGO128F42727E7': 433, 'TRAUTPD128F92F1376': 296, 'TRANDHE128F9305CDA': 240, 'TRATTGW128F427A82D': 408, 'TRAFWEV128F428D391': 338, 'TRAJIKY128F932AD73': 158, 'TRAHEEY128F9335ECD': 81, 'TRARHCB128F148D1B0': 192, 'TRBGSAQ128F1470B41': 195, 'TRBBSGI128F9309855': 294, 'TRAQVJM128F9310F20': 139, 'TRAFKRE128F932002B': 127, 'TRAIYDL128E0791583': 306, 'TRATCLI128F422BCF8': 14, 'TRBCWOW128F1467692': 158, 'TRBFWFX128E079531B': 36, 'TRAAMFT128F93128AD': 104, 'TRALDUE128F9312AF2': 432, 'TRARPCK128F92FEA7F': 391, 'TRABQZK128F92F54F4': 421, 'TRBCWQC12903CA45DE': 204, 'TRAGLXF128E078703E': 268, 'TRAKCNI128F427BA71': 45, 'TRAOXSN128F4282FB5': 114, 'TRASWQE128F146C987': 111, 'TRAHVWT128F148D428': 1, 'TRAFSAP128E0780ECF': 289, 'TRAPNYN128F4277985': 59, 'TRALNJR128F145AC96': 367, 'TRAMMAF128F93051B0': 139, 'TRAPVDC128F422C711': 7, 'TRAHQBJ12903CAB1FA': 174, 'TRAEGBE128F4284973': 151, 'TRBDXIM128F427ABDA': 45, 'TRAZXDC128F429874E': 206, 'TRAURYF128F147805D': 610, 'TRAENOH128F933978A': 124, 'TRAEXHW128F92E2602': 164, 'TRBFIHG128F4289CF9': 97, 'TRAMZPZ128F4274ECC': 61, 'TRAQSWI128F9343039': 8, 'TRATGDS128F426A2E8': 18, 'TRAKQXJ128F147A028': 397, 'TRAPGOZ128F933A945': 122, 'TRAPUDN128F423B45C': 321, 'TRACECN128F9310E97': 505, 'TRBFDGT128E0786A25': 96, 'TRBEFQY128F932EE3F': 104, 'TRASQBA128F427B273': 231, 'TRBCFPP128E0781D6F': 345, 'TRAXGLQ12903CDBF13': 436, 'TRARMRC128F424317A': 155, 'TRAPKBI128F92F9D33': 290, 'TRADFOQ128F9335409': 92, 'TRAOATJ128F147FC9B': 126, 'TRABJWA128F9309C09': 116, 'TRASHPV128F4281CB1': 297, 'TRAGEVS128F145FEAD': 85, 'TRASSJE128F427927A': 193, 'TRAMWDI128F92FF678': 262, 'TRAUBDS128F931A703': 223, 'TRBALRR128F429625D': 374, 'TRAXLZU12903D05F94': 386, 'TRAKDMK128F92F9AFC': 76, 'TRAYOQF128F930FF35': 24, 'TRBHJAY128F14A9061': 162, 'TRBBJVD128E07826F3': 202, 'TRBEGHL128F92F76E8': 313, 'TRBCSPV128F4262DD7': 19, 'TRBBQGV12903CB5CD3': 348, 'TRATQII12903CC785F': 17, 'TRAKGWA128F9321155': 102, 'TRBAUHT128F92F0657': 357, 'TRBFNGV12903D0F07F': 203, 'TRAAFYL128E07856A7': 258, 'TRAJMZL12903CA4807': 201, 'TRBEVTM128F92FE2B2': 184, 'TRBHJJP128F145EA12': 72, 'TRAVRPL128F145E874': 40, 'TRBAMXF128F1470AD6': 437, 'TRARAAG128F42437FB': 67, 'TRASOWA128F427A1B6': 217, 'TRAIELD128F92DC682': 450, 'TRBIBLJ12903CCF436': 385, 'TRBDRIN128F9308ABF': 198, 'TRASSZI128F146EC5F': 341, 'TRAQRHA128F93001EB': 233, 'TRAZZQC128F427A0F5': 193, 'TRAONPF128F42480A7': 65, 'TRBDYEF128F423DC43': 86, 'TRAZCMR128F1462B51': 227, 'TRBIGRY128F42597B3': 162, 'TRACFXL128F930B28B': 312, 'TRBBAHD128F428E0FE': 116, 'TRBDYFY128F93330AA': 272, 'TRAZDPO128E078ECE6': 569, 'TRAVVZW12903CCEEE7': 347, 'TRAHOOP128F42B62AB': 55, 'TRAZZLJ128E07945F2': 253, 'TRAZCOX128F42B6555': 425, 'TRBECBM128F426AA34': 183, 'TRAMWIC128F92FCC79': 94, 'TRAPFIP128F42AC31E': 32, 'TRBFEID128F42368AC': 432, 'TRBBVBM128F4276D82': 72, 'TRAJIUK128F42668E6': 103, 'TRBFYJE128F14A8ABF': 291, 'TRAVKVC128F42671D3': 11, 'TRAAFON128F42926FB': 30, 'TRATIAH128F426B422': 322, 'TRBBQJZ128F92C5AF2': 30, 'TRAPTQA128F42341FA': 172, 'TRAKGVT128F4222A75': 12, 'TRAHFYH128F92CE223': 132, 'TRAELHH128F92CF21E': 143, 'TRBDMAU128F935960B': 35, 'TRAWCIC128F92FE36A': 397, 'TRANAUJ128E07860B0': 208, 'TRAWHYL128F42934D4': 153, 'TRBGKMB128F146E125': 119, 'TRAEOUE128F93187B9': 177, 'TRAIQDI128F92E8E1F': 178, 'TRBEZQO128F4287E04': 58, 'TRBBJAJ128F425DA40': 234, 'TRANTAD128F92FD042': 309, 'TRBHCXP128F146D63B': 24, 'TRBDZVP12903CC0089': 62, 'TRASHZB128E0791E81': 66, 'TRAJFDU128F426A5F4': 98, 'TRASBDT128F1470F0D': 19, 'TRBEERY128F4231A2E': 293, 'TRADTAV128F14B0F47': 99, 'TRBBQFV128F4252EFF': 423, 'TRAXUHM128E078900C': 206, 'TRAKGDA128F423CBC8': 138, 'TRAWLYF128F92D9EE0': 261, 'TRAFZRL128F428E465': 358, 'TRAWRPR12903CA9C97': 113, 'TRALSOA128F4275F49': 235, 'TRAVVBW128F42819B2': 281, 'TRANSKF128F147FCB4': 420, 'TRAKOEB128F1478783': 154, 'TRBDGNU128E078A4AF': 210, 'TRBHYIK128F92E210B': 274, 'TRADKAX128E0786B92': 373, 'TRASJMT128F9314118': 216, 'TRARTBH128F93087A4': 23, 'TRBBBOA128F42624DA': 83, 'TRAAIII128F427D5D8': 46, 'TRAOKXG128F4232497': 32, 'TRATZQS128F1467D4B': 258, 'TRAAAPK128E0786D96': 179, 'TRBCEON12903CEF0C9': 8, 'TRAMPCW128F92CC022': 168, 'TRAIVMM12903CFAD62': 556, 'TRASXYB128F428DFF3': 241, 'TRAMKDJ128F92F3D8B': 301, 'TRAYSMO128F9318E7C': 38, 'TRBHGVH128F148AD73': 128, 'TRALDDK128F9300AC5': 270, 'TRBCSDW128F424D686': 181, 'TRAWPFY128F428A9CD': 260, 'TRARKGW128F92EB8F9': 140, 'TRABLMN128E0792687': 335, 'TRAGZQD128F428E68B': 187, 'TRAPCHT128F4239830': 138, 'TRAKWTG128F42454E2': 19, 'TRADWAU128F145622F': 159, 'TRALNFM12903CCE7FA': 145, 'TRAPYML128F423DF98': 130, 'TRAKQHM128F92FFDCA': 45, 'TRALEPN128F9311179': 498, 'TRAVFPH128F42621EE': 159, 'TRBEGQC12903CAB228': 321, 'TRAEDYD128F425A868': 11, 'TRBBCFY128F9301C63': 8, 'TRBDMCC128F9358267': 132, 'TRANGQX128F422F1DE': 199, 'TRBIAHA128F42A4C9B': 259, 'TRADAZP12903D0A480': 139, 'TRAGANK128F428A5CD': 234, 'TRAXSUN128F426D36B': 84, 'TRALPXC128E07819A8': 165, 'TRAQFGR128EF34E7AF': 395, 'TRAWCXJ128F426F2B5': 30, 'TRAUAMA128C71965E5': 33, 'TRANKYM128F428B7A4': 171, 'TRBEBTR128F932CD6B': 25, 'TRABRMJ128E0780E42': 251, 'TRAKXMS12903CB36F2': 344, 'TRAHNVN128F933EBE8': 20, 'TRAPSJN128F422AF18': 88, 'TRAMOGA12903CB4421': 313, 'TRAQJMP128F92E3821': 473, 'TRBIBAQ128F93279F5': 189, 'TRADRJK128E078F041': 295, 'TRARMHA128F92E7D32': 418, 'TRAEIKW128F1456B1A': 39, 'TRBDNGV128EF3431B5': 151, 'TRAHYMJ128E0787801': 246, 'TRBBMHE128EF341D09': 469, 'TRAWPKO128F423841E': 375, 'TRAEWVG128F428AC7F': 409, 'TRBEBYV128F14A0B65': 278, 'TRAMCND128F1466ACF': 432, 'TRAYYIN12903CAD8C6': 278, 'TRACSTF128F4238A87': 128, 'TRALVNT128F931C4C6': 94, 'TRAOXJM128F4261E07': 182, 'TRBGRIP128F147FCA6': 249, 'TRAVHLR128F146B476': 315, 'TRAETTV12903CBBD09': 324, 'TRBAOJU128F42621E6': 182, 'TRAHQWU128F4277B78': 314, 'TRAESDC12903CCEA5E': 3, 'TRANDBY128F146E8CC': 289, 'TRBFVEP128F42621E3': 146, 'TRBDODQ128F423A780': 357, 'TRAUCNU128F42671EB': 278, 'TRAASGM128EF34DBB0': 107, 'TRAFAJC128E078888B': 324, 'TRAUJKJ128E078FA48': 462, 'TRAFTDN128F427C29D': 361, 'TRAWZJW128F42297EE': 22, 'TRARIRG128F147FC96': 223})"
      ]
     },
     "execution_count": 194,
     "metadata": {},
     "output_type": "execute_result"
    }
   ],
   "source": [
    "projection.degree()"
   ]
  },
  {
   "cell_type": "code",
   "execution_count": 229,
   "metadata": {
    "collapsed": true
   },
   "outputs": [
    {
     "data": {
      "text/plain": [
       "[1,\n",
       " 16,\n",
       " 2,\n",
       " 2,\n",
       " 1,\n",
       " 4,\n",
       " 2,\n",
       " 1,\n",
       " 1,\n",
       " 160,\n",
       " 18,\n",
       " 1,\n",
       " 1,\n",
       " 11,\n",
       " 2,\n",
       " 3,\n",
       " 2,\n",
       " 34,\n",
       " 2,\n",
       " 1,\n",
       " 1,\n",
       " 1,\n",
       " 1,\n",
       " 2,\n",
       " 3,\n",
       " 8,\n",
       " 2,\n",
       " 1,\n",
       " 3,\n",
       " 2,\n",
       " 2,\n",
       " 2,\n",
       " 5,\n",
       " 1,\n",
       " 4,\n",
       " 2,\n",
       " 2,\n",
       " 2,\n",
       " 4,\n",
       " 1,\n",
       " 3,\n",
       " 1,\n",
       " 1,\n",
       " 2,\n",
       " 1,\n",
       " 1,\n",
       " 1,\n",
       " 1,\n",
       " 1,\n",
       " 2,\n",
       " 17,\n",
       " 1,\n",
       " 1,\n",
       " 2,\n",
       " 6,\n",
       " 6,\n",
       " 1,\n",
       " 1,\n",
       " 2,\n",
       " 1,\n",
       " 4,\n",
       " 2,\n",
       " 1,\n",
       " 3,\n",
       " 9,\n",
       " 15,\n",
       " 1,\n",
       " 1,\n",
       " 5,\n",
       " 1,\n",
       " 12,\n",
       " 2,\n",
       " 1,\n",
       " 2,\n",
       " 1,\n",
       " 1,\n",
       " 2,\n",
       " 1,\n",
       " 4,\n",
       " 1,\n",
       " 2,\n",
       " 2,\n",
       " 1,\n",
       " 1,\n",
       " 3,\n",
       " 3,\n",
       " 1,\n",
       " 1,\n",
       " 5,\n",
       " 7,\n",
       " 1,\n",
       " 1,\n",
       " 2,\n",
       " 3,\n",
       " 1,\n",
       " 2,\n",
       " 1,\n",
       " 1,\n",
       " 2,\n",
       " 3,\n",
       " 2,\n",
       " 5,\n",
       " 1,\n",
       " 2,\n",
       " 1,\n",
       " 1,\n",
       " 5,\n",
       " 3,\n",
       " 1,\n",
       " 2,\n",
       " 2,\n",
       " 10,\n",
       " 1,\n",
       " 2,\n",
       " 4,\n",
       " 2,\n",
       " 1,\n",
       " 3,\n",
       " 151,\n",
       " 1,\n",
       " 1,\n",
       " 2,\n",
       " 1,\n",
       " 1,\n",
       " 2,\n",
       " 6,\n",
       " 2,\n",
       " 1,\n",
       " 3,\n",
       " 1,\n",
       " 1,\n",
       " 4,\n",
       " 1,\n",
       " 12,\n",
       " 2,\n",
       " 13,\n",
       " 1,\n",
       " 1,\n",
       " 1,\n",
       " 5,\n",
       " 1,\n",
       " 1,\n",
       " 1,\n",
       " 1,\n",
       " 1,\n",
       " 2,\n",
       " 2,\n",
       " 1,\n",
       " 1,\n",
       " 1,\n",
       " 1,\n",
       " 4,\n",
       " 7,\n",
       " 1,\n",
       " 1,\n",
       " 1,\n",
       " 1,\n",
       " 3,\n",
       " 1,\n",
       " 2,\n",
       " 1,\n",
       " 2,\n",
       " 1,\n",
       " 4,\n",
       " 5,\n",
       " 3,\n",
       " 1,\n",
       " 1,\n",
       " 3,\n",
       " 6,\n",
       " 2,\n",
       " 1,\n",
       " 1,\n",
       " 2,\n",
       " 5,\n",
       " 1,\n",
       " 1,\n",
       " 2,\n",
       " 6,\n",
       " 5,\n",
       " 2,\n",
       " 1,\n",
       " 1,\n",
       " 1,\n",
       " 1,\n",
       " 4,\n",
       " 2,\n",
       " 1,\n",
       " 3,\n",
       " 4,\n",
       " 1,\n",
       " 1,\n",
       " 1,\n",
       " 2,\n",
       " 1,\n",
       " 1,\n",
       " 1,\n",
       " 1,\n",
       " 2,\n",
       " 3,\n",
       " 1,\n",
       " 1,\n",
       " 4,\n",
       " 1,\n",
       " 5,\n",
       " 2,\n",
       " 1,\n",
       " 3,\n",
       " 1,\n",
       " 1,\n",
       " 1,\n",
       " 1,\n",
       " 1,\n",
       " 16,\n",
       " 1,\n",
       " 1,\n",
       " 2,\n",
       " 1,\n",
       " 1,\n",
       " 1,\n",
       " 2,\n",
       " 1,\n",
       " 1,\n",
       " 1,\n",
       " 1,\n",
       " 1,\n",
       " 4,\n",
       " 1,\n",
       " 1,\n",
       " 1,\n",
       " 1,\n",
       " 4,\n",
       " 1,\n",
       " 5,\n",
       " 1,\n",
       " 3,\n",
       " 1,\n",
       " 27,\n",
       " 20]"
      ]
     },
     "execution_count": 229,
     "metadata": {},
     "output_type": "execute_result"
    }
   ],
   "source": [
    "neighbors = projection[\"TRANMKF128E07995A8\"].values()\n",
    "weights = []\n",
    "for n in neighbors:\n",
    "    \n",
    "    weights.append(n['weight']) \n",
    "    \n",
    "weights"
   ]
  },
  {
   "cell_type": "code",
   "execution_count": 216,
   "metadata": {
    "collapsed": true
   },
   "outputs": [
    {
     "name": "stdout",
     "output_type": "stream",
     "text": [
      "TRAGEVS128F145FEAD\n",
      "TRAADLN128F14832E9\n",
      "TRBALRR128F429625D\n",
      "TRAADVH128EF34DE7A\n",
      "TRBGKGR128F92EE206\n",
      "TRAXLZU12903D05F94\n",
      "TRATBNG128F92CADA8\n",
      "TRAYABW128F4235888\n",
      "TRALOBE12903CDA6C5\n",
      "TRBDMIN128F147FCBB\n",
      "TRANBUW128F933C645\n",
      "TRAWRKT128E0788857\n",
      "TRAJNZF12903CB22A9\n",
      "TRAWBHE12903CBC4CB\n",
      "TRAKLHO128F42BA554\n",
      "TRAAMES128F42AF068\n",
      "TRAUTTP128F425BDEB\n",
      "TRAEVRI128F93608F3\n",
      "TRAUURC128E078EC6E\n",
      "TRASTIS128F92FA998\n",
      "TRANHYE128F92DE232\n",
      "TRBBQGV12903CB5CD3\n",
      "TRBDIOP128EF35F99C\n",
      "TRAAEEH128E0795DFE\n",
      "TRBDNDG128E0782EDC\n",
      "TRAYQLP128F92FA224\n",
      "TRBAUHT128F92F0657\n",
      "TRAXLPR128F428E466\n",
      "TRAPVXU128F149E7CD\n",
      "TRAWMBE128F423A76C\n",
      "TRBGGBF128F425E4D1\n",
      "TRAIELD128F92DC682\n",
      "TRBIBLJ12903CCF436\n",
      "TRBHYTA128F93425AC\n",
      "TRAAGCZ128F93210FD\n",
      "TRBDRIN128F9308ABF\n",
      "TRAOOGD128F92E4768\n",
      "TRASSZI128F146EC5F\n",
      "TRARTEH128F423DBC1\n",
      "TRBICGT128E0792473\n",
      "TRAWEIX128F14B0F05\n",
      "TRAZSCZ128F42554F4\n",
      "TRBCTBG128F42B7E1B\n",
      "TRACFXL128F930B28B\n",
      "TRBACGF128F92C5774\n",
      "TRAMKUA128F92ED3E1\n",
      "TRABRMZ128F4261DED\n",
      "TRAQHNX128E07822A7\n",
      "TRBDYFY128F93330AA\n",
      "TRAGNBQ128F149CB93\n",
      "TRAZDPO128E078ECE6\n",
      "TRAFHRS128F14599C0\n",
      "TRAEQPB128F1475024\n",
      "TRASVOH12903CCDC0B\n",
      "TRAVVZW12903CCEEE7\n",
      "TRBDOVF128E0795641\n",
      "TRAZZLJ128E07945F2\n",
      "TRAOTVH12903CA2DE6\n",
      "TRAWBOE128F92F2F46\n",
      "TRABCKL128F423A778\n",
      "TRABVIZ128F42BA066\n",
      "TRASDOI128F1480E28\n",
      "TRBECBM128F426AA34\n",
      "TRAZCOX128F42B6555\n",
      "TRARUTP128E0797FC7\n",
      "TRAAKDG128F42A0ECB\n",
      "TRAKMUO128F4215890\n",
      "TRAQVTO128F14696A6\n",
      "TRAEUIW12903D018F0\n",
      "TRBFYJE128F14A8ABF\n",
      "TRAGSGF128E0780CA7\n",
      "TRBAUVN128F932FEF8\n",
      "TRAXMNY12903CB5207\n",
      "TRATIAH128F426B422\n",
      "TRACYOV128F92CB613\n",
      "TRBFURI128F1455498\n",
      "TRAQDUR128F931B4E9\n",
      "TRAPHZT128F147A02B\n",
      "TRADZXK128F429DB92\n",
      "TRACFAP128E07862C1\n",
      "TRAAUEO128E0780CB9\n",
      "TRAJOPN128F423BEC3\n",
      "TRAUMIT128F424DA18\n",
      "TRAEOUE128F93187B9\n",
      "TRBDSFP128E07937B9\n",
      "TRAXGLQ12903CDBF13\n",
      "TRABCUQ128E0783E2B\n",
      "TRARCZH12903CF7D2F\n",
      "TRAIQDI128F92E8E1F\n",
      "TRAUOPE128EF367610\n",
      "TRANTAD128F92FD042\n",
      "TRBGJDW128F4292EDB\n",
      "TRAUONA128F4255A38\n",
      "TRASRXK128F9311176\n",
      "TRAHVUK128F1456988\n",
      "TRAMCGL128F92F3D87\n",
      "TRAWMMI128F149CB27\n",
      "TRBCBXZ128F14628C3\n",
      "TRAJZLM128F427CEB7\n",
      "TRAZORC128F426C323\n",
      "TRAVBSQ128EF344B3C\n",
      "TRAYWLI128F9300223\n",
      "TRBDQUF128F42AE54C\n",
      "TRBEDVH128F14599C7\n",
      "TRBHKXX128F4252D02\n",
      "TRALMTD128E07862AC\n",
      "TRADYQK128F42A762A\n",
      "TRBBQFV128F4252EFF\n",
      "TRATQSL128F932E2ED\n",
      "TRAVPOV128F429EC1B\n",
      "TRAWLYF128F92D9EE0\n",
      "TRAUOEY128F421CBD3\n",
      "TRAILKS128F14A3AC9\n",
      "TRANONM128F92EAF7A\n",
      "TRBDHKL128F426BE45\n",
      "TRAEQAB128F429C226\n",
      "TRAWCQE128F14676AC\n",
      "TRAVVBW128F42819B2\n",
      "TRANSKF128F147FCB4\n",
      "TRAGBPI128E0792998\n",
      "TRASBVS12903CF4537\n",
      "TRBHLDQ128F423EF10\n",
      "TRAQRJO128F42B7B09\n",
      "TRAUXSK128F427C58D\n",
      "TRBHJPQ128E078ED8F\n",
      "TRANSUM128F92E8DF3\n",
      "TRAQYFL12903D138CF\n",
      "TRBGULP128F422F290\n",
      "TRATKVY128EF35F97A\n",
      "TRAPJFL128F42AA7B4\n",
      "TRAZGQQ128F4278C1A\n",
      "TRBASRX12903C9FDA8\n",
      "TRAYPFH128E07937C3\n",
      "TRBHLXQ128E07856AC\n",
      "TRBDSWA128F92FE70A\n",
      "TRAIVMM12903CFAD62\n",
      "TRBGQAB128E07877E4\n",
      "TRABUMO12903CBE25F\n",
      "TRAMKDJ128F92F3D8B\n",
      "TRBGCAK128F425F3CC\n",
      "TRAIYZW128F9330F7D\n",
      "TRAYSMW128F1468307\n",
      "TRADODV128F4283EB6\n",
      "TRAGJQZ128F9302ADA\n",
      "TRAQTKV128F427BFA5\n",
      "TRBCJUF128F93190C2\n",
      "TRAOAYQ12903CFE05C\n",
      "TRAWPFY128F428A9CD\n",
      "TRBGKOU128F148C6C6\n",
      "TRAPTOE128F4272000\n",
      "TRARKGW128F92EB8F9\n",
      "TRATHTH128F42BC347\n",
      "TRACYXW128F4297569\n",
      "TRAUTCA128F429B624\n",
      "TRAOWBP128F4257C64\n",
      "TRAHUQT128F4281228\n",
      "TRANUEV128F4282392\n",
      "TRALQZK128F429802D\n",
      "TRBDUSM128F9339A13\n",
      "TRBCVBK128E07813EC\n",
      "TRALDGU128F933DE63\n",
      "TRBFKVH128F4262579\n",
      "TRAGMXK128F9305A50\n",
      "TRAFYGO128F42727E7\n",
      "TRALEPN128F9311179\n",
      "TRAUTPD128F92F1376\n",
      "TRAZBRT128F9305CE3\n",
      "TRAWWHM128F9310FD7\n",
      "TRBCJSZ128E07969B5\n",
      "TRAXRSK128F42B44D2\n",
      "TRBBSGI128F9309855\n",
      "TRAIWXX128F1461FE9\n",
      "TRBIAHA128F42A4C9B\n",
      "TRBDUXD128F148328A\n",
      "TRASPAS128E078DFB3\n",
      "TRAIYDL128E0791583\n",
      "TRAQFGR128EF34E7AF\n",
      "TRAWDRR128F4285F57\n",
      "TRADESF128F4214D8E\n",
      "TRALROP128F92CA9CC\n",
      "TRBBCVJ128F425BE2C\n",
      "TRAVWZA128F931F36E\n",
      "TRARPCK128F92FEA7F\n",
      "TRABRMJ128E0780E42\n",
      "TRAKXMS12903CB36F2\n",
      "TRBFLIP128E07897B4\n",
      "TRABQZK128F92F54F4\n",
      "TRBFBAB128F4227B85\n",
      "TRAQQVR128F4255A3A\n",
      "TRARFQL128F931E523\n",
      "TRAMMDO128E0781A5D\n",
      "TRASLGT12903CDFC6C\n",
      "TRAPUWG128EF3425E7\n",
      "TRAQJMP128F92E3821\n",
      "TRBIBAQ128F93279F5\n",
      "TRBGQAO128EF35A1AD\n",
      "TRAHTOP128F429484D\n",
      "TRBCMJT128F14B12CC\n",
      "TRARMHA128F92E7D32\n",
      "TRBIFGK128F92F23A2\n",
      "TRAFSAP128E0780ECF\n",
      "TRAHYMJ128E0787801\n",
      "TRBBMHE128EF341D09\n",
      "TRAHSPW128F149867A\n",
      "TRAWPKO128F423841E\n",
      "TRALNJR128F145AC96\n",
      "TRAEWVG128F428AC7F\n",
      "TRBEBYV128F14A0B65\n",
      "TRAENVO128E0781A16\n",
      "TRAYYIN12903CAD8C6\n",
      "TRAEGBE128F4284973\n",
      "TRBDXIM128F427ABDA\n",
      "TRAZXDC128F429874E\n",
      "TRAURYF128F147805D\n",
      "TRAENOH128F933978A\n",
      "TRALVNT128F931C4C6\n",
      "TRAFMNM128F4251008\n",
      "TRALJBT128F4266FD8\n",
      "TRBGRIP128F147FCA6\n",
      "TRAVHLR128F146B476\n",
      "TRAKQXJ128F147A028\n",
      "TRAETTV12903CBBD09\n",
      "TRABKJU128F422A7FE\n",
      "TRAMFJR128F92C1DB1\n",
      "TRADFOQ128F9335409\n",
      "TRAHQWU128F4277B78\n",
      "TRACECN128F9310E97\n",
      "TRBIHKT128F4290554\n",
      "TRBAYJH128F427CA64\n",
      "TRBFDGT128E0786A25\n",
      "TRBDODQ128F423A780\n",
      "TRAUCNU128F42671EB\n",
      "TRAFAJC128E078888B\n",
      "TRAUJKJ128E078FA48\n",
      "TRAFTDN128F427C29D\n",
      "TRBCORE12903CD6FA0\n",
      "TRAPKBI128F92F9D33\n",
      "TRARIRG128F147FC96\n",
      "TRAOATJ128F147FC9B\n"
     ]
    }
   ],
   "source": [
    "for i in projection[\"TRANMKF128E07995A8\"]:\n",
    "    print(i)"
   ]
  },
  {
   "cell_type": "code",
   "execution_count": 200,
   "metadata": {},
   "outputs": [
    {
     "data": {
      "text/plain": [
       "16"
      ]
     },
     "execution_count": 200,
     "metadata": {},
     "output_type": "execute_result"
    }
   ],
   "source": [
    "projection[\"TRANMKF128E07995A8\"]['TRAADLN128F14832E9']['weight']"
   ]
  },
  {
   "cell_type": "code",
   "execution_count": 213,
   "metadata": {
    "collapsed": true
   },
   "outputs": [],
   "source": [
    "nx.write_gpickle(projection, \"/Users/Mengying/Desktop/Networks/Project/MSD/Data_userprofile/projection.gpickle\")"
   ]
  },
  {
   "cell_type": "code",
   "execution_count": null,
   "metadata": {
    "collapsed": true
   },
   "outputs": [],
   "source": [
    "#projection=nx.read_gpickle(\"/Users/Mengying/Desktop/Networks/Project/MSD/Data_userprofile/projection.gpickle\")"
   ]
  },
  {
   "cell_type": "code",
   "execution_count": 215,
   "metadata": {},
   "outputs": [
    {
     "name": "stdout",
     "output_type": "stream",
     "text": [
      "TRAJUPC128F427F008\n"
     ]
    }
   ],
   "source": [
    "for a in all_songs:\n",
    "    if a not in top_nodes:\n",
    "        print(a)"
   ]
  },
  {
   "cell_type": "code",
   "execution_count": 103,
   "metadata": {},
   "outputs": [
    {
     "data": {
      "text/plain": [
       "0.7036975520767043"
      ]
     },
     "execution_count": 103,
     "metadata": {},
     "output_type": "execute_result"
    }
   ],
   "source": [
    "nx.average_clustering(projection)"
   ]
  },
  {
   "cell_type": "markdown",
   "metadata": {},
   "source": [
    "## Random Walk, Hitting Time"
   ]
  },
  {
   "cell_type": "code",
   "execution_count": 21,
   "metadata": {
    "collapsed": true
   },
   "outputs": [],
   "source": [
    "def random_walk(starting_nodes, g=projection, alpha = 0.4, k=5, discount=0.25):\n",
    "    # perform alpha terminating random walk\n",
    "    global multi_walk\n",
    "    \n",
    "    for i in range(k):\n",
    "        for h in starting_nodes:\n",
    "            if h == 'TRAJUPC128F427F008': # not in graph\n",
    "                continue\n",
    "            path = []\n",
    "            #start = np.random.choice(starting_nodes, 1)[0]\n",
    "            start = h\n",
    "            path.append(start)\n",
    "            neighbors = projection[start].values()\n",
    "            weights = [n['weight'] for n in neighbors]\n",
    "\n",
    "            if len(g[start]) == 1:\n",
    "                continue\n",
    "            next_node = np.random.choice(g[start], 1, p=weights/np.sum(weights))[0]\n",
    "            \n",
    "            step = 1\n",
    "            path.append(next_node)\n",
    "            while next_node is not None:\n",
    "\n",
    "                r = random.random()\n",
    "                if r < alpha:\n",
    "                    end = next_node\n",
    "                    next_node = None\n",
    "                    #hits[(h,end)] = discount**step+hits.get((h,end), 0)\n",
    "                    \n",
    "                else:\n",
    "                    start = next_node # jump to next node and start again\n",
    "                    \n",
    "                    neighbors = projection[start].values()\n",
    "                    weights = [n['weight'] for n in neighbors]\n",
    "\n",
    "                    if len(g[start]) == 1:\n",
    "                        break    \n",
    "                    next_node = np.random.choice(g[start], 1, p=weights/np.sum(weights))[0]\n",
    "                    \n",
    "                    step +=1\n",
    "                    path.append(next_node)\n",
    "            \n",
    "            # multi-walk\n",
    "            for p in range(len(path)-1):\n",
    "                stepsize = 1\n",
    "                for k in range(p+1, len(path)):\n",
    "                    if path[p] in test_user_history:\n",
    "                        multi_walk[(path[p],path[k])] = discount**stepsize+multi_walk.get((path[p],path[k]), 0) \n",
    "                    stepsize += 1\n",
    "      \n",
    "    return multi_walk\n",
    "            "
   ]
  },
  {
   "cell_type": "code",
   "execution_count": 83,
   "metadata": {},
   "outputs": [
    {
     "name": "stdout",
     "output_type": "stream",
     "text": [
      "param search done when d =  0.01\n",
      "31287\n",
      "param search done when d =  0.05\n",
      "31827\n",
      "param search done when d =  0.1\n",
      "31874\n",
      "param search done when d =  0.2\n",
      "31617\n",
      "param search done when d =  0.3\n",
      "32034\n"
     ]
    }
   ],
   "source": [
    "# Parameter Search\n",
    "\n",
    "discount_param = [0.01,0.05,0.10,0.20,0.30]\n",
    "for d in discount_param:\n",
    "    multi_walk = {}\n",
    "\n",
    "    for user in test_mini.user.values:\n",
    "        starting_nodes = train[train.user == user]['track_id'].values\n",
    "        random_walk(starting_nodes,discount=d)\n",
    "    \n",
    "    print(\"param search done when d = \", d)\n",
    "    print(len(multi_walk))\n",
    "    save_obj(multi_walk, 'multi_walk'+str(d))\n",
    "    "
   ]
  },
  {
   "cell_type": "code",
   "execution_count": 85,
   "metadata": {
    "collapsed": true
   },
   "outputs": [],
   "source": [
    "multi_walk_001 = load_obj('multi_walk0.01')\n",
    "multi_walk_005 = load_obj('multi_walk0.05')\n",
    "multi_walk_01 = load_obj('multi_walk0.1')\n",
    "multi_walk_02 = load_obj('multi_walk0.2')\n",
    "multi_walk_03 = load_obj('multi_walk0.3')"
   ]
  },
  {
   "cell_type": "code",
   "execution_count": 90,
   "metadata": {},
   "outputs": [],
   "source": [
    "# Accuracy:\n",
    "def cal_accuracy(topk,multi_walk):\n",
    "    count = 0\n",
    "    correct = 0\n",
    "    for user in test_mini.user.values:\n",
    "        true_vals = test_mini[test_mini.user == user]['track_id'].values\n",
    "        starting_nodes = train[train.user == user]['track_id'].values\n",
    "\n",
    "        user_walks = {}\n",
    "        for h in starting_nodes:         \n",
    "            walks = {k:v for k,v in multi_walk.items() if k[0] == h }\n",
    "            user_walks.update(walks)\n",
    "\n",
    "        user_walks = sorted(user_walks.items(), key=lambda kv: kv[1])[-topk:]\n",
    "        origin, dest = zip(*list(dict(user_walks).keys()))\n",
    "        for true_val in true_vals:\n",
    "            if true_val in dest:\n",
    "                correct += 1\n",
    "                break\n",
    "\n",
    "        count += 1\n",
    "\n",
    "\n",
    "    print('accuracy: ', correct/count)\n",
    "    \n",
    "    return correct/count"
   ]
  },
  {
   "cell_type": "code",
   "execution_count": 91,
   "metadata": {},
   "outputs": [
    {
     "name": "stdout",
     "output_type": "stream",
     "text": [
      "Top:  10\n",
      "accuracy:  0.30216647662485746\n",
      "accuracy:  0.2896237172177879\n",
      "accuracy:  0.30786773090079816\n",
      "accuracy:  0.3124287343215507\n",
      "accuracy:  0.2998859749144812\n",
      "Top:  25\n",
      "accuracy:  0.4298745724059293\n",
      "accuracy:  0.4298745724059293\n",
      "accuracy:  0.4378563283922463\n",
      "accuracy:  0.4241733181299886\n",
      "accuracy:  0.427594070695553\n",
      "Top:  50\n",
      "accuracy:  0.5153933865450399\n",
      "accuracy:  0.5153933865450399\n",
      "accuracy:  0.5245153933865451\n",
      "accuracy:  0.5199543899657925\n",
      "accuracy:  0.5131128848346637\n",
      "Top:  75\n",
      "accuracy:  0.5450399087799316\n",
      "accuracy:  0.5655644241733181\n",
      "accuracy:  0.5769669327251995\n",
      "accuracy:  0.5701254275940707\n",
      "accuracy:  0.5598631698973774\n",
      "Top:  100\n",
      "accuracy:  0.5849486887115165\n",
      "accuracy:  0.5940706955530216\n",
      "accuracy:  0.5986316989737742\n",
      "accuracy:  0.6031927023945268\n",
      "accuracy:  0.5849486887115165\n"
     ]
    }
   ],
   "source": [
    "topk_param = [10,25,50,75,100]\n",
    "accuracy001 = []\n",
    "accuracy005 = []\n",
    "accuracy01 = []\n",
    "accuracy02 = []\n",
    "accuracy03 = []\n",
    "\n",
    "for topk in topk_param:\n",
    "    print(\"Top: \",topk)\n",
    "    accuracy001.append(cal_accuracy(topk,multi_walk_001))\n",
    "    accuracy005.append(cal_accuracy(topk,multi_walk_005))\n",
    "    accuracy01.append(cal_accuracy(topk,multi_walk_01))\n",
    "    accuracy02.append(cal_accuracy(topk,multi_walk_02))\n",
    "    accuracy03.append(cal_accuracy(topk,multi_walk_03))"
   ]
  },
  {
   "cell_type": "code",
   "execution_count": 101,
   "metadata": {},
   "outputs": [
    {
     "data": {
      "image/png": "[encoded data removed]",
      "text/plain": [
       "<Figure size 432x288 with 1 Axes>"
      ]
     },
     "metadata": {},
     "output_type": "display_data"
    }
   ],
   "source": [
    "neighbor_number_list = [10,25,50,75,100]\n",
    "plt.plot(neighbor_number_list, accuracy001, 'r',neighbor_number_list , accuracy005, 'b', neighbor_number_list, accuracy01, 'g', neighbor_number_list, accuracy02, 'y', neighbor_number_list, accuracy03, 'm')\n",
    "plt.legend([0.01,0.05,0.1,0.2,0.3])\n",
    "plt.xlabel('Number of recommended songs')\n",
    "plt.ylabel('Accuracy')\n",
    "plt.title(\"Accuracy of Hitting time using different beta(discount parameter)\")\n",
    "plt.show()"
   ]
  },
  {
   "cell_type": "code",
   "execution_count": 328,
   "metadata": {},
   "outputs": [
    {
     "data": {
      "text/plain": [
       "['TRAGLZM128F931C995', 'TRALSXX128F92F94B0']"
      ]
     },
     "execution_count": 328,
     "metadata": {},
     "output_type": "execute_result"
    }
   ],
   "source": [
    "nx.shortest_path(projection, source='TRAGLZM128F931C995', target='TRALSXX128F92F94B0')"
   ]
  },
  {
   "cell_type": "code",
   "execution_count": 329,
   "metadata": {},
   "outputs": [
    {
     "data": {
      "text/plain": [
       "1"
      ]
     },
     "execution_count": 329,
     "metadata": {},
     "output_type": "execute_result"
    }
   ],
   "source": [
    "projection[\"TRAGLZM128F931C995\"][\"TRALSXX128F92F94B0\"]['weight']"
   ]
  },
  {
   "cell_type": "code",
   "execution_count": 326,
   "metadata": {},
   "outputs": [
    {
     "data": {
      "text/html": [
       "<div>\n",
       "<style>\n",
       "    .dataframe thead tr:only-child th {\n",
       "        text-align: right;\n",
       "    }\n",
       "\n",
       "    .dataframe thead th {\n",
       "        text-align: left;\n",
       "    }\n",
       "\n",
       "    .dataframe tbody tr th {\n",
       "        vertical-align: top;\n",
       "    }\n",
       "</style>\n",
       "<table border=\"1\" class=\"dataframe\">\n",
       "  <thead>\n",
       "    <tr style=\"text-align: right;\">\n",
       "      <th></th>\n",
       "      <th>user</th>\n",
       "      <th>count</th>\n",
       "      <th>track_id</th>\n",
       "      <th>song_id</th>\n",
       "      <th>artist</th>\n",
       "      <th>song_y</th>\n",
       "      <th>duration</th>\n",
       "      <th>loudness</th>\n",
       "      <th>tempo</th>\n",
       "      <th>song_hotness</th>\n",
       "      <th>...</th>\n",
       "      <th>artist_tag</th>\n",
       "      <th>predict</th>\n",
       "      <th>CF</th>\n",
       "      <th>dummy</th>\n",
       "      <th>like</th>\n",
       "      <th>CF_raw</th>\n",
       "      <th>SONG_AVG</th>\n",
       "      <th>SONG_Q</th>\n",
       "      <th>track_label</th>\n",
       "      <th>user_label</th>\n",
       "    </tr>\n",
       "  </thead>\n",
       "  <tbody>\n",
       "    <tr>\n",
       "      <th>0</th>\n",
       "      <td>82ef16cb5e45c1afe71979afcc6dbae8fdd36aeb</td>\n",
       "      <td>8</td>\n",
       "      <td>TRBDQUF128F42AE54C</td>\n",
       "      <td>SOBBFWL12A8C140087</td>\n",
       "      <td>Daler Mehndi;Chitra</td>\n",
       "      <td>Rang De Basanti</td>\n",
       "      <td>363.80689</td>\n",
       "      <td>-7.403</td>\n",
       "      <td>105.026</td>\n",
       "      <td>0.363686</td>\n",
       "      <td>...</td>\n",
       "      <td>[b'singer' b'dancer' b'indian']</td>\n",
       "      <td>49</td>\n",
       "      <td>2.0</td>\n",
       "      <td>0</td>\n",
       "      <td>2</td>\n",
       "      <td>9.616318</td>\n",
       "      <td>8.628472</td>\n",
       "      <td>5.0</td>\n",
       "      <td>2920</td>\n",
       "      <td>63564</td>\n",
       "    </tr>\n",
       "    <tr>\n",
       "      <th>2</th>\n",
       "      <td>a3d5597a793f2fad64f6468729711c36bb49c594</td>\n",
       "      <td>9</td>\n",
       "      <td>TRALSXX128F92F94B0</td>\n",
       "      <td>SOBSEGK12A58A7BEBF</td>\n",
       "      <td>Sex Pistols</td>\n",
       "      <td>Seventeen</td>\n",
       "      <td>129.93261</td>\n",
       "      <td>-6.458</td>\n",
       "      <td>129.722</td>\n",
       "      <td>0.704853</td>\n",
       "      <td>...</td>\n",
       "      <td>[b'british' b'punk rock' b'uk' b'london' b'eng...</td>\n",
       "      <td>62</td>\n",
       "      <td>1.0</td>\n",
       "      <td>0</td>\n",
       "      <td>2</td>\n",
       "      <td>3.353521</td>\n",
       "      <td>3.427536</td>\n",
       "      <td>1.0</td>\n",
       "      <td>1179</td>\n",
       "      <td>79550</td>\n",
       "    </tr>\n",
       "  </tbody>\n",
       "</table>\n",
       "<p>2 rows × 25 columns</p>\n",
       "</div>"
      ],
      "text/plain": [
       "                                       user  count            track_id  \\\n",
       "0  82ef16cb5e45c1afe71979afcc6dbae8fdd36aeb      8  TRBDQUF128F42AE54C   \n",
       "2  a3d5597a793f2fad64f6468729711c36bb49c594      9  TRALSXX128F92F94B0   \n",
       "\n",
       "              song_id               artist           song_y   duration  \\\n",
       "0  SOBBFWL12A8C140087  Daler Mehndi;Chitra  Rang De Basanti  363.80689   \n",
       "2  SOBSEGK12A58A7BEBF          Sex Pistols        Seventeen  129.93261   \n",
       "\n",
       "   loudness    tempo  song_hotness     ...      \\\n",
       "0    -7.403  105.026      0.363686     ...       \n",
       "2    -6.458  129.722      0.704853     ...       \n",
       "\n",
       "                                          artist_tag  predict   CF  dummy  \\\n",
       "0                    [b'singer' b'dancer' b'indian']       49  2.0      0   \n",
       "2  [b'british' b'punk rock' b'uk' b'london' b'eng...       62  1.0      0   \n",
       "\n",
       "  like    CF_raw  SONG_AVG  SONG_Q  track_label  user_label  \n",
       "0    2  9.616318  8.628472     5.0         2920       63564  \n",
       "2    2  3.353521  3.427536     1.0         1179       79550  \n",
       "\n",
       "[2 rows x 25 columns]"
      ]
     },
     "execution_count": 326,
     "metadata": {},
     "output_type": "execute_result"
    }
   ],
   "source": [
    "test_mini.head(2)"
   ]
  },
  {
   "cell_type": "code",
   "execution_count": 365,
   "metadata": {},
   "outputs": [
    {
     "data": {
      "text/plain": [
       "array(['TRAGLZM128F931C995'], dtype=object)"
      ]
     },
     "execution_count": 365,
     "metadata": {},
     "output_type": "execute_result"
    }
   ],
   "source": [
    "train[train.user == 'a3d5597a793f2fad64f6468729711c36bb49c594']['track_id'].values"
   ]
  },
  {
   "cell_type": "code",
   "execution_count": null,
   "metadata": {
    "collapsed": true
   },
   "outputs": [],
   "source": []
  }
 ],
 "metadata": {
  "kernelspec": {
   "display_name": "Python 3",
   "language": "python",
   "name": "python3"
  },
  "language_info": {
   "codemirror_mode": {
    "name": "ipython",
    "version": 3
   },
   "file_extension": ".py",
   "mimetype": "text/x-python",
   "name": "python",
   "nbconvert_exporter": "python",
   "pygments_lexer": "ipython3",
   "version": "3.6.5"
  }
 },
 "nbformat": 4,
 "nbformat_minor": 2
}
