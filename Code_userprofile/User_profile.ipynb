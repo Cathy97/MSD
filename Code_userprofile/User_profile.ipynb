{
 "cells": [
  {
   "cell_type": "code",
   "execution_count": 1,
   "metadata": {
    "collapsed": true
   },
   "outputs": [],
   "source": [
    "import pandas as pd\n",
    "import numpy as np\n",
    "import time\n",
    "import sklearn\n",
    "from sklearn.linear_model import LinearRegression\n",
    "from sklearn.metrics.pairwise import cosine_similarity\n",
    "from sklearn.metrics import pairwise_distances\n",
    "from scipy import sparse\n",
    "from sklearn import preprocessing"
   ]
  },
  {
   "cell_type": "code",
   "execution_count": 2,
   "metadata": {},
   "outputs": [
    {
     "name": "stdout",
     "output_type": "stream",
     "text": [
      "/Users/Mengying/Desktop/Networks/Project\n"
     ]
    }
   ],
   "source": [
    "cd '/Users/Mengying/Desktop/Networks/Project'"
   ]
  },
  {
   "cell_type": "code",
   "execution_count": 3,
   "metadata": {},
   "outputs": [
    {
     "data": {
      "text/html": [
       "<div>\n",
       "<style>\n",
       "    .dataframe thead tr:only-child th {\n",
       "        text-align: right;\n",
       "    }\n",
       "\n",
       "    .dataframe thead th {\n",
       "        text-align: left;\n",
       "    }\n",
       "\n",
       "    .dataframe tbody tr th {\n",
       "        vertical-align: top;\n",
       "    }\n",
       "</style>\n",
       "<table border=\"1\" class=\"dataframe\">\n",
       "  <thead>\n",
       "    <tr style=\"text-align: right;\">\n",
       "      <th></th>\n",
       "      <th>track_id</th>\n",
       "      <th>song_id</th>\n",
       "      <th>artist</th>\n",
       "      <th>song</th>\n",
       "    </tr>\n",
       "  </thead>\n",
       "  <tbody>\n",
       "    <tr>\n",
       "      <th>0</th>\n",
       "      <td>TRAAAAW128F429D538</td>\n",
       "      <td>SOMZWCG12A8C13C480</td>\n",
       "      <td>Casual</td>\n",
       "      <td>I Didn't Mean To</td>\n",
       "    </tr>\n",
       "    <tr>\n",
       "      <th>1</th>\n",
       "      <td>TRAAABD128F429CF47</td>\n",
       "      <td>SOCIWDW12A8C13D406</td>\n",
       "      <td>The Box Tops</td>\n",
       "      <td>Soul Deep</td>\n",
       "    </tr>\n",
       "    <tr>\n",
       "      <th>2</th>\n",
       "      <td>TRAAADZ128F9348C2E</td>\n",
       "      <td>SOXVLOJ12AB0189215</td>\n",
       "      <td>Sonora Santanera</td>\n",
       "      <td>Amor De Cabaret</td>\n",
       "    </tr>\n",
       "    <tr>\n",
       "      <th>3</th>\n",
       "      <td>TRAAAEF128F4273421</td>\n",
       "      <td>SONHOTT12A8C13493C</td>\n",
       "      <td>Adam Ant</td>\n",
       "      <td>Something Girls</td>\n",
       "    </tr>\n",
       "    <tr>\n",
       "      <th>4</th>\n",
       "      <td>TRAAAFD128F92F423A</td>\n",
       "      <td>SOFSOCN12A8C143F5D</td>\n",
       "      <td>Gob</td>\n",
       "      <td>Face the Ashes</td>\n",
       "    </tr>\n",
       "  </tbody>\n",
       "</table>\n",
       "</div>"
      ],
      "text/plain": [
       "             track_id             song_id            artist              song\n",
       "0  TRAAAAW128F429D538  SOMZWCG12A8C13C480            Casual  I Didn't Mean To\n",
       "1  TRAAABD128F429CF47  SOCIWDW12A8C13D406      The Box Tops         Soul Deep\n",
       "2  TRAAADZ128F9348C2E  SOXVLOJ12AB0189215  Sonora Santanera   Amor De Cabaret\n",
       "3  TRAAAEF128F4273421  SONHOTT12A8C13493C          Adam Ant   Something Girls\n",
       "4  TRAAAFD128F92F423A  SOFSOCN12A8C143F5D               Gob    Face the Ashes"
      ]
     },
     "execution_count": 3,
     "metadata": {},
     "output_type": "execute_result"
    }
   ],
   "source": [
    "# track_id, song_id mapping\n",
    "unique_tracks = pd.read_csv('Data/MillionSongSubset/AdditionalFiles/subset_unique_tracks.txt',names = ['track_id','song_id','artist','song'],sep='<SEP>',engine='python')\n",
    "unique_tracks.head() # 10000"
   ]
  },
  {
   "cell_type": "code",
   "execution_count": 4,
   "metadata": {},
   "outputs": [
    {
     "data": {
      "text/html": [
       "<div>\n",
       "<style>\n",
       "    .dataframe thead tr:only-child th {\n",
       "        text-align: right;\n",
       "    }\n",
       "\n",
       "    .dataframe thead th {\n",
       "        text-align: left;\n",
       "    }\n",
       "\n",
       "    .dataframe tbody tr th {\n",
       "        vertical-align: top;\n",
       "    }\n",
       "</style>\n",
       "<table border=\"1\" class=\"dataframe\">\n",
       "  <thead>\n",
       "    <tr style=\"text-align: right;\">\n",
       "      <th></th>\n",
       "      <th>user</th>\n",
       "      <th>song</th>\n",
       "      <th>count</th>\n",
       "    </tr>\n",
       "  </thead>\n",
       "  <tbody>\n",
       "    <tr>\n",
       "      <th>0</th>\n",
       "      <td>b80344d063b5ccb3212f76538f3d9e43d87dca9e</td>\n",
       "      <td>SOAKIMP12A8C130995</td>\n",
       "      <td>1</td>\n",
       "    </tr>\n",
       "    <tr>\n",
       "      <th>1</th>\n",
       "      <td>b80344d063b5ccb3212f76538f3d9e43d87dca9e</td>\n",
       "      <td>SOAPDEY12A81C210A9</td>\n",
       "      <td>1</td>\n",
       "    </tr>\n",
       "    <tr>\n",
       "      <th>2</th>\n",
       "      <td>b80344d063b5ccb3212f76538f3d9e43d87dca9e</td>\n",
       "      <td>SOBBMDR12A8C13253B</td>\n",
       "      <td>2</td>\n",
       "    </tr>\n",
       "    <tr>\n",
       "      <th>3</th>\n",
       "      <td>b80344d063b5ccb3212f76538f3d9e43d87dca9e</td>\n",
       "      <td>SOBFNSP12AF72A0E22</td>\n",
       "      <td>1</td>\n",
       "    </tr>\n",
       "    <tr>\n",
       "      <th>4</th>\n",
       "      <td>b80344d063b5ccb3212f76538f3d9e43d87dca9e</td>\n",
       "      <td>SOBFOVM12A58A7D494</td>\n",
       "      <td>1</td>\n",
       "    </tr>\n",
       "  </tbody>\n",
       "</table>\n",
       "</div>"
      ],
      "text/plain": [
       "                                       user                song  count\n",
       "0  b80344d063b5ccb3212f76538f3d9e43d87dca9e  SOAKIMP12A8C130995      1\n",
       "1  b80344d063b5ccb3212f76538f3d9e43d87dca9e  SOAPDEY12A81C210A9      1\n",
       "2  b80344d063b5ccb3212f76538f3d9e43d87dca9e  SOBBMDR12A8C13253B      2\n",
       "3  b80344d063b5ccb3212f76538f3d9e43d87dca9e  SOBFNSP12AF72A0E22      1\n",
       "4  b80344d063b5ccb3212f76538f3d9e43d87dca9e  SOBFOVM12A58A7D494      1"
      ]
     },
     "execution_count": 4,
     "metadata": {},
     "output_type": "execute_result"
    }
   ],
   "source": [
    "profile = pd.read_table('Data/train_triplets.txt', names = ['user','song','count'])\n",
    "profile.head() # 48,373,586"
   ]
  },
  {
   "cell_type": "code",
   "execution_count": 5,
   "metadata": {},
   "outputs": [
    {
     "data": {
      "text/plain": [
       "user\n",
       "00000b722001882066dff9d2da8a775658053ea0    13\n",
       "00001638d6189236866af9bbf309ae6c2347ffdc    56\n",
       "0000175652312d12576d9e6b84f600caa24c4715    19\n",
       "00001cf0dce3fb22b0df0f3a1d9cd21e38385372    25\n",
       "0000267bde1b3a70ea75cf2b2d216cb828e3202b    27\n",
       "Name: count, dtype: int64"
      ]
     },
     "execution_count": 5,
     "metadata": {},
     "output_type": "execute_result"
    }
   ],
   "source": [
    "unique_users = profile.groupby(['user'])['count'].sum()\n",
    "unique_users.head() #1,019,318"
   ]
  },
  {
   "cell_type": "code",
   "execution_count": 6,
   "metadata": {},
   "outputs": [
    {
     "data": {
      "text/plain": [
       "user\n",
       "0155cff3544ca02cc471d0d4ce1148c7f000ae7e    10\n",
       "c35b8664d4dc68308e91934e1cdc28d34bee86f6    10\n",
       "467ea4cb5fa300b650fa6b27b80495b4315db3bb    10\n",
       "46842492af4e0c8aa6c5d6cb3ea6982873dea4e2    10\n",
       "98b8b7dd46b150d5181f5674c0f8f686066f3b4e    10\n",
       "Name: count, dtype: int64"
      ]
     },
     "execution_count": 6,
     "metadata": {},
     "output_type": "execute_result"
    }
   ],
   "source": [
    "unique_users.sort_values(ascending=False, inplace = True)\n",
    "unique_users.tail()"
   ]
  },
  {
   "cell_type": "code",
   "execution_count": 7,
   "metadata": {},
   "outputs": [],
   "source": [
    "## filtering songs #original: 384,546 --> 772,661\n",
    "filtered_profile = profile.merge(unique_tracks, left_on='song', right_on='song_id', how='inner')"
   ]
  },
  {
   "cell_type": "code",
   "execution_count": 8,
   "metadata": {
    "collapsed": true
   },
   "outputs": [],
   "source": [
    "filtered_unique_users = filtered_profile.groupby(['user'])['count'].sum() #418,252"
   ]
  },
  {
   "cell_type": "code",
   "execution_count": 59,
   "metadata": {},
   "outputs": [
    {
     "data": {
      "text/html": [
       "<div>\n",
       "<style>\n",
       "    .dataframe thead tr:only-child th {\n",
       "        text-align: right;\n",
       "    }\n",
       "\n",
       "    .dataframe thead th {\n",
       "        text-align: left;\n",
       "    }\n",
       "\n",
       "    .dataframe tbody tr th {\n",
       "        vertical-align: top;\n",
       "    }\n",
       "</style>\n",
       "<table border=\"1\" class=\"dataframe\">\n",
       "  <thead>\n",
       "    <tr style=\"text-align: right;\">\n",
       "      <th></th>\n",
       "      <th>user</th>\n",
       "      <th>song_x</th>\n",
       "      <th>count</th>\n",
       "      <th>track_id</th>\n",
       "      <th>song_id</th>\n",
       "      <th>artist</th>\n",
       "      <th>song_y</th>\n",
       "    </tr>\n",
       "  </thead>\n",
       "  <tbody>\n",
       "    <tr>\n",
       "      <th>0</th>\n",
       "      <td>b80344d063b5ccb3212f76538f3d9e43d87dca9e</td>\n",
       "      <td>SOWEZSI12A81C21CE6</td>\n",
       "      <td>1</td>\n",
       "      <td>TRAUCNU128F42671EB</td>\n",
       "      <td>SOWEZSI12A81C21CE6</td>\n",
       "      <td>Gipsy Kings</td>\n",
       "      <td>Tu Quieres Volver</td>\n",
       "    </tr>\n",
       "    <tr>\n",
       "      <th>1</th>\n",
       "      <td>833c530ecda3d99deb8395f70400aa3999783d91</td>\n",
       "      <td>SOWEZSI12A81C21CE6</td>\n",
       "      <td>2</td>\n",
       "      <td>TRAUCNU128F42671EB</td>\n",
       "      <td>SOWEZSI12A81C21CE6</td>\n",
       "      <td>Gipsy Kings</td>\n",
       "      <td>Tu Quieres Volver</td>\n",
       "    </tr>\n",
       "    <tr>\n",
       "      <th>2</th>\n",
       "      <td>d6c5bd2b570b4faf8964d7ed04f3392ff505d2be</td>\n",
       "      <td>SOWEZSI12A81C21CE6</td>\n",
       "      <td>1</td>\n",
       "      <td>TRAUCNU128F42671EB</td>\n",
       "      <td>SOWEZSI12A81C21CE6</td>\n",
       "      <td>Gipsy Kings</td>\n",
       "      <td>Tu Quieres Volver</td>\n",
       "    </tr>\n",
       "    <tr>\n",
       "      <th>3</th>\n",
       "      <td>724534729c9f5dc72a009269c2c225883e4775d2</td>\n",
       "      <td>SOWEZSI12A81C21CE6</td>\n",
       "      <td>1</td>\n",
       "      <td>TRAUCNU128F42671EB</td>\n",
       "      <td>SOWEZSI12A81C21CE6</td>\n",
       "      <td>Gipsy Kings</td>\n",
       "      <td>Tu Quieres Volver</td>\n",
       "    </tr>\n",
       "    <tr>\n",
       "      <th>4</th>\n",
       "      <td>ee7aa84c164038c963cfd02a7e52a5598aa470c3</td>\n",
       "      <td>SOWEZSI12A81C21CE6</td>\n",
       "      <td>2</td>\n",
       "      <td>TRAUCNU128F42671EB</td>\n",
       "      <td>SOWEZSI12A81C21CE6</td>\n",
       "      <td>Gipsy Kings</td>\n",
       "      <td>Tu Quieres Volver</td>\n",
       "    </tr>\n",
       "  </tbody>\n",
       "</table>\n",
       "</div>"
      ],
      "text/plain": [
       "                                       user              song_x  count  \\\n",
       "0  b80344d063b5ccb3212f76538f3d9e43d87dca9e  SOWEZSI12A81C21CE6      1   \n",
       "1  833c530ecda3d99deb8395f70400aa3999783d91  SOWEZSI12A81C21CE6      2   \n",
       "2  d6c5bd2b570b4faf8964d7ed04f3392ff505d2be  SOWEZSI12A81C21CE6      1   \n",
       "3  724534729c9f5dc72a009269c2c225883e4775d2  SOWEZSI12A81C21CE6      1   \n",
       "4  ee7aa84c164038c963cfd02a7e52a5598aa470c3  SOWEZSI12A81C21CE6      2   \n",
       "\n",
       "             track_id             song_id       artist             song_y  \n",
       "0  TRAUCNU128F42671EB  SOWEZSI12A81C21CE6  Gipsy Kings  Tu Quieres Volver  \n",
       "1  TRAUCNU128F42671EB  SOWEZSI12A81C21CE6  Gipsy Kings  Tu Quieres Volver  \n",
       "2  TRAUCNU128F42671EB  SOWEZSI12A81C21CE6  Gipsy Kings  Tu Quieres Volver  \n",
       "3  TRAUCNU128F42671EB  SOWEZSI12A81C21CE6  Gipsy Kings  Tu Quieres Volver  \n",
       "4  TRAUCNU128F42671EB  SOWEZSI12A81C21CE6  Gipsy Kings  Tu Quieres Volver  "
      ]
     },
     "execution_count": 59,
     "metadata": {},
     "output_type": "execute_result"
    }
   ],
   "source": [
    "filtered_profile.head()"
   ]
  },
  {
   "cell_type": "code",
   "execution_count": 40,
   "metadata": {},
   "outputs": [],
   "source": [
    "# Create train/test split 8:2\n",
    "np.random.seed(6080)\n",
    "num_users = filtered_unique_users.shape[0] #418252\n",
    "train_users = np.random.choice(filtered_unique_users.index, int(np.floor(num_users)*0.8),replace=False)\n",
    "train = filtered_profile[filtered_profile['user'].isin(train_users)] #(618260, 7),334601 users\n",
    "test = filtered_profile[~filtered_profile['user'].isin(train_users)] #(154401, 7),83651 users"
   ]
  },
  {
   "cell_type": "code",
   "execution_count": 67,
   "metadata": {
    "collapsed": true
   },
   "outputs": [
    {
     "data": {
      "text/plain": [
       "218935    541\n",
       "346536    501\n",
       "511403    427\n",
       "211543    380\n",
       "189130    377\n",
       "423131    372\n",
       "511780    344\n",
       "689836    329\n",
       "17852     329\n",
       "693422    322\n",
       "719121    321\n",
       "769540    302\n",
       "211345    282\n",
       "160071    282\n",
       "764108    281\n",
       "376096    273\n",
       "552499    268\n",
       "52911     268\n",
       "638671    257\n",
       "639828    256\n",
       "376505    241\n",
       "564492    234\n",
       "404380    231\n",
       "161337    228\n",
       "373827    225\n",
       "373680    221\n",
       "737911    221\n",
       "732351    220\n",
       "106991    216\n",
       "231193    214\n",
       "         ... \n",
       "459550      1\n",
       "459489      1\n",
       "459488      1\n",
       "459483      1\n",
       "459448      1\n",
       "459433      1\n",
       "459434      1\n",
       "459435      1\n",
       "459436      1\n",
       "459437      1\n",
       "459438      1\n",
       "459439      1\n",
       "459441      1\n",
       "459442      1\n",
       "459443      1\n",
       "459447      1\n",
       "459454      1\n",
       "459482      1\n",
       "459455      1\n",
       "459460      1\n",
       "459461      1\n",
       "459468      1\n",
       "459471      1\n",
       "459473      1\n",
       "459474      1\n",
       "459476      1\n",
       "459477      1\n",
       "459479      1\n",
       "459481      1\n",
       "0           1\n",
       "Name: count, Length: 618260, dtype: int64"
      ]
     },
     "execution_count": 67,
     "metadata": {},
     "output_type": "execute_result"
    }
   ],
   "source": [
    "train['count'].sort_values(ascending=False)"
   ]
  },
  {
   "cell_type": "code",
   "execution_count": null,
   "metadata": {
    "collapsed": true
   },
   "outputs": [],
   "source": []
  },
  {
   "cell_type": "markdown",
   "metadata": {},
   "source": [
    "### Collaborative Filtering -> Finding similar users"
   ]
  },
  {
   "cell_type": "markdown",
   "metadata": {},
   "source": [
    "#### Only on Filtered data"
   ]
  },
  {
   "cell_type": "code",
   "execution_count": 60,
   "metadata": {},
   "outputs": [],
   "source": [
    "# Using filtered\n",
    "filtered_SONG_AVG = dict(train['count'].groupby(train['track_id']).mean()) # {song: song_avg_count}\n",
    "filtered_USER_AVG = dict(train['count'].groupby(train['user']).mean())"
   ]
  },
  {
   "cell_type": "code",
   "execution_count": 47,
   "metadata": {
    "collapsed": true
   },
   "outputs": [
    {
     "name": "stderr",
     "output_type": "stream",
     "text": [
      "/anaconda3/envs/si618/lib/python3.6/site-packages/ipykernel_launcher.py:3: SettingWithCopyWarning: \n",
      "A value is trying to be set on a copy of a slice from a DataFrame.\n",
      "Try using .loc[row_indexer,col_indexer] = value instead\n",
      "\n",
      "See the caveats in the documentation: http://pandas.pydata.org/pandas-docs/stable/indexing.html#indexing-view-versus-copy\n",
      "  This is separate from the ipykernel package so we can avoid doing imports until\n",
      "/anaconda3/envs/si618/lib/python3.6/site-packages/ipykernel_launcher.py:5: SettingWithCopyWarning: \n",
      "A value is trying to be set on a copy of a slice from a DataFrame.\n",
      "Try using .loc[row_indexer,col_indexer] = value instead\n",
      "\n",
      "See the caveats in the documentation: http://pandas.pydata.org/pandas-docs/stable/indexing.html#indexing-view-versus-copy\n",
      "  \"\"\"\n"
     ]
    }
   ],
   "source": [
    "# Encode user and song id to make integer position \n",
    "track_encoder = preprocessing.LabelEncoder()\n",
    "train['TRACK_ID'] = track_encoder.fit_transform(train['track_id'])\n",
    "user_encoder = preprocessing.LabelEncoder()\n",
    "train['USER_ID'] = user_encoder.fit_transform(train['user'])"
   ]
  },
  {
   "cell_type": "code",
   "execution_count": 53,
   "metadata": {},
   "outputs": [
    {
     "data": {
      "text/plain": [
       "3015"
      ]
     },
     "execution_count": 53,
     "metadata": {},
     "output_type": "execute_result"
    }
   ],
   "source": [
    "test.track_id.unique().shape[0] # train: 3607, test: 3015, 2947 common track_id"
   ]
  },
  {
   "cell_type": "code",
   "execution_count": 69,
   "metadata": {
    "collapsed": true
   },
   "outputs": [
    {
     "data": {
      "text/html": [
       "<div>\n",
       "<style>\n",
       "    .dataframe thead tr:only-child th {\n",
       "        text-align: right;\n",
       "    }\n",
       "\n",
       "    .dataframe thead th {\n",
       "        text-align: left;\n",
       "    }\n",
       "\n",
       "    .dataframe tbody tr th {\n",
       "        vertical-align: top;\n",
       "    }\n",
       "</style>\n",
       "<table border=\"1\" class=\"dataframe\">\n",
       "  <thead>\n",
       "    <tr style=\"text-align: right;\">\n",
       "      <th></th>\n",
       "      <th>0</th>\n",
       "    </tr>\n",
       "  </thead>\n",
       "  <tbody>\n",
       "    <tr>\n",
       "      <th>0</th>\n",
       "      <td>TRAUCNU128F42671EB</td>\n",
       "    </tr>\n",
       "    <tr>\n",
       "      <th>1</th>\n",
       "      <td>TRBFXMJ12903CB50F6</td>\n",
       "    </tr>\n",
       "    <tr>\n",
       "      <th>2</th>\n",
       "      <td>TRBBMHE128EF341D09</td>\n",
       "    </tr>\n",
       "    <tr>\n",
       "      <th>3</th>\n",
       "      <td>TRAUURC128E078EC6E</td>\n",
       "    </tr>\n",
       "    <tr>\n",
       "      <th>4</th>\n",
       "      <td>TRAQVTO128F14696A6</td>\n",
       "    </tr>\n",
       "  </tbody>\n",
       "</table>\n",
       "</div>"
      ],
      "text/plain": [
       "                    0\n",
       "0  TRAUCNU128F42671EB\n",
       "1  TRBFXMJ12903CB50F6\n",
       "2  TRBBMHE128EF341D09\n",
       "3  TRAUURC128E078EC6E\n",
       "4  TRAQVTO128F14696A6"
      ]
     },
     "execution_count": 69,
     "metadata": {},
     "output_type": "execute_result"
    }
   ],
   "source": [
    "# Check for common track id and cold start\n",
    "test_track_set = pd.DataFrame(test.track_id.unique())\n",
    "train_track_set = pd.DataFrame(train.track_id.unique())\n",
    "test_track_set.merge(train_track_set, how='inner').shape "
   ]
  },
  {
   "cell_type": "code",
   "execution_count": 55,
   "metadata": {},
   "outputs": [],
   "source": [
    "# Create matrix\n",
    "listening_counts = np.array(train['count'].values)\n",
    "user_pos = np.array(train['USER_ID'].values)\n",
    "song_pos = np.array(train['TRACK_ID'].values)\n",
    "mtx = sparse.coo_matrix((listening_counts, (user_pos,song_pos)), shape=(334601, 3607))\n",
    "user_song_matrix = mtx.tocsr() #(334601, 3607)"
   ]
  },
  {
   "cell_type": "code",
   "execution_count": null,
   "metadata": {
    "collapsed": true
   },
   "outputs": [],
   "source": [
    "def predict_CF(data):\n",
    "    for index, row in data.iterrows():\n",
    "        try:\n",
    "            u_ind = filtered_USER_AVG[row['user']]\n",
    "        except:\n",
    "            continue\n",
    "        try:\n",
    "            m_ind = filtered_SONG_AVG[row['track_id']]\n",
    "        except:\n",
    "            continue"
   ]
  },
  {
   "cell_type": "code",
   "execution_count": null,
   "metadata": {
    "collapsed": true
   },
   "outputs": [],
   "source": []
  },
  {
   "cell_type": "code",
   "execution_count": null,
   "metadata": {
    "collapsed": true
   },
   "outputs": [],
   "source": []
  }
 ],
 "metadata": {
  "kernelspec": {
   "display_name": "Python 3",
   "language": "python",
   "name": "python3"
  },
  "language_info": {
   "codemirror_mode": {
    "name": "ipython",
    "version": 3
   },
   "file_extension": ".py",
   "mimetype": "text/x-python",
   "name": "python",
   "nbconvert_exporter": "python",
   "pygments_lexer": "ipython3",
   "version": "3.6.6"
  }
 },
 "nbformat": 4,
 "nbformat_minor": 2
}
