{
 "cells": [
  {
   "cell_type": "code",
   "execution_count": 104,
   "metadata": {
    "collapsed": true
   },
   "outputs": [],
   "source": [
    "import pandas as pd\n",
    "import numpy as np\n",
    "import time\n",
    "import sklearn\n",
    "from sklearn.linear_model import LinearRegression\n",
    "from sklearn.metrics.pairwise import cosine_similarity\n",
    "from sklearn.metrics import pairwise_distances\n",
    "from scipy import sparse\n",
    "from sklearn import preprocessing\n",
    "import matplotlib.pyplot as plt\n",
    "import seaborn as sns"
   ]
  },
  {
   "cell_type": "code",
   "execution_count": 2,
   "metadata": {},
   "outputs": [
    {
     "name": "stdout",
     "output_type": "stream",
     "text": [
      "/Users/Mengying/Desktop/Networks/Project\n"
     ]
    }
   ],
   "source": [
    "cd '/Users/Mengying/Desktop/Networks/Project'"
   ]
  },
  {
   "cell_type": "code",
   "execution_count": 4,
   "metadata": {},
   "outputs": [
    {
     "data": {
      "text/html": [
       "<div>\n",
       "<style>\n",
       "    .dataframe thead tr:only-child th {\n",
       "        text-align: right;\n",
       "    }\n",
       "\n",
       "    .dataframe thead th {\n",
       "        text-align: left;\n",
       "    }\n",
       "\n",
       "    .dataframe tbody tr th {\n",
       "        vertical-align: top;\n",
       "    }\n",
       "</style>\n",
       "<table border=\"1\" class=\"dataframe\">\n",
       "  <thead>\n",
       "    <tr style=\"text-align: right;\">\n",
       "      <th></th>\n",
       "      <th>user</th>\n",
       "      <th>song</th>\n",
       "      <th>count</th>\n",
       "    </tr>\n",
       "  </thead>\n",
       "  <tbody>\n",
       "    <tr>\n",
       "      <th>0</th>\n",
       "      <td>b80344d063b5ccb3212f76538f3d9e43d87dca9e</td>\n",
       "      <td>SOAKIMP12A8C130995</td>\n",
       "      <td>1</td>\n",
       "    </tr>\n",
       "    <tr>\n",
       "      <th>1</th>\n",
       "      <td>b80344d063b5ccb3212f76538f3d9e43d87dca9e</td>\n",
       "      <td>SOAPDEY12A81C210A9</td>\n",
       "      <td>1</td>\n",
       "    </tr>\n",
       "    <tr>\n",
       "      <th>2</th>\n",
       "      <td>b80344d063b5ccb3212f76538f3d9e43d87dca9e</td>\n",
       "      <td>SOBBMDR12A8C13253B</td>\n",
       "      <td>2</td>\n",
       "    </tr>\n",
       "    <tr>\n",
       "      <th>3</th>\n",
       "      <td>b80344d063b5ccb3212f76538f3d9e43d87dca9e</td>\n",
       "      <td>SOBFNSP12AF72A0E22</td>\n",
       "      <td>1</td>\n",
       "    </tr>\n",
       "    <tr>\n",
       "      <th>4</th>\n",
       "      <td>b80344d063b5ccb3212f76538f3d9e43d87dca9e</td>\n",
       "      <td>SOBFOVM12A58A7D494</td>\n",
       "      <td>1</td>\n",
       "    </tr>\n",
       "  </tbody>\n",
       "</table>\n",
       "</div>"
      ],
      "text/plain": [
       "                                       user                song  count\n",
       "0  b80344d063b5ccb3212f76538f3d9e43d87dca9e  SOAKIMP12A8C130995      1\n",
       "1  b80344d063b5ccb3212f76538f3d9e43d87dca9e  SOAPDEY12A81C210A9      1\n",
       "2  b80344d063b5ccb3212f76538f3d9e43d87dca9e  SOBBMDR12A8C13253B      2\n",
       "3  b80344d063b5ccb3212f76538f3d9e43d87dca9e  SOBFNSP12AF72A0E22      1\n",
       "4  b80344d063b5ccb3212f76538f3d9e43d87dca9e  SOBFOVM12A58A7D494      1"
      ]
     },
     "execution_count": 4,
     "metadata": {},
     "output_type": "execute_result"
    }
   ],
   "source": [
    "# read in user taste profile data\n",
    "profile = pd.read_table('Data/train_triplets.txt', names = ['user','song','count'])\n",
    "profile.head() # 48,373,586"
   ]
  },
  {
   "cell_type": "code",
   "execution_count": 5,
   "metadata": {},
   "outputs": [
    {
     "data": {
      "text/plain": [
       "user\n",
       "00000b722001882066dff9d2da8a775658053ea0    13\n",
       "00001638d6189236866af9bbf309ae6c2347ffdc    56\n",
       "0000175652312d12576d9e6b84f600caa24c4715    19\n",
       "00001cf0dce3fb22b0df0f3a1d9cd21e38385372    25\n",
       "0000267bde1b3a70ea75cf2b2d216cb828e3202b    27\n",
       "Name: count, dtype: int64"
      ]
     },
     "execution_count": 5,
     "metadata": {},
     "output_type": "execute_result"
    }
   ],
   "source": [
    "unique_users = profile.groupby(['user'])['count'].sum()\n",
    "unique_users.head() #1,019,318, close to 1M users' listening history"
   ]
  },
  {
   "cell_type": "code",
   "execution_count": 6,
   "metadata": {},
   "outputs": [
    {
     "data": {
      "text/plain": [
       "user\n",
       "0155cff3544ca02cc471d0d4ce1148c7f000ae7e    10\n",
       "c35b8664d4dc68308e91934e1cdc28d34bee86f6    10\n",
       "467ea4cb5fa300b650fa6b27b80495b4315db3bb    10\n",
       "46842492af4e0c8aa6c5d6cb3ea6982873dea4e2    10\n",
       "98b8b7dd46b150d5181f5674c0f8f686066f3b4e    10\n",
       "Name: count, dtype: int64"
      ]
     },
     "execution_count": 6,
     "metadata": {},
     "output_type": "execute_result"
    }
   ],
   "source": [
    "unique_users.sort_values(ascending=False, inplace = True)\n",
    "unique_users.tail() # the least number of times users have listened to in total: 10"
   ]
  },
  {
   "cell_type": "code",
   "execution_count": 195,
   "metadata": {},
   "outputs": [
    {
     "data": {
      "text/html": [
       "<div>\n",
       "<style>\n",
       "    .dataframe thead tr:only-child th {\n",
       "        text-align: right;\n",
       "    }\n",
       "\n",
       "    .dataframe thead th {\n",
       "        text-align: left;\n",
       "    }\n",
       "\n",
       "    .dataframe tbody tr th {\n",
       "        vertical-align: top;\n",
       "    }\n",
       "</style>\n",
       "<table border=\"1\" class=\"dataframe\">\n",
       "  <thead>\n",
       "    <tr style=\"text-align: right;\">\n",
       "      <th></th>\n",
       "      <th>song_id</th>\n",
       "    </tr>\n",
       "  </thead>\n",
       "  <tbody>\n",
       "    <tr>\n",
       "      <th>0</th>\n",
       "      <td>SOAKIMP12A8C130995</td>\n",
       "    </tr>\n",
       "    <tr>\n",
       "      <th>1</th>\n",
       "      <td>SOAPDEY12A81C210A9</td>\n",
       "    </tr>\n",
       "    <tr>\n",
       "      <th>2</th>\n",
       "      <td>SOBBMDR12A8C13253B</td>\n",
       "    </tr>\n",
       "    <tr>\n",
       "      <th>3</th>\n",
       "      <td>SOBFNSP12AF72A0E22</td>\n",
       "    </tr>\n",
       "    <tr>\n",
       "      <th>4</th>\n",
       "      <td>SOBFOVM12A58A7D494</td>\n",
       "    </tr>\n",
       "  </tbody>\n",
       "</table>\n",
       "</div>"
      ],
      "text/plain": [
       "              song_id\n",
       "0  SOAKIMP12A8C130995\n",
       "1  SOAPDEY12A81C210A9\n",
       "2  SOBBMDR12A8C13253B\n",
       "3  SOBFNSP12AF72A0E22\n",
       "4  SOBFOVM12A58A7D494"
      ]
     },
     "execution_count": 195,
     "metadata": {},
     "output_type": "execute_result"
    }
   ],
   "source": [
    "## Unique songs\n",
    "unique_songs = pd.unique(profile['song'])\n",
    "unique_songs = pd.DataFrame(unique_songs, columns=['song_id'])\n",
    "unique_songs.head() #384,546 songs"
   ]
  },
  {
   "cell_type": "code",
   "execution_count": 138,
   "metadata": {},
   "outputs": [
    {
     "data": {
      "text/html": [
       "<div>\n",
       "<style>\n",
       "    .dataframe thead tr:only-child th {\n",
       "        text-align: right;\n",
       "    }\n",
       "\n",
       "    .dataframe thead th {\n",
       "        text-align: left;\n",
       "    }\n",
       "\n",
       "    .dataframe tbody tr th {\n",
       "        vertical-align: top;\n",
       "    }\n",
       "</style>\n",
       "<table border=\"1\" class=\"dataframe\">\n",
       "  <thead>\n",
       "    <tr style=\"text-align: right;\">\n",
       "      <th></th>\n",
       "      <th>track_id</th>\n",
       "      <th>song_id</th>\n",
       "      <th>artist</th>\n",
       "      <th>song</th>\n",
       "    </tr>\n",
       "  </thead>\n",
       "  <tbody>\n",
       "    <tr>\n",
       "      <th>0</th>\n",
       "      <td>TRMMMYQ128F932D901</td>\n",
       "      <td>SOQMMHC12AB0180CB8</td>\n",
       "      <td>Faster Pussy cat</td>\n",
       "      <td>Silent Night</td>\n",
       "    </tr>\n",
       "    <tr>\n",
       "      <th>1</th>\n",
       "      <td>TRMMMKD128F425225D</td>\n",
       "      <td>SOVFVAK12A8C1350D9</td>\n",
       "      <td>Karkkiautomaatti</td>\n",
       "      <td>Tanssi vaan</td>\n",
       "    </tr>\n",
       "    <tr>\n",
       "      <th>2</th>\n",
       "      <td>TRMMMRX128F93187D9</td>\n",
       "      <td>SOGTUKN12AB017F4F1</td>\n",
       "      <td>Hudson Mohawke</td>\n",
       "      <td>No One Could Ever</td>\n",
       "    </tr>\n",
       "    <tr>\n",
       "      <th>3</th>\n",
       "      <td>TRMMMCH128F425532C</td>\n",
       "      <td>SOBNYVR12A8C13558C</td>\n",
       "      <td>Yerba Brava</td>\n",
       "      <td>Si Vos Querés</td>\n",
       "    </tr>\n",
       "    <tr>\n",
       "      <th>4</th>\n",
       "      <td>TRMMMWA128F426B589</td>\n",
       "      <td>SOHSBXH12A8C13B0DF</td>\n",
       "      <td>Der Mystic</td>\n",
       "      <td>Tangle Of Aspens</td>\n",
       "    </tr>\n",
       "  </tbody>\n",
       "</table>\n",
       "</div>"
      ],
      "text/plain": [
       "             track_id             song_id            artist               song\n",
       "0  TRMMMYQ128F932D901  SOQMMHC12AB0180CB8  Faster Pussy cat       Silent Night\n",
       "1  TRMMMKD128F425225D  SOVFVAK12A8C1350D9  Karkkiautomaatti        Tanssi vaan\n",
       "2  TRMMMRX128F93187D9  SOGTUKN12AB017F4F1    Hudson Mohawke  No One Could Ever\n",
       "3  TRMMMCH128F425532C  SOBNYVR12A8C13558C       Yerba Brava      Si Vos Querés\n",
       "4  TRMMMWA128F426B589  SOHSBXH12A8C13B0DF        Der Mystic   Tangle Of Aspens"
      ]
     },
     "execution_count": 138,
     "metadata": {},
     "output_type": "execute_result"
    }
   ],
   "source": [
    "# https://labrosa.ee.columbia.edu/millionsong/sites/default/files/AdditionalFiles/unique_tracks.txt\n",
    "unique_tracks_full = pd.read_csv('/Users/Mengying/Desktop/Networks/Project/MSD/Data_userprofile/unique_tracks_full.txt',names = ['track_id','song_id','artist','song'],sep='<SEP>',engine='python')\n",
    "unique_tracks_full.head()"
   ]
  },
  {
   "cell_type": "code",
   "execution_count": 197,
   "metadata": {},
   "outputs": [
    {
     "data": {
      "text/plain": [
       "49664528"
      ]
     },
     "execution_count": 197,
     "metadata": {},
     "output_type": "execute_result"
    }
   ],
   "source": [
    "full_profile = profile.merge(unique_tracks_full, left_on='song', right_on='song_id', how='left')\n",
    "len(full_profile) #48,373,586 --> # 49,664,528 because some songs have 2-3 different track ids."
   ]
  },
  {
   "cell_type": "code",
   "execution_count": 198,
   "metadata": {},
   "outputs": [
    {
     "data": {
      "text/html": [
       "<div>\n",
       "<style>\n",
       "    .dataframe thead tr:only-child th {\n",
       "        text-align: right;\n",
       "    }\n",
       "\n",
       "    .dataframe thead th {\n",
       "        text-align: left;\n",
       "    }\n",
       "\n",
       "    .dataframe tbody tr th {\n",
       "        vertical-align: top;\n",
       "    }\n",
       "</style>\n",
       "<table border=\"1\" class=\"dataframe\">\n",
       "  <thead>\n",
       "    <tr style=\"text-align: right;\">\n",
       "      <th></th>\n",
       "      <th>user</th>\n",
       "      <th>count</th>\n",
       "      <th>track_id</th>\n",
       "      <th>song_id</th>\n",
       "      <th>artist</th>\n",
       "      <th>song_y</th>\n",
       "    </tr>\n",
       "  </thead>\n",
       "  <tbody>\n",
       "    <tr>\n",
       "      <th>0</th>\n",
       "      <td>b80344d063b5ccb3212f76538f3d9e43d87dca9e</td>\n",
       "      <td>1</td>\n",
       "      <td>TRIQAUQ128F42435AD</td>\n",
       "      <td>SOAKIMP12A8C130995</td>\n",
       "      <td>Jack Johnson</td>\n",
       "      <td>The Cove</td>\n",
       "    </tr>\n",
       "    <tr>\n",
       "      <th>1</th>\n",
       "      <td>b80344d063b5ccb3212f76538f3d9e43d87dca9e</td>\n",
       "      <td>1</td>\n",
       "      <td>TRIRLYL128F42539D1</td>\n",
       "      <td>SOAPDEY12A81C210A9</td>\n",
       "      <td>Billy Preston</td>\n",
       "      <td>Nothing from Nothing</td>\n",
       "    </tr>\n",
       "    <tr>\n",
       "      <th>2</th>\n",
       "      <td>b80344d063b5ccb3212f76538f3d9e43d87dca9e</td>\n",
       "      <td>2</td>\n",
       "      <td>TRMHBXZ128F4238406</td>\n",
       "      <td>SOBBMDR12A8C13253B</td>\n",
       "      <td>Paco De Lucia</td>\n",
       "      <td>Entre Dos Aguas</td>\n",
       "    </tr>\n",
       "    <tr>\n",
       "      <th>3</th>\n",
       "      <td>b80344d063b5ccb3212f76538f3d9e43d87dca9e</td>\n",
       "      <td>1</td>\n",
       "      <td>TRYQMNI128F147C1C7</td>\n",
       "      <td>SOBFNSP12AF72A0E22</td>\n",
       "      <td>Josh Rouse</td>\n",
       "      <td>Under Cold Blue Stars</td>\n",
       "    </tr>\n",
       "    <tr>\n",
       "      <th>4</th>\n",
       "      <td>b80344d063b5ccb3212f76538f3d9e43d87dca9e</td>\n",
       "      <td>1</td>\n",
       "      <td>TRAHZNE128F9341B86</td>\n",
       "      <td>SOBFOVM12A58A7D494</td>\n",
       "      <td>The Dead 60s</td>\n",
       "      <td>Riot Radio (Soundtrack Version)</td>\n",
       "    </tr>\n",
       "    <tr>\n",
       "      <th>5</th>\n",
       "      <td>b80344d063b5ccb3212f76538f3d9e43d87dca9e</td>\n",
       "      <td>1</td>\n",
       "      <td>TRJPXGD128F92F17D7</td>\n",
       "      <td>SOBNZDC12A6D4FC103</td>\n",
       "      <td>Amset</td>\n",
       "      <td>Sin límites (I)</td>\n",
       "    </tr>\n",
       "    <tr>\n",
       "      <th>6</th>\n",
       "      <td>b80344d063b5ccb3212f76538f3d9e43d87dca9e</td>\n",
       "      <td>2</td>\n",
       "      <td>TRPLAXZ128F4292406</td>\n",
       "      <td>SOBSUJE12A6D4F8CF5</td>\n",
       "      <td>Jorge Drexler</td>\n",
       "      <td>12 segundos de oscuridad</td>\n",
       "    </tr>\n",
       "    <tr>\n",
       "      <th>7</th>\n",
       "      <td>b80344d063b5ccb3212f76538f3d9e43d87dca9e</td>\n",
       "      <td>1</td>\n",
       "      <td>TREGAVI128F147C1CA</td>\n",
       "      <td>SOBVFZR12A6D4F8AE3</td>\n",
       "      <td>Josh Rouse</td>\n",
       "      <td>Ears To The Ground (Album Version)</td>\n",
       "    </tr>\n",
       "    <tr>\n",
       "      <th>8</th>\n",
       "      <td>b80344d063b5ccb3212f76538f3d9e43d87dca9e</td>\n",
       "      <td>1</td>\n",
       "      <td>TRZYZWL128F4277AD2</td>\n",
       "      <td>SOBXALG12A8C13C108</td>\n",
       "      <td>Eric Hutchinson</td>\n",
       "      <td>Food Chain (Album Version)</td>\n",
       "    </tr>\n",
       "    <tr>\n",
       "      <th>9</th>\n",
       "      <td>b80344d063b5ccb3212f76538f3d9e43d87dca9e</td>\n",
       "      <td>1</td>\n",
       "      <td>TRHNCIR128F42334A5</td>\n",
       "      <td>SOBXHDL12A81C204C0</td>\n",
       "      <td>Kanye West</td>\n",
       "      <td>Stronger</td>\n",
       "    </tr>\n",
       "    <tr>\n",
       "      <th>10</th>\n",
       "      <td>b80344d063b5ccb3212f76538f3d9e43d87dca9e</td>\n",
       "      <td>1</td>\n",
       "      <td>TRUATNS128F423457D</td>\n",
       "      <td>SOBXHDL12A81C204C0</td>\n",
       "      <td>Kanye West</td>\n",
       "      <td>Stronger</td>\n",
       "    </tr>\n",
       "  </tbody>\n",
       "</table>\n",
       "</div>"
      ],
      "text/plain": [
       "                                        user  count            track_id  \\\n",
       "0   b80344d063b5ccb3212f76538f3d9e43d87dca9e      1  TRIQAUQ128F42435AD   \n",
       "1   b80344d063b5ccb3212f76538f3d9e43d87dca9e      1  TRIRLYL128F42539D1   \n",
       "2   b80344d063b5ccb3212f76538f3d9e43d87dca9e      2  TRMHBXZ128F4238406   \n",
       "3   b80344d063b5ccb3212f76538f3d9e43d87dca9e      1  TRYQMNI128F147C1C7   \n",
       "4   b80344d063b5ccb3212f76538f3d9e43d87dca9e      1  TRAHZNE128F9341B86   \n",
       "5   b80344d063b5ccb3212f76538f3d9e43d87dca9e      1  TRJPXGD128F92F17D7   \n",
       "6   b80344d063b5ccb3212f76538f3d9e43d87dca9e      2  TRPLAXZ128F4292406   \n",
       "7   b80344d063b5ccb3212f76538f3d9e43d87dca9e      1  TREGAVI128F147C1CA   \n",
       "8   b80344d063b5ccb3212f76538f3d9e43d87dca9e      1  TRZYZWL128F4277AD2   \n",
       "9   b80344d063b5ccb3212f76538f3d9e43d87dca9e      1  TRHNCIR128F42334A5   \n",
       "10  b80344d063b5ccb3212f76538f3d9e43d87dca9e      1  TRUATNS128F423457D   \n",
       "\n",
       "               song_id           artist                              song_y  \n",
       "0   SOAKIMP12A8C130995     Jack Johnson                            The Cove  \n",
       "1   SOAPDEY12A81C210A9    Billy Preston                Nothing from Nothing  \n",
       "2   SOBBMDR12A8C13253B    Paco De Lucia                     Entre Dos Aguas  \n",
       "3   SOBFNSP12AF72A0E22       Josh Rouse               Under Cold Blue Stars  \n",
       "4   SOBFOVM12A58A7D494     The Dead 60s     Riot Radio (Soundtrack Version)  \n",
       "5   SOBNZDC12A6D4FC103            Amset                     Sin límites (I)  \n",
       "6   SOBSUJE12A6D4F8CF5    Jorge Drexler            12 segundos de oscuridad  \n",
       "7   SOBVFZR12A6D4F8AE3       Josh Rouse  Ears To The Ground (Album Version)  \n",
       "8   SOBXALG12A8C13C108  Eric Hutchinson          Food Chain (Album Version)  \n",
       "9   SOBXHDL12A81C204C0       Kanye West                            Stronger  \n",
       "10  SOBXHDL12A81C204C0       Kanye West                            Stronger  "
      ]
     },
     "execution_count": 198,
     "metadata": {},
     "output_type": "execute_result"
    }
   ],
   "source": [
    "full_profile.drop(['song_x'],inplace=True, axis=1)\n",
    "full_profile.head(11)"
   ]
  },
  {
   "cell_type": "code",
   "execution_count": 177,
   "metadata": {},
   "outputs": [
    {
     "data": {
      "text/plain": [
       "39"
      ]
     },
     "execution_count": 177,
     "metadata": {},
     "output_type": "execute_result"
    }
   ],
   "source": [
    "# check for distribution for duplicated mapping\n",
    "check = full_profile.groupby(['song_id'])['track_id'].nunique()\n",
    "len(check[check.values >= 3]) # 632 for 1 song maps to 2 track_ids, 39 for 1 song maps to 3 track_ids. Not so many"
   ]
  },
  {
   "cell_type": "code",
   "execution_count": 199,
   "metadata": {},
   "outputs": [
    {
     "data": {
      "text/plain": [
       "1115522"
      ]
     },
     "execution_count": 199,
     "metadata": {},
     "output_type": "execute_result"
    }
   ],
   "source": [
    "# Indeed, we see close to 1M records duplicated, one song maps to multiple track_ids.\n",
    "full_profile['is_dup'] = full_profile.duplicated(['user','song_id','artist','song_y'])\n",
    "len(full_profile[full_profile.is_dup == True]) # 1,115,522"
   ]
  },
  {
   "cell_type": "code",
   "execution_count": 184,
   "metadata": {},
   "outputs": [
    {
     "data": {
      "text/html": [
       "<div>\n",
       "<style>\n",
       "    .dataframe thead tr:only-child th {\n",
       "        text-align: right;\n",
       "    }\n",
       "\n",
       "    .dataframe thead th {\n",
       "        text-align: left;\n",
       "    }\n",
       "\n",
       "    .dataframe tbody tr th {\n",
       "        vertical-align: top;\n",
       "    }\n",
       "</style>\n",
       "<table border=\"1\" class=\"dataframe\">\n",
       "  <thead>\n",
       "    <tr style=\"text-align: right;\">\n",
       "      <th></th>\n",
       "      <th>user</th>\n",
       "      <th>song_x</th>\n",
       "      <th>count</th>\n",
       "      <th>track_id</th>\n",
       "      <th>song_id</th>\n",
       "      <th>artist</th>\n",
       "      <th>song_y</th>\n",
       "    </tr>\n",
       "  </thead>\n",
       "  <tbody>\n",
       "    <tr>\n",
       "      <th>9</th>\n",
       "      <td>b80344d063b5ccb3212f76538f3d9e43d87dca9e</td>\n",
       "      <td>SOBXHDL12A81C204C0</td>\n",
       "      <td>1</td>\n",
       "      <td>TRHNCIR128F42334A5</td>\n",
       "      <td>SOBXHDL12A81C204C0</td>\n",
       "      <td>Kanye West</td>\n",
       "      <td>Stronger</td>\n",
       "    </tr>\n",
       "    <tr>\n",
       "      <th>10</th>\n",
       "      <td>b80344d063b5ccb3212f76538f3d9e43d87dca9e</td>\n",
       "      <td>SOBXHDL12A81C204C0</td>\n",
       "      <td>1</td>\n",
       "      <td>TRUATNS128F423457D</td>\n",
       "      <td>SOBXHDL12A81C204C0</td>\n",
       "      <td>Kanye West</td>\n",
       "      <td>Stronger</td>\n",
       "    </tr>\n",
       "  </tbody>\n",
       "</table>\n",
       "</div>"
      ],
      "text/plain": [
       "                                        user              song_x  count  \\\n",
       "9   b80344d063b5ccb3212f76538f3d9e43d87dca9e  SOBXHDL12A81C204C0      1   \n",
       "10  b80344d063b5ccb3212f76538f3d9e43d87dca9e  SOBXHDL12A81C204C0      1   \n",
       "\n",
       "              track_id             song_id      artist    song_y  \n",
       "9   TRHNCIR128F42334A5  SOBXHDL12A81C204C0  Kanye West  Stronger  \n",
       "10  TRUATNS128F423457D  SOBXHDL12A81C204C0  Kanye West  Stronger  "
      ]
     },
     "execution_count": 184,
     "metadata": {},
     "output_type": "execute_result"
    }
   ],
   "source": [
    "# Example of duplicates. Multiple track_ids(2) maps to same song_id\n",
    "full_profile[(full_profile.user == 'b80344d063b5ccb3212f76538f3d9e43d87dca9e') & (full_profile.song_x == 'SOBXHDL12A81C204C0')]"
   ]
  },
  {
   "cell_type": "code",
   "execution_count": 203,
   "metadata": {},
   "outputs": [],
   "source": [
    "# We only look at the song level let's drop the duplicated song_id's for a user. \n",
    "full_profile = full_profile[full_profile.is_dup == False]\n",
    "full_profile.drop(['is_dup'], axis=1, inplace=True)\n",
    "#full_profile.to_csv('/Users/Mengying/Desktop/Networks/Project/MSD/Data_userprofile/full_profile.csv',index=False)"
   ]
  },
  {
   "cell_type": "code",
   "execution_count": 202,
   "metadata": {},
   "outputs": [
    {
     "data": {
      "text/html": [
       "<div>\n",
       "<style>\n",
       "    .dataframe thead tr:only-child th {\n",
       "        text-align: right;\n",
       "    }\n",
       "\n",
       "    .dataframe thead th {\n",
       "        text-align: left;\n",
       "    }\n",
       "\n",
       "    .dataframe tbody tr th {\n",
       "        vertical-align: top;\n",
       "    }\n",
       "</style>\n",
       "<table border=\"1\" class=\"dataframe\">\n",
       "  <thead>\n",
       "    <tr style=\"text-align: right;\">\n",
       "      <th></th>\n",
       "      <th>user</th>\n",
       "      <th>count</th>\n",
       "      <th>track_id</th>\n",
       "      <th>song_id</th>\n",
       "      <th>artist</th>\n",
       "      <th>song_y</th>\n",
       "    </tr>\n",
       "  </thead>\n",
       "  <tbody>\n",
       "    <tr>\n",
       "      <th>0</th>\n",
       "      <td>b80344d063b5ccb3212f76538f3d9e43d87dca9e</td>\n",
       "      <td>1</td>\n",
       "      <td>TRIQAUQ128F42435AD</td>\n",
       "      <td>SOAKIMP12A8C130995</td>\n",
       "      <td>Jack Johnson</td>\n",
       "      <td>The Cove</td>\n",
       "    </tr>\n",
       "    <tr>\n",
       "      <th>1</th>\n",
       "      <td>b80344d063b5ccb3212f76538f3d9e43d87dca9e</td>\n",
       "      <td>1</td>\n",
       "      <td>TRIRLYL128F42539D1</td>\n",
       "      <td>SOAPDEY12A81C210A9</td>\n",
       "      <td>Billy Preston</td>\n",
       "      <td>Nothing from Nothing</td>\n",
       "    </tr>\n",
       "    <tr>\n",
       "      <th>2</th>\n",
       "      <td>b80344d063b5ccb3212f76538f3d9e43d87dca9e</td>\n",
       "      <td>2</td>\n",
       "      <td>TRMHBXZ128F4238406</td>\n",
       "      <td>SOBBMDR12A8C13253B</td>\n",
       "      <td>Paco De Lucia</td>\n",
       "      <td>Entre Dos Aguas</td>\n",
       "    </tr>\n",
       "    <tr>\n",
       "      <th>3</th>\n",
       "      <td>b80344d063b5ccb3212f76538f3d9e43d87dca9e</td>\n",
       "      <td>1</td>\n",
       "      <td>TRYQMNI128F147C1C7</td>\n",
       "      <td>SOBFNSP12AF72A0E22</td>\n",
       "      <td>Josh Rouse</td>\n",
       "      <td>Under Cold Blue Stars</td>\n",
       "    </tr>\n",
       "    <tr>\n",
       "      <th>4</th>\n",
       "      <td>b80344d063b5ccb3212f76538f3d9e43d87dca9e</td>\n",
       "      <td>1</td>\n",
       "      <td>TRAHZNE128F9341B86</td>\n",
       "      <td>SOBFOVM12A58A7D494</td>\n",
       "      <td>The Dead 60s</td>\n",
       "      <td>Riot Radio (Soundtrack Version)</td>\n",
       "    </tr>\n",
       "  </tbody>\n",
       "</table>\n",
       "</div>"
      ],
      "text/plain": [
       "                                       user  count            track_id  \\\n",
       "0  b80344d063b5ccb3212f76538f3d9e43d87dca9e      1  TRIQAUQ128F42435AD   \n",
       "1  b80344d063b5ccb3212f76538f3d9e43d87dca9e      1  TRIRLYL128F42539D1   \n",
       "2  b80344d063b5ccb3212f76538f3d9e43d87dca9e      2  TRMHBXZ128F4238406   \n",
       "3  b80344d063b5ccb3212f76538f3d9e43d87dca9e      1  TRYQMNI128F147C1C7   \n",
       "4  b80344d063b5ccb3212f76538f3d9e43d87dca9e      1  TRAHZNE128F9341B86   \n",
       "\n",
       "              song_id         artist                           song_y  \n",
       "0  SOAKIMP12A8C130995   Jack Johnson                         The Cove  \n",
       "1  SOAPDEY12A81C210A9  Billy Preston             Nothing from Nothing  \n",
       "2  SOBBMDR12A8C13253B  Paco De Lucia                  Entre Dos Aguas  \n",
       "3  SOBFNSP12AF72A0E22     Josh Rouse            Under Cold Blue Stars  \n",
       "4  SOBFOVM12A58A7D494   The Dead 60s  Riot Radio (Soundtrack Version)  "
      ]
     },
     "execution_count": 202,
     "metadata": {},
     "output_type": "execute_result"
    }
   ],
   "source": [
    "full_profile.head()"
   ]
  },
  {
   "cell_type": "markdown",
   "metadata": {},
   "source": [
    "### Create train/test split 8:2"
   ]
  },
  {
   "cell_type": "code",
   "execution_count": 204,
   "metadata": {
    "collapsed": true
   },
   "outputs": [],
   "source": [
    "np.random.seed(6080)\n",
    "train_records = np.random.choice(len(full_profile), int(len(full_profile)*0.8),replace=False)\n",
    "train = full_profile.iloc[train_records,] #(38,839,204,  6), 1,019,318 users\n",
    "test = full_profile[~ full_profile.index.isin(train_records)] #(10,581,579,  6), 999,221 users"
   ]
  },
  {
   "cell_type": "code",
   "execution_count": 218,
   "metadata": {
    "collapsed": true
   },
   "outputs": [],
   "source": [
    "train.to_csv('/Users/Mengying/Desktop/Networks/Project/MSD/Data_userprofile/train.csv',index=False)\n",
    "test.to_csv('/Users/Mengying/Desktop/Networks/Project/MSD/Data_userprofile/test.csv',index=False)"
   ]
  },
  {
   "cell_type": "code",
   "execution_count": 209,
   "metadata": {},
   "outputs": [
    {
     "data": {
      "text/plain": [
       "999221"
      ]
     },
     "execution_count": 209,
     "metadata": {},
     "output_type": "execute_result"
    }
   ],
   "source": [
    "len(pd.unique(test['user']))"
   ]
  },
  {
   "cell_type": "code",
   "execution_count": 215,
   "metadata": {},
   "outputs": [
    {
     "data": {
      "text/html": [
       "<div>\n",
       "<style>\n",
       "    .dataframe thead tr:only-child th {\n",
       "        text-align: right;\n",
       "    }\n",
       "\n",
       "    .dataframe thead th {\n",
       "        text-align: left;\n",
       "    }\n",
       "\n",
       "    .dataframe tbody tr th {\n",
       "        vertical-align: top;\n",
       "    }\n",
       "</style>\n",
       "<table border=\"1\" class=\"dataframe\">\n",
       "  <thead>\n",
       "    <tr style=\"text-align: right;\">\n",
       "      <th></th>\n",
       "      <th>song_id</th>\n",
       "    </tr>\n",
       "  </thead>\n",
       "  <tbody>\n",
       "    <tr>\n",
       "      <th>0</th>\n",
       "      <td>SONGIPI12A8AE46162</td>\n",
       "    </tr>\n",
       "    <tr>\n",
       "      <th>1</th>\n",
       "      <td>SOTCMDJ12A6D4F8528</td>\n",
       "    </tr>\n",
       "    <tr>\n",
       "      <th>2</th>\n",
       "      <td>SOGBNLS12A6D4F7818</td>\n",
       "    </tr>\n",
       "    <tr>\n",
       "      <th>3</th>\n",
       "      <td>SOWQJGC12A6D4F703A</td>\n",
       "    </tr>\n",
       "    <tr>\n",
       "      <th>4</th>\n",
       "      <td>SOWYYUQ12A6701D68D</td>\n",
       "    </tr>\n",
       "  </tbody>\n",
       "</table>\n",
       "</div>"
      ],
      "text/plain": [
       "              song_id\n",
       "0  SONGIPI12A8AE46162\n",
       "1  SOTCMDJ12A6D4F8528\n",
       "2  SOGBNLS12A6D4F7818\n",
       "3  SOWQJGC12A6D4F703A\n",
       "4  SOWYYUQ12A6701D68D"
      ]
     },
     "execution_count": 215,
     "metadata": {},
     "output_type": "execute_result"
    }
   ],
   "source": [
    "# unique songs appeared in training data [Yuying]\n",
    "train_songs = pd.unique(train['song_id'])\n",
    "train_songs = pd.DataFrame(train_songs, columns = ['song_id'])\n",
    "train_songs.head()"
   ]
  },
  {
   "cell_type": "code",
   "execution_count": 216,
   "metadata": {},
   "outputs": [],
   "source": [
    "train_songs.to_csv('/Users/Mengying/Desktop/Networks/Project/MSD/Data_userprofile/songs.csv',index=False)"
   ]
  },
  {
   "cell_type": "code",
   "execution_count": 217,
   "metadata": {},
   "outputs": [
    {
     "data": {
      "text/plain": [
       "count    3.883920e+07\n",
       "mean     2.865326e+00\n",
       "std      6.453833e+00\n",
       "min      1.000000e+00\n",
       "25%      1.000000e+00\n",
       "50%      1.000000e+00\n",
       "75%      3.000000e+00\n",
       "max      9.667000e+03\n",
       "Name: count, dtype: float64"
      ]
     },
     "execution_count": 217,
     "metadata": {},
     "output_type": "execute_result"
    }
   ],
   "source": [
    "#train['count'].sort_values(ascending=False)\n",
    "train['count'].describe()"
   ]
  },
  {
   "cell_type": "markdown",
   "metadata": {},
   "source": [
    "### Collaborative Filtering -> Finding similar users"
   ]
  },
  {
   "cell_type": "markdown",
   "metadata": {},
   "source": [
    "#### Only on Filtered data"
   ]
  },
  {
   "cell_type": "code",
   "execution_count": 85,
   "metadata": {
    "collapsed": true
   },
   "outputs": [],
   "source": [
    "# Using filtered\n",
    "filtered_SONG_AVG = dict(train['count'].groupby(train['track_id']).mean()) # {song: song_avg_count}\n",
    "filtered_USER_AVG = dict(train['count'].groupby(train['user']).mean())"
   ]
  },
  {
   "cell_type": "code",
   "execution_count": 95,
   "metadata": {
    "collapsed": true
   },
   "outputs": [],
   "source": [
    "filtered_SONG_COUNT = train['count'].groupby(train['track_id']).sum()"
   ]
  },
  {
   "cell_type": "code",
   "execution_count": 112,
   "metadata": {},
   "outputs": [
    {
     "data": {
      "text/html": [
       "<div>\n",
       "<style>\n",
       "    .dataframe thead tr:only-child th {\n",
       "        text-align: right;\n",
       "    }\n",
       "\n",
       "    .dataframe thead th {\n",
       "        text-align: left;\n",
       "    }\n",
       "\n",
       "    .dataframe tbody tr th {\n",
       "        vertical-align: top;\n",
       "    }\n",
       "</style>\n",
       "<table border=\"1\" class=\"dataframe\">\n",
       "  <thead>\n",
       "    <tr style=\"text-align: right;\">\n",
       "      <th></th>\n",
       "      <th>count</th>\n",
       "      <th>frequency</th>\n",
       "    </tr>\n",
       "  </thead>\n",
       "  <tbody>\n",
       "    <tr>\n",
       "      <th>0</th>\n",
       "      <td>209</td>\n",
       "      <td>1</td>\n",
       "    </tr>\n",
       "    <tr>\n",
       "      <th>1</th>\n",
       "      <td>164</td>\n",
       "      <td>2</td>\n",
       "    </tr>\n",
       "    <tr>\n",
       "      <th>2</th>\n",
       "      <td>120</td>\n",
       "      <td>3</td>\n",
       "    </tr>\n",
       "    <tr>\n",
       "      <th>3</th>\n",
       "      <td>105</td>\n",
       "      <td>4</td>\n",
       "    </tr>\n",
       "    <tr>\n",
       "      <th>4</th>\n",
       "      <td>120</td>\n",
       "      <td>5</td>\n",
       "    </tr>\n",
       "  </tbody>\n",
       "</table>\n",
       "</div>"
      ],
      "text/plain": [
       "   count  frequency\n",
       "0    209          1\n",
       "1    164          2\n",
       "2    120          3\n",
       "3    105          4\n",
       "4    120          5"
      ]
     },
     "execution_count": 112,
     "metadata": {},
     "output_type": "execute_result"
    }
   ],
   "source": [
    "count_frequency = filtered_SONG_COUNT.groupby(filtered_SONG_COUNT.values).count()\n",
    "count_frequency = pd.DataFrame({'frequency':count_frequency.index , 'count':count_frequency.values})\n",
    "count_frequency.head()"
   ]
  },
  {
   "cell_type": "code",
   "execution_count": 118,
   "metadata": {
    "collapsed": true
   },
   "outputs": [],
   "source": [
    "filtered_count_freq = count_frequency[count_frequency['count'] > 2]"
   ]
  },
  {
   "cell_type": "code",
   "execution_count": null,
   "metadata": {
    "collapsed": true
   },
   "outputs": [],
   "source": []
  },
  {
   "cell_type": "code",
   "execution_count": 126,
   "metadata": {},
   "outputs": [
    {
     "data": {
      "image/png": "[encoded data removed]",
      "text/plain": [
       "<matplotlib.figure.Figure at 0x1a1e143978>"
      ]
     },
     "metadata": {},
     "output_type": "display_data"
    }
   ],
   "source": [
    "plt.plot(filtered_count_freq['frequency'], filtered_count_freq['count'])\n",
    "plt.xlabel('number of songs')\n",
    "plt.ylabel('listening counts')\n",
    "plt.show()"
   ]
  },
  {
   "cell_type": "code",
   "execution_count": 132,
   "metadata": {},
   "outputs": [
    {
     "data": {
      "image/png": "[encoded data removed]",
      "text/plain": [
       "<matplotlib.figure.Figure at 0x1a2121d0b8>"
      ]
     },
     "metadata": {},
     "output_type": "display_data"
    }
   ],
   "source": [
    "plt.plot(np.log(filtered_count_freq['frequency']), np.log(filtered_count_freq['count']), 'y')\n",
    "plt.xlabel('log(number of songs)')\n",
    "plt.ylabel('log(listening counts)')\n",
    "plt.show()"
   ]
  },
  {
   "cell_type": "code",
   "execution_count": 106,
   "metadata": {},
   "outputs": [
    {
     "data": {
      "image/png": "[encoded data removed]",
      "text/plain": [
       "<matplotlib.figure.Figure at 0x1a203545c0>"
      ]
     },
     "metadata": {},
     "output_type": "display_data"
    }
   ],
   "source": [
    "sns.distplot(filtered_SONG_COUNT.values)\n",
    "plt.show()"
   ]
  },
  {
   "cell_type": "code",
   "execution_count": 86,
   "metadata": {
    "collapsed": true
   },
   "outputs": [
    {
     "name": "stderr",
     "output_type": "stream",
     "text": [
      "/anaconda3/envs/si618/lib/python3.6/site-packages/ipykernel_launcher.py:3: SettingWithCopyWarning: \n",
      "A value is trying to be set on a copy of a slice from a DataFrame.\n",
      "Try using .loc[row_indexer,col_indexer] = value instead\n",
      "\n",
      "See the caveats in the documentation: http://pandas.pydata.org/pandas-docs/stable/indexing.html#indexing-view-versus-copy\n",
      "  This is separate from the ipykernel package so we can avoid doing imports until\n",
      "/anaconda3/envs/si618/lib/python3.6/site-packages/ipykernel_launcher.py:5: SettingWithCopyWarning: \n",
      "A value is trying to be set on a copy of a slice from a DataFrame.\n",
      "Try using .loc[row_indexer,col_indexer] = value instead\n",
      "\n",
      "See the caveats in the documentation: http://pandas.pydata.org/pandas-docs/stable/indexing.html#indexing-view-versus-copy\n",
      "  \"\"\"\n"
     ]
    }
   ],
   "source": [
    "# Encode user and song id to make integer position \n",
    "track_encoder = preprocessing.LabelEncoder()\n",
    "train['TRACK_ID'] = track_encoder.fit_transform(train['track_id'])\n",
    "user_encoder = preprocessing.LabelEncoder()\n",
    "train['USER_ID'] = user_encoder.fit_transform(train['user'])"
   ]
  },
  {
   "cell_type": "code",
   "execution_count": 89,
   "metadata": {},
   "outputs": [
    {
     "data": {
      "text/plain": [
       "3612"
      ]
     },
     "execution_count": 89,
     "metadata": {},
     "output_type": "execute_result"
    }
   ],
   "source": [
    "train.track_id.unique().shape[0] # train: 3612, test: 2979, 2916 common track_id, 3675 union"
   ]
  },
  {
   "cell_type": "code",
   "execution_count": 91,
   "metadata": {},
   "outputs": [
    {
     "data": {
      "text/plain": [
       "(3675, 1)"
      ]
     },
     "execution_count": 91,
     "metadata": {},
     "output_type": "execute_result"
    }
   ],
   "source": [
    "# Check for common track id and cold start\n",
    "#test_track_set = pd.DataFrame(test.track_id.unique())\n",
    "#train_track_set = pd.DataFrame(train.track_id.unique())\n",
    "test_track_set.merge(train_track_set, how='outer').shape "
   ]
  },
  {
   "cell_type": "code",
   "execution_count": 55,
   "metadata": {
    "collapsed": true
   },
   "outputs": [],
   "source": [
    "# Create matrix\n",
    "listening_counts = np.array(train['count'].values)\n",
    "user_pos = np.array(train['USER_ID'].values)\n",
    "song_pos = np.array(train['TRACK_ID'].values)\n",
    "mtx = sparse.coo_matrix((listening_counts, (user_pos,song_pos)), shape=(334601, 3607))\n",
    "user_song_matrix = mtx.tocsr() #(334601, 3607)"
   ]
  },
  {
   "cell_type": "code",
   "execution_count": null,
   "metadata": {
    "collapsed": true
   },
   "outputs": [],
   "source": [
    "def predict_CF(data):\n",
    "    for index, row in data.iterrows():\n",
    "        try:\n",
    "            u_ind = filtered_USER_AVG[row['user']]\n",
    "        except:\n",
    "            continue\n",
    "        try:\n",
    "            m_ind = filtered_SONG_AVG[row['track_id']]\n",
    "        except:\n",
    "            continue\n",
    "        \n",
    "        users_position = "
   ]
  },
  {
   "cell_type": "code",
   "execution_count": null,
   "metadata": {
    "collapsed": true
   },
   "outputs": [],
   "source": []
  },
  {
   "cell_type": "code",
   "execution_count": null,
   "metadata": {
    "collapsed": true
   },
   "outputs": [],
   "source": []
  }
 ],
 "metadata": {
  "kernelspec": {
   "display_name": "Python 3",
   "language": "python",
   "name": "python3"
  },
  "language_info": {
   "codemirror_mode": {
    "name": "ipython",
    "version": 3
   },
   "file_extension": ".py",
   "mimetype": "text/x-python",
   "name": "python",
   "nbconvert_exporter": "python",
   "pygments_lexer": "ipython3",
   "version": "3.6.6"
  }
 },
 "nbformat": 4,
 "nbformat_minor": 2
}
