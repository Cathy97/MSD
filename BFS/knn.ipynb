{
 "cells": [
  {
   "cell_type": "code",
   "execution_count": 1,
   "metadata": {},
   "outputs": [],
   "source": [
    "import pandas as pd\n",
    "import numpy as np\n",
    "import time\n",
    "import sklearn\n",
    "from sklearn.linear_model import LinearRegression\n",
    "from sklearn.metrics.pairwise import cosine_similarity\n",
    "from sklearn.metrics import pairwise_distances\n",
    "from scipy import sparse\n",
    "from sklearn import preprocessing\n",
    "import matplotlib.pyplot as plt\n",
    "import seaborn as sns\n",
    "from sklearn import preprocessing\n",
    "from collections import Counter\n",
    "import pickle\n",
    "import ast\n",
    "import networkx as nx\n",
    "from networkx.algorithms import bipartite"
   ]
  },
  {
   "cell_type": "code",
   "execution_count": 2,
   "metadata": {},
   "outputs": [],
   "source": [
    "projection=nx.read_gpickle(\"../Data_userprofile/projection.gpickle\")"
   ]
  },
  {
   "cell_type": "code",
   "execution_count": 426,
   "metadata": {},
   "outputs": [
    {
     "data": {
      "text/plain": [
       "1.7191729244231295"
      ]
     },
     "execution_count": 426,
     "metadata": {},
     "output_type": "execute_result"
    }
   ],
   "source": [
    "nx.average_shortest_path_length(projection)"
   ]
  },
  {
   "cell_type": "code",
   "execution_count": 433,
   "metadata": {},
   "outputs": [
    {
     "data": {
      "image/png": "[encoded data removed]",
      "text/plain": [
       "<Figure size 1080x720 with 1 Axes>"
      ]
     },
     "metadata": {},
     "output_type": "display_data"
    }
   ],
   "source": [
    "import collections\n",
    "G=projection\n",
    "degree_sequence = sorted([d for n, d in G.degree()], reverse=True)  # degree sequence\n",
    "# print \"Degree sequence\", degree_sequence\n",
    "degreeCount = collections.Counter(degree_sequence)\n",
    "deg, cnt = zip(*degreeCount.items())\n",
    "\n",
    "plt.subplots(figsize=(15,10))\n",
    "plt.bar(deg, cnt, width=0.80, color='b')\n",
    "\n",
    "plt.title(\"Degree Histogram\")\n",
    "plt.ylabel(\"Count\")\n",
    "plt.xlabel(\"Degree\")\n",
    "ax.set_xticks([d + 0.4 for d in deg])\n",
    "ax.set_xticklabels(deg)\n",
    "\n",
    "# # draw graph in inset\n",
    "# plt.axes([0.4, 0.4, 0.5, 0.5])\n",
    "# Gcc = sorted(nx.connected_component_subgraphs(G), key=len, reverse=True)[0]\n",
    "# pos = nx.spring_layout(G)\n",
    "# plt.axis('off')\n",
    "# nx.draw_networkx_nodes(G, pos, node_size=20)\n",
    "# nx.draw_networkx_edges(G, pos, alpha=0.4)\n",
    "\n",
    "plt.show()"
   ]
  },
  {
   "cell_type": "code",
   "execution_count": 9,
   "metadata": {},
   "outputs": [],
   "source": [
    "history=pd.read_csv('../Data_userprofile/train_test/train.csv')"
   ]
  },
  {
   "cell_type": "code",
   "execution_count": 10,
   "metadata": {},
   "outputs": [
    {
     "data": {
      "text/html": [
       "<div>\n",
       "<style scoped>\n",
       "    .dataframe tbody tr th:only-of-type {\n",
       "        vertical-align: middle;\n",
       "    }\n",
       "\n",
       "    .dataframe tbody tr th {\n",
       "        vertical-align: top;\n",
       "    }\n",
       "\n",
       "    .dataframe thead th {\n",
       "        text-align: right;\n",
       "    }\n",
       "</style>\n",
       "<table border=\"1\" class=\"dataframe\">\n",
       "  <thead>\n",
       "    <tr style=\"text-align: right;\">\n",
       "      <th></th>\n",
       "      <th>user</th>\n",
       "      <th>count</th>\n",
       "      <th>track_id</th>\n",
       "      <th>song_id</th>\n",
       "      <th>artist</th>\n",
       "      <th>song_y</th>\n",
       "      <th>duration</th>\n",
       "      <th>loudness</th>\n",
       "      <th>tempo</th>\n",
       "      <th>song_hotness</th>\n",
       "      <th>artist_hotness</th>\n",
       "      <th>key_confidence</th>\n",
       "      <th>mode_confidence</th>\n",
       "      <th>release_year</th>\n",
       "      <th>artist_id</th>\n",
       "      <th>artist_tag</th>\n",
       "      <th>predict</th>\n",
       "      <th>track_label</th>\n",
       "      <th>user_label</th>\n",
       "      <th>demeaned_count</th>\n",
       "    </tr>\n",
       "  </thead>\n",
       "  <tbody>\n",
       "    <tr>\n",
       "      <th>0</th>\n",
       "      <td>93b58bd2feab229d599a119c6e3ede2d5e46829d</td>\n",
       "      <td>1</td>\n",
       "      <td>TRAQVTO128F14696A6</td>\n",
       "      <td>SONJBQX12A6D4F8382</td>\n",
       "      <td>Daft Punk</td>\n",
       "      <td>Da Funk</td>\n",
       "      <td>329.53424</td>\n",
       "      <td>-5.019</td>\n",
       "      <td>111.201</td>\n",
       "      <td>0.862255</td>\n",
       "      <td>1.021256</td>\n",
       "      <td>0.055</td>\n",
       "      <td>0.419</td>\n",
       "      <td>1995</td>\n",
       "      <td>b'ARF8HTQ1187B9AE693'</td>\n",
       "      <td>[b'french' b'electronic' b'wp musicians' b'eur...</td>\n",
       "      <td>23</td>\n",
       "      <td>1670</td>\n",
       "      <td>71627</td>\n",
       "      <td>-0.666667</td>\n",
       "    </tr>\n",
       "    <tr>\n",
       "      <th>1</th>\n",
       "      <td>c30ef473f8260e912a68fdf974ef021d3ab354d5</td>\n",
       "      <td>7</td>\n",
       "      <td>TRAURYF128F147805D</td>\n",
       "      <td>SOIZLKI12A6D4F7B61</td>\n",
       "      <td>Muse</td>\n",
       "      <td>Supermassive Black Hole (Album Version)</td>\n",
       "      <td>209.34485</td>\n",
       "      <td>-3.313</td>\n",
       "      <td>120.010</td>\n",
       "      <td>0.760348</td>\n",
       "      <td>0.750427</td>\n",
       "      <td>0.034</td>\n",
       "      <td>0.503</td>\n",
       "      <td>0</td>\n",
       "      <td>b'ARR3ONV1187B9A2F59'</td>\n",
       "      <td>[]</td>\n",
       "      <td>68</td>\n",
       "      <td>2035</td>\n",
       "      <td>94636</td>\n",
       "      <td>-3.000000</td>\n",
       "    </tr>\n",
       "    <tr>\n",
       "      <th>2</th>\n",
       "      <td>558e6f49f9455e5b51e67d7935a5e340c50c8625</td>\n",
       "      <td>3</td>\n",
       "      <td>TRANCOS128F4267DFB</td>\n",
       "      <td>SOJSGWO12AF72A2C49</td>\n",
       "      <td>Mando Diao</td>\n",
       "      <td>All My Senses</td>\n",
       "      <td>251.03628</td>\n",
       "      <td>-5.403</td>\n",
       "      <td>119.346</td>\n",
       "      <td>0.645983</td>\n",
       "      <td>0.486825</td>\n",
       "      <td>0.312</td>\n",
       "      <td>0.457</td>\n",
       "      <td>2004</td>\n",
       "      <td>b'ARR6MOS1187B994C51'</td>\n",
       "      <td>[b'su\\xc3\\xa9dois' b'garage rock' b'swedish' b...</td>\n",
       "      <td>2</td>\n",
       "      <td>1304</td>\n",
       "      <td>41473</td>\n",
       "      <td>1.769231</td>\n",
       "    </tr>\n",
       "    <tr>\n",
       "      <th>3</th>\n",
       "      <td>269c71b2e37e7988ec005da553479f16194a1435</td>\n",
       "      <td>2</td>\n",
       "      <td>TRADYQK128F42A762A</td>\n",
       "      <td>SORJVDO12AF72A1970</td>\n",
       "      <td>Muse</td>\n",
       "      <td>Stockholm Syndrome</td>\n",
       "      <td>296.95955</td>\n",
       "      <td>-4.854</td>\n",
       "      <td>128.134</td>\n",
       "      <td>0.776351</td>\n",
       "      <td>0.750427</td>\n",
       "      <td>0.476</td>\n",
       "      <td>0.445</td>\n",
       "      <td>0</td>\n",
       "      <td>b'ARR3ONV1187B9A2F59'</td>\n",
       "      <td>[]</td>\n",
       "      <td>9</td>\n",
       "      <td>410</td>\n",
       "      <td>18697</td>\n",
       "      <td>0.500000</td>\n",
       "    </tr>\n",
       "    <tr>\n",
       "      <th>4</th>\n",
       "      <td>3fa78fdd6924662970f5141a90afbf55cb25883d</td>\n",
       "      <td>1</td>\n",
       "      <td>TRAAKDG128F42A0ECB</td>\n",
       "      <td>SOEHWGF12A6D4F8B2B</td>\n",
       "      <td>Shakira Featuring Wyclef Jean</td>\n",
       "      <td>Hips Don't Lie (featuring Wyclef Jean)</td>\n",
       "      <td>217.36444</td>\n",
       "      <td>-5.152</td>\n",
       "      <td>100.023</td>\n",
       "      <td>0.737385</td>\n",
       "      <td>0.682263</td>\n",
       "      <td>0.805</td>\n",
       "      <td>0.688</td>\n",
       "      <td>0</td>\n",
       "      <td>b'AR6PJ8R1187FB5AD70'</td>\n",
       "      <td>[b'colombian' b'classic pop and rock' b'espa\\x...</td>\n",
       "      <td>29</td>\n",
       "      <td>51</td>\n",
       "      <td>30841</td>\n",
       "      <td>-0.200000</td>\n",
       "    </tr>\n",
       "  </tbody>\n",
       "</table>\n",
       "</div>"
      ],
      "text/plain": [
       "                                       user  count            track_id  \\\n",
       "0  93b58bd2feab229d599a119c6e3ede2d5e46829d      1  TRAQVTO128F14696A6   \n",
       "1  c30ef473f8260e912a68fdf974ef021d3ab354d5      7  TRAURYF128F147805D   \n",
       "2  558e6f49f9455e5b51e67d7935a5e340c50c8625      3  TRANCOS128F4267DFB   \n",
       "3  269c71b2e37e7988ec005da553479f16194a1435      2  TRADYQK128F42A762A   \n",
       "4  3fa78fdd6924662970f5141a90afbf55cb25883d      1  TRAAKDG128F42A0ECB   \n",
       "\n",
       "              song_id                         artist  \\\n",
       "0  SONJBQX12A6D4F8382                      Daft Punk   \n",
       "1  SOIZLKI12A6D4F7B61                           Muse   \n",
       "2  SOJSGWO12AF72A2C49                     Mando Diao   \n",
       "3  SORJVDO12AF72A1970                           Muse   \n",
       "4  SOEHWGF12A6D4F8B2B  Shakira Featuring Wyclef Jean   \n",
       "\n",
       "                                    song_y   duration  loudness    tempo  \\\n",
       "0                                  Da Funk  329.53424    -5.019  111.201   \n",
       "1  Supermassive Black Hole (Album Version)  209.34485    -3.313  120.010   \n",
       "2                            All My Senses  251.03628    -5.403  119.346   \n",
       "3                       Stockholm Syndrome  296.95955    -4.854  128.134   \n",
       "4   Hips Don't Lie (featuring Wyclef Jean)  217.36444    -5.152  100.023   \n",
       "\n",
       "   song_hotness  artist_hotness  key_confidence  mode_confidence  \\\n",
       "0      0.862255        1.021256           0.055            0.419   \n",
       "1      0.760348        0.750427           0.034            0.503   \n",
       "2      0.645983        0.486825           0.312            0.457   \n",
       "3      0.776351        0.750427           0.476            0.445   \n",
       "4      0.737385        0.682263           0.805            0.688   \n",
       "\n",
       "   release_year              artist_id  \\\n",
       "0          1995  b'ARF8HTQ1187B9AE693'   \n",
       "1             0  b'ARR3ONV1187B9A2F59'   \n",
       "2          2004  b'ARR6MOS1187B994C51'   \n",
       "3             0  b'ARR3ONV1187B9A2F59'   \n",
       "4             0  b'AR6PJ8R1187FB5AD70'   \n",
       "\n",
       "                                          artist_tag  predict  track_label  \\\n",
       "0  [b'french' b'electronic' b'wp musicians' b'eur...       23         1670   \n",
       "1                                                 []       68         2035   \n",
       "2  [b'su\\xc3\\xa9dois' b'garage rock' b'swedish' b...        2         1304   \n",
       "3                                                 []        9          410   \n",
       "4  [b'colombian' b'classic pop and rock' b'espa\\x...       29           51   \n",
       "\n",
       "   user_label  demeaned_count  \n",
       "0       71627       -0.666667  \n",
       "1       94636       -3.000000  \n",
       "2       41473        1.769231  \n",
       "3       18697        0.500000  \n",
       "4       30841       -0.200000  "
      ]
     },
     "execution_count": 10,
     "metadata": {},
     "output_type": "execute_result"
    }
   ],
   "source": [
    "history.head()"
   ]
  },
  {
   "cell_type": "code",
   "execution_count": 12,
   "metadata": {},
   "outputs": [],
   "source": [
    "test_cluster_batch = pd.read_csv('../Data_userprofile/train_test/test_cluster_batch.csv')"
   ]
  },
  {
   "cell_type": "code",
   "execution_count": 13,
   "metadata": {},
   "outputs": [
    {
     "data": {
      "text/html": [
       "<div>\n",
       "<style scoped>\n",
       "    .dataframe tbody tr th:only-of-type {\n",
       "        vertical-align: middle;\n",
       "    }\n",
       "\n",
       "    .dataframe tbody tr th {\n",
       "        vertical-align: top;\n",
       "    }\n",
       "\n",
       "    .dataframe thead th {\n",
       "        text-align: right;\n",
       "    }\n",
       "</style>\n",
       "<table border=\"1\" class=\"dataframe\">\n",
       "  <thead>\n",
       "    <tr style=\"text-align: right;\">\n",
       "      <th></th>\n",
       "      <th>user</th>\n",
       "      <th>count</th>\n",
       "      <th>track_id</th>\n",
       "      <th>song_id</th>\n",
       "      <th>artist</th>\n",
       "      <th>song_y</th>\n",
       "      <th>duration</th>\n",
       "      <th>loudness</th>\n",
       "      <th>tempo</th>\n",
       "      <th>song_hotness</th>\n",
       "      <th>...</th>\n",
       "      <th>artist_tag</th>\n",
       "      <th>predict</th>\n",
       "      <th>CF</th>\n",
       "      <th>dummy</th>\n",
       "      <th>like</th>\n",
       "      <th>CF_raw</th>\n",
       "      <th>SONG_AVG</th>\n",
       "      <th>SONG_Q</th>\n",
       "      <th>track_label</th>\n",
       "      <th>user_label</th>\n",
       "    </tr>\n",
       "  </thead>\n",
       "  <tbody>\n",
       "    <tr>\n",
       "      <th>0</th>\n",
       "      <td>82ef16cb5e45c1afe71979afcc6dbae8fdd36aeb</td>\n",
       "      <td>8</td>\n",
       "      <td>TRBDQUF128F42AE54C</td>\n",
       "      <td>SOBBFWL12A8C140087</td>\n",
       "      <td>Daler Mehndi;Chitra</td>\n",
       "      <td>Rang De Basanti</td>\n",
       "      <td>363.80689</td>\n",
       "      <td>-7.403</td>\n",
       "      <td>105.026</td>\n",
       "      <td>0.363686</td>\n",
       "      <td>...</td>\n",
       "      <td>[b'singer' b'dancer' b'indian']</td>\n",
       "      <td>49</td>\n",
       "      <td>2.0</td>\n",
       "      <td>0</td>\n",
       "      <td>2</td>\n",
       "      <td>9.616318</td>\n",
       "      <td>8.628472</td>\n",
       "      <td>5.0</td>\n",
       "      <td>2920</td>\n",
       "      <td>63564</td>\n",
       "    </tr>\n",
       "    <tr>\n",
       "      <th>2</th>\n",
       "      <td>a3d5597a793f2fad64f6468729711c36bb49c594</td>\n",
       "      <td>9</td>\n",
       "      <td>TRALSXX128F92F94B0</td>\n",
       "      <td>SOBSEGK12A58A7BEBF</td>\n",
       "      <td>Sex Pistols</td>\n",
       "      <td>Seventeen</td>\n",
       "      <td>129.93261</td>\n",
       "      <td>-6.458</td>\n",
       "      <td>129.722</td>\n",
       "      <td>0.704853</td>\n",
       "      <td>...</td>\n",
       "      <td>[b'british' b'punk rock' b'uk' b'london' b'eng...</td>\n",
       "      <td>62</td>\n",
       "      <td>1.0</td>\n",
       "      <td>0</td>\n",
       "      <td>2</td>\n",
       "      <td>3.353521</td>\n",
       "      <td>3.427536</td>\n",
       "      <td>1.0</td>\n",
       "      <td>1179</td>\n",
       "      <td>79550</td>\n",
       "    </tr>\n",
       "    <tr>\n",
       "      <th>4</th>\n",
       "      <td>b6b71d901553d790698f562e7dfd211a4724f131</td>\n",
       "      <td>14</td>\n",
       "      <td>TRAURYF128F147805D</td>\n",
       "      <td>SOIZLKI12A6D4F7B61</td>\n",
       "      <td>Muse</td>\n",
       "      <td>Supermassive Black Hole (Album Version)</td>\n",
       "      <td>209.34485</td>\n",
       "      <td>-3.313</td>\n",
       "      <td>120.010</td>\n",
       "      <td>0.760348</td>\n",
       "      <td>...</td>\n",
       "      <td>[]</td>\n",
       "      <td>68</td>\n",
       "      <td>1.0</td>\n",
       "      <td>0</td>\n",
       "      <td>2</td>\n",
       "      <td>3.879612</td>\n",
       "      <td>4.144224</td>\n",
       "      <td>2.0</td>\n",
       "      <td>2035</td>\n",
       "      <td>88685</td>\n",
       "    </tr>\n",
       "    <tr>\n",
       "      <th>5</th>\n",
       "      <td>392a322c1d6788bc7e0ab2ad9e486a6ff5520385</td>\n",
       "      <td>17</td>\n",
       "      <td>TRBALRR128F429625D</td>\n",
       "      <td>SOLSJHM12A8C139B46</td>\n",
       "      <td>Britney Spears</td>\n",
       "      <td>Can't Make You Love Me</td>\n",
       "      <td>196.80608</td>\n",
       "      <td>-3.693</td>\n",
       "      <td>107.969</td>\n",
       "      <td>0.839984</td>\n",
       "      <td>...</td>\n",
       "      <td>[b'pop' b'american' b'urban pop' b'dance' b'po...</td>\n",
       "      <td>25</td>\n",
       "      <td>1.0</td>\n",
       "      <td>0</td>\n",
       "      <td>2</td>\n",
       "      <td>3.000000</td>\n",
       "      <td>3.792100</td>\n",
       "      <td>1.0</td>\n",
       "      <td>2616</td>\n",
       "      <td>27724</td>\n",
       "    </tr>\n",
       "    <tr>\n",
       "      <th>6</th>\n",
       "      <td>4ca1ad89fabf7c775216702d2638f5c26dc4bd34</td>\n",
       "      <td>2</td>\n",
       "      <td>TRBCWOW128F1467692</td>\n",
       "      <td>SOBPHQK12AF72A6AFF</td>\n",
       "      <td>Long Beach Dub Allstars</td>\n",
       "      <td>Like A Dog</td>\n",
       "      <td>213.62893</td>\n",
       "      <td>-6.969</td>\n",
       "      <td>93.317</td>\n",
       "      <td>NaN</td>\n",
       "      <td>...</td>\n",
       "      <td>[]</td>\n",
       "      <td>29</td>\n",
       "      <td>1.0</td>\n",
       "      <td>0</td>\n",
       "      <td>0</td>\n",
       "      <td>3.858094</td>\n",
       "      <td>3.707865</td>\n",
       "      <td>1.0</td>\n",
       "      <td>2846</td>\n",
       "      <td>37083</td>\n",
       "    </tr>\n",
       "  </tbody>\n",
       "</table>\n",
       "<p>5 rows × 25 columns</p>\n",
       "</div>"
      ],
      "text/plain": [
       "                                       user  count            track_id  \\\n",
       "0  82ef16cb5e45c1afe71979afcc6dbae8fdd36aeb      8  TRBDQUF128F42AE54C   \n",
       "2  a3d5597a793f2fad64f6468729711c36bb49c594      9  TRALSXX128F92F94B0   \n",
       "4  b6b71d901553d790698f562e7dfd211a4724f131     14  TRAURYF128F147805D   \n",
       "5  392a322c1d6788bc7e0ab2ad9e486a6ff5520385     17  TRBALRR128F429625D   \n",
       "6  4ca1ad89fabf7c775216702d2638f5c26dc4bd34      2  TRBCWOW128F1467692   \n",
       "\n",
       "              song_id                   artist  \\\n",
       "0  SOBBFWL12A8C140087      Daler Mehndi;Chitra   \n",
       "2  SOBSEGK12A58A7BEBF              Sex Pistols   \n",
       "4  SOIZLKI12A6D4F7B61                     Muse   \n",
       "5  SOLSJHM12A8C139B46           Britney Spears   \n",
       "6  SOBPHQK12AF72A6AFF  Long Beach Dub Allstars   \n",
       "\n",
       "                                    song_y   duration  loudness    tempo  \\\n",
       "0                          Rang De Basanti  363.80689    -7.403  105.026   \n",
       "2                                Seventeen  129.93261    -6.458  129.722   \n",
       "4  Supermassive Black Hole (Album Version)  209.34485    -3.313  120.010   \n",
       "5                   Can't Make You Love Me  196.80608    -3.693  107.969   \n",
       "6                               Like A Dog  213.62893    -6.969   93.317   \n",
       "\n",
       "   song_hotness     ...      \\\n",
       "0      0.363686     ...       \n",
       "2      0.704853     ...       \n",
       "4      0.760348     ...       \n",
       "5      0.839984     ...       \n",
       "6           NaN     ...       \n",
       "\n",
       "                                          artist_tag  predict   CF  dummy  \\\n",
       "0                    [b'singer' b'dancer' b'indian']       49  2.0      0   \n",
       "2  [b'british' b'punk rock' b'uk' b'london' b'eng...       62  1.0      0   \n",
       "4                                                 []       68  1.0      0   \n",
       "5  [b'pop' b'american' b'urban pop' b'dance' b'po...       25  1.0      0   \n",
       "6                                                 []       29  1.0      0   \n",
       "\n",
       "  like    CF_raw  SONG_AVG  SONG_Q  track_label  user_label  \n",
       "0    2  9.616318  8.628472     5.0         2920       63564  \n",
       "2    2  3.353521  3.427536     1.0         1179       79550  \n",
       "4    2  3.879612  4.144224     2.0         2035       88685  \n",
       "5    2  3.000000  3.792100     1.0         2616       27724  \n",
       "6    0  3.858094  3.707865     1.0         2846       37083  \n",
       "\n",
       "[5 rows x 25 columns]"
      ]
     },
     "execution_count": 13,
     "metadata": {},
     "output_type": "execute_result"
    }
   ],
   "source": [
    "test_mini = test_cluster_batch[test_cluster_batch['CF']!=-99]\n",
    "test_mini.head()"
   ]
  },
  {
   "cell_type": "code",
   "execution_count": 137,
   "metadata": {},
   "outputs": [],
   "source": [
    "def get_neighbours_score(graph,center_node,step):\n",
    "    node_score={}\n",
    "    frac=1/step\n",
    "    full_path=nx.single_source_shortest_path(graph, source=center_node, cutoff=step)\n",
    "    for node, cutoff in full_path.items():\n",
    "        for i in range(len(full_path[node])-1):\n",
    "            if node != center_node:\n",
    "                score=0\n",
    "                score=score+frac*projection[adjacent_nodes_path[node][i+1]][adjacent_nodes_path[node][i]]['weight']\n",
    "                if node not in node_score.keys():\n",
    "                    node_score[node]=score\n",
    "    return node_score"
   ]
  },
  {
   "cell_type": "code",
   "execution_count": 138,
   "metadata": {},
   "outputs": [
    {
     "data": {
      "text/plain": [
       "{'TRASVOH12903CCDC0B': 1.0,\n",
       " 'TRAPTOE128F4272000': 2.0,\n",
       " 'TRAWPNC128F92EAA90': 2.0,\n",
       " 'TRAAMES128F42AF068': 1.0,\n",
       " 'TRASDOI128F1480E28': 1.0,\n",
       " 'TRAFJVH128F42BC25E': 1.0,\n",
       " 'TRBDHKL128F426BE45': 1.0,\n",
       " 'TRBGWWM12903CCE627': 1.0,\n",
       " 'TRAGYMA128EF34B55E': 3.0,\n",
       " 'TRBFXMJ12903CB50F6': 1.0,\n",
       " 'TRAICHS128E0785545': 1.0,\n",
       " 'TRAADLN128F14832E9': 1.0,\n",
       " 'TRAWBOE128F92F2F46': 1.0,\n",
       " 'TRAVSVL128F14B12BE': 1.0,\n",
       " 'TRAYWLI128F9300223': 1.0,\n",
       " 'TRATKVY128EF35F97A': 1.0,\n",
       " 'TRBGSAQ128F1470B41': 1.0,\n",
       " 'TRBALRR128F429625D': 1.0,\n",
       " 'TRAZCMR128F1462B51': 1.0,\n",
       " 'TRBFEID128F42368AC': 1.0,\n",
       " 'TRAFZRL128F428E465': 1.0,\n",
       " 'TRAQJMP128F92E3821': 1.0}"
      ]
     },
     "execution_count": 138,
     "metadata": {},
     "output_type": "execute_result"
    }
   ],
   "source": [
    "get_neighbours_score(projection,'TRAWZJW128F42297EE',1)"
   ]
  },
  {
   "cell_type": "code",
   "execution_count": 139,
   "metadata": {},
   "outputs": [
    {
     "data": {
      "text/html": [
       "<div>\n",
       "<style scoped>\n",
       "    .dataframe tbody tr th:only-of-type {\n",
       "        vertical-align: middle;\n",
       "    }\n",
       "\n",
       "    .dataframe tbody tr th {\n",
       "        vertical-align: top;\n",
       "    }\n",
       "\n",
       "    .dataframe thead th {\n",
       "        text-align: right;\n",
       "    }\n",
       "</style>\n",
       "<table border=\"1\" class=\"dataframe\">\n",
       "  <thead>\n",
       "    <tr style=\"text-align: right;\">\n",
       "      <th></th>\n",
       "      <th>user</th>\n",
       "      <th>count</th>\n",
       "      <th>track_id</th>\n",
       "      <th>song_id</th>\n",
       "      <th>artist</th>\n",
       "      <th>song_y</th>\n",
       "      <th>duration</th>\n",
       "      <th>loudness</th>\n",
       "      <th>tempo</th>\n",
       "      <th>song_hotness</th>\n",
       "      <th>artist_hotness</th>\n",
       "      <th>key_confidence</th>\n",
       "      <th>mode_confidence</th>\n",
       "      <th>release_year</th>\n",
       "      <th>artist_id</th>\n",
       "      <th>artist_tag</th>\n",
       "      <th>predict</th>\n",
       "      <th>track_label</th>\n",
       "      <th>user_label</th>\n",
       "      <th>demeaned_count</th>\n",
       "    </tr>\n",
       "  </thead>\n",
       "  <tbody>\n",
       "    <tr>\n",
       "      <th>0</th>\n",
       "      <td>93b58bd2feab229d599a119c6e3ede2d5e46829d</td>\n",
       "      <td>1</td>\n",
       "      <td>TRAQVTO128F14696A6</td>\n",
       "      <td>SONJBQX12A6D4F8382</td>\n",
       "      <td>Daft Punk</td>\n",
       "      <td>Da Funk</td>\n",
       "      <td>329.53424</td>\n",
       "      <td>-5.019</td>\n",
       "      <td>111.201</td>\n",
       "      <td>0.862255</td>\n",
       "      <td>1.021256</td>\n",
       "      <td>0.055</td>\n",
       "      <td>0.419</td>\n",
       "      <td>1995</td>\n",
       "      <td>b'ARF8HTQ1187B9AE693'</td>\n",
       "      <td>[b'french' b'electronic' b'wp musicians' b'eur...</td>\n",
       "      <td>23</td>\n",
       "      <td>1670</td>\n",
       "      <td>71627</td>\n",
       "      <td>-0.666667</td>\n",
       "    </tr>\n",
       "    <tr>\n",
       "      <th>1</th>\n",
       "      <td>c30ef473f8260e912a68fdf974ef021d3ab354d5</td>\n",
       "      <td>7</td>\n",
       "      <td>TRAURYF128F147805D</td>\n",
       "      <td>SOIZLKI12A6D4F7B61</td>\n",
       "      <td>Muse</td>\n",
       "      <td>Supermassive Black Hole (Album Version)</td>\n",
       "      <td>209.34485</td>\n",
       "      <td>-3.313</td>\n",
       "      <td>120.010</td>\n",
       "      <td>0.760348</td>\n",
       "      <td>0.750427</td>\n",
       "      <td>0.034</td>\n",
       "      <td>0.503</td>\n",
       "      <td>0</td>\n",
       "      <td>b'ARR3ONV1187B9A2F59'</td>\n",
       "      <td>[]</td>\n",
       "      <td>68</td>\n",
       "      <td>2035</td>\n",
       "      <td>94636</td>\n",
       "      <td>-3.000000</td>\n",
       "    </tr>\n",
       "    <tr>\n",
       "      <th>2</th>\n",
       "      <td>558e6f49f9455e5b51e67d7935a5e340c50c8625</td>\n",
       "      <td>3</td>\n",
       "      <td>TRANCOS128F4267DFB</td>\n",
       "      <td>SOJSGWO12AF72A2C49</td>\n",
       "      <td>Mando Diao</td>\n",
       "      <td>All My Senses</td>\n",
       "      <td>251.03628</td>\n",
       "      <td>-5.403</td>\n",
       "      <td>119.346</td>\n",
       "      <td>0.645983</td>\n",
       "      <td>0.486825</td>\n",
       "      <td>0.312</td>\n",
       "      <td>0.457</td>\n",
       "      <td>2004</td>\n",
       "      <td>b'ARR6MOS1187B994C51'</td>\n",
       "      <td>[b'su\\xc3\\xa9dois' b'garage rock' b'swedish' b...</td>\n",
       "      <td>2</td>\n",
       "      <td>1304</td>\n",
       "      <td>41473</td>\n",
       "      <td>1.769231</td>\n",
       "    </tr>\n",
       "    <tr>\n",
       "      <th>3</th>\n",
       "      <td>269c71b2e37e7988ec005da553479f16194a1435</td>\n",
       "      <td>2</td>\n",
       "      <td>TRADYQK128F42A762A</td>\n",
       "      <td>SORJVDO12AF72A1970</td>\n",
       "      <td>Muse</td>\n",
       "      <td>Stockholm Syndrome</td>\n",
       "      <td>296.95955</td>\n",
       "      <td>-4.854</td>\n",
       "      <td>128.134</td>\n",
       "      <td>0.776351</td>\n",
       "      <td>0.750427</td>\n",
       "      <td>0.476</td>\n",
       "      <td>0.445</td>\n",
       "      <td>0</td>\n",
       "      <td>b'ARR3ONV1187B9A2F59'</td>\n",
       "      <td>[]</td>\n",
       "      <td>9</td>\n",
       "      <td>410</td>\n",
       "      <td>18697</td>\n",
       "      <td>0.500000</td>\n",
       "    </tr>\n",
       "    <tr>\n",
       "      <th>4</th>\n",
       "      <td>3fa78fdd6924662970f5141a90afbf55cb25883d</td>\n",
       "      <td>1</td>\n",
       "      <td>TRAAKDG128F42A0ECB</td>\n",
       "      <td>SOEHWGF12A6D4F8B2B</td>\n",
       "      <td>Shakira Featuring Wyclef Jean</td>\n",
       "      <td>Hips Don't Lie (featuring Wyclef Jean)</td>\n",
       "      <td>217.36444</td>\n",
       "      <td>-5.152</td>\n",
       "      <td>100.023</td>\n",
       "      <td>0.737385</td>\n",
       "      <td>0.682263</td>\n",
       "      <td>0.805</td>\n",
       "      <td>0.688</td>\n",
       "      <td>0</td>\n",
       "      <td>b'AR6PJ8R1187FB5AD70'</td>\n",
       "      <td>[b'colombian' b'classic pop and rock' b'espa\\x...</td>\n",
       "      <td>29</td>\n",
       "      <td>51</td>\n",
       "      <td>30841</td>\n",
       "      <td>-0.200000</td>\n",
       "    </tr>\n",
       "  </tbody>\n",
       "</table>\n",
       "</div>"
      ],
      "text/plain": [
       "                                       user  count            track_id  \\\n",
       "0  93b58bd2feab229d599a119c6e3ede2d5e46829d      1  TRAQVTO128F14696A6   \n",
       "1  c30ef473f8260e912a68fdf974ef021d3ab354d5      7  TRAURYF128F147805D   \n",
       "2  558e6f49f9455e5b51e67d7935a5e340c50c8625      3  TRANCOS128F4267DFB   \n",
       "3  269c71b2e37e7988ec005da553479f16194a1435      2  TRADYQK128F42A762A   \n",
       "4  3fa78fdd6924662970f5141a90afbf55cb25883d      1  TRAAKDG128F42A0ECB   \n",
       "\n",
       "              song_id                         artist  \\\n",
       "0  SONJBQX12A6D4F8382                      Daft Punk   \n",
       "1  SOIZLKI12A6D4F7B61                           Muse   \n",
       "2  SOJSGWO12AF72A2C49                     Mando Diao   \n",
       "3  SORJVDO12AF72A1970                           Muse   \n",
       "4  SOEHWGF12A6D4F8B2B  Shakira Featuring Wyclef Jean   \n",
       "\n",
       "                                    song_y   duration  loudness    tempo  \\\n",
       "0                                  Da Funk  329.53424    -5.019  111.201   \n",
       "1  Supermassive Black Hole (Album Version)  209.34485    -3.313  120.010   \n",
       "2                            All My Senses  251.03628    -5.403  119.346   \n",
       "3                       Stockholm Syndrome  296.95955    -4.854  128.134   \n",
       "4   Hips Don't Lie (featuring Wyclef Jean)  217.36444    -5.152  100.023   \n",
       "\n",
       "   song_hotness  artist_hotness  key_confidence  mode_confidence  \\\n",
       "0      0.862255        1.021256           0.055            0.419   \n",
       "1      0.760348        0.750427           0.034            0.503   \n",
       "2      0.645983        0.486825           0.312            0.457   \n",
       "3      0.776351        0.750427           0.476            0.445   \n",
       "4      0.737385        0.682263           0.805            0.688   \n",
       "\n",
       "   release_year              artist_id  \\\n",
       "0          1995  b'ARF8HTQ1187B9AE693'   \n",
       "1             0  b'ARR3ONV1187B9A2F59'   \n",
       "2          2004  b'ARR6MOS1187B994C51'   \n",
       "3             0  b'ARR3ONV1187B9A2F59'   \n",
       "4             0  b'AR6PJ8R1187FB5AD70'   \n",
       "\n",
       "                                          artist_tag  predict  track_label  \\\n",
       "0  [b'french' b'electronic' b'wp musicians' b'eur...       23         1670   \n",
       "1                                                 []       68         2035   \n",
       "2  [b'su\\xc3\\xa9dois' b'garage rock' b'swedish' b...        2         1304   \n",
       "3                                                 []        9          410   \n",
       "4  [b'colombian' b'classic pop and rock' b'espa\\x...       29           51   \n",
       "\n",
       "   user_label  demeaned_count  \n",
       "0       71627       -0.666667  \n",
       "1       94636       -3.000000  \n",
       "2       41473        1.769231  \n",
       "3       18697        0.500000  \n",
       "4       30841       -0.200000  "
      ]
     },
     "execution_count": 139,
     "metadata": {},
     "output_type": "execute_result"
    }
   ],
   "source": [
    "history.head()"
   ]
  },
  {
   "cell_type": "code",
   "execution_count": 314,
   "metadata": {},
   "outputs": [],
   "source": [
    "import math\n",
    "import operator\n",
    "def get_user_songs(df_history,user_id,graph,param,recommend_num):\n",
    "    df_all_tracks = df_history[df_history['user'] == user_id].track_id.reset_index()\n",
    "    history_list = df_all_tracks['track_id'].tolist()\n",
    "    node_score={}\n",
    "    node_score_sorted={}\n",
    "    for i in history_list:\n",
    "        if i in graph.nodes:\n",
    "            path_len_two=nx.single_source_shortest_path(graph, source=i, cutoff=2)\n",
    "            for node, cutoff in path_len_two.items():\n",
    "                if node != i:\n",
    "                    if len(path_len_two[node])==2:\n",
    "                        score=0\n",
    "                        score=param*projection[path_len_two[node][1]][path_len_two[node][0]]['weight']\n",
    "                        if node not in node_score.keys():\n",
    "                            node_score[node]=score\n",
    "                        else:\n",
    "                            node_score[node]= math.log(node_score[node]+score+1)\n",
    "                    elif len(path_len_two[node])==3:\n",
    "                        score=0\n",
    "                        score=param*param*(projection[path_len_two[node][2]][path_len_two[node][1]]['weight'] + projection[path_len_two[node][1]][path_len_two[node][0]]['weight'])\n",
    "                        if node not in node_score.keys():\n",
    "                            node_score[node]=score \n",
    "                        else:\n",
    "                            node_score[node]= math.log(node_score[node]+score+1)\n",
    "    node_score_sorted=sorted(node_score.items(), key=operator.itemgetter(1),reverse=True)\n",
    "    final_recommend=node_score_sorted[:recommend_num]\n",
    "    return final_recommend"
   ]
  },
  {
   "cell_type": "code",
   "execution_count": 344,
   "metadata": {},
   "outputs": [],
   "source": [
    "def test_hit(song_list,recommend_list):\n",
    "    for song in song_list:\n",
    "        for i in range(len(recommend_list)):\n",
    "            if song in recommend_list[i][0]:\n",
    "                return True\n",
    "    return False"
   ]
  },
  {
   "cell_type": "code",
   "execution_count": 316,
   "metadata": {},
   "outputs": [],
   "source": [
    "def calculate_accuracy(df_test,df_history,graph,param,recommend_num):\n",
    "    total_size=len(df_test.index)\n",
    "    test_user_list=df_test['user'].tolist()\n",
    "    hit_count=0\n",
    "    for user in test_user_list:\n",
    "        song_list = df_test[df_test['user'] == user].track_id.reset_index()['track_id'].tolist()       \n",
    "        recommend_list= get_user_songs(df_history,user,graph,param,recommend_num)\n",
    "        if test_hit(song_list,recommend_list)==True:\n",
    "            hit_count=hit_count+1\n",
    "    accuracy=hit_count/total_size\n",
    "    return accuracy        "
   ]
  },
  {
   "cell_type": "code",
   "execution_count": 317,
   "metadata": {},
   "outputs": [
    {
     "data": {
      "text/plain": [
       "0.3637400228050171"
      ]
     },
     "execution_count": 317,
     "metadata": {},
     "output_type": "execute_result"
    }
   ],
   "source": [
    "calculate_accuracy(test_mini,history,projection,0.01,10)"
   ]
  },
  {
   "cell_type": "code",
   "execution_count": 318,
   "metadata": {},
   "outputs": [
    {
     "data": {
      "text/plain": [
       "0.6237172177879133"
      ]
     },
     "execution_count": 318,
     "metadata": {},
     "output_type": "execute_result"
    }
   ],
   "source": [
    "calculate_accuracy(test_mini,history,projection,0.01,50)"
   ]
  },
  {
   "cell_type": "code",
   "execution_count": 319,
   "metadata": {},
   "outputs": [
    {
     "data": {
      "text/plain": [
       "0.7194982896237172"
      ]
     },
     "execution_count": 319,
     "metadata": {},
     "output_type": "execute_result"
    }
   ],
   "source": [
    "calculate_accuracy(test_mini,history,projection,0.01,100)"
   ]
  },
  {
   "cell_type": "code",
   "execution_count": 376,
   "metadata": {},
   "outputs": [],
   "source": [
    "def hit_rank(song_list,recommend_list):\n",
    "    all_score=[]\n",
    "    min_rank=0\n",
    "    for song in song_list:\n",
    "        for i in range(len(recommend_list)):\n",
    "            if song in recommend_list[i][0]:\n",
    "                all_score.append(i)\n",
    "    min_rank=min(all_score)\n",
    "    return min_rank"
   ]
  },
  {
   "cell_type": "code",
   "execution_count": 377,
   "metadata": {},
   "outputs": [],
   "source": [
    "def calculate_rank(df_test,df_history,graph,param,recommend_num):  \n",
    "    test_user_list=df_test['user'].tolist()\n",
    "    rank_cnt=0\n",
    "    rank=0\n",
    "    for user in test_user_list:\n",
    "        song_list = df_test[df_test['user'] == user].track_id.reset_index()['track_id'].tolist()       \n",
    "        recommend_list= get_user_songs(df_history,user,graph,param,recommend_num)\n",
    "        if test_hit(song_list,recommend_list)==True:\n",
    "            rank=rank+hit_rank(song_list,recommend_list)\n",
    "            rank_cnt=rank_cnt+1\n",
    "    avg_rank=rank/rank_cnt\n",
    "    return avg_rank"
   ]
  },
  {
   "cell_type": "code",
   "execution_count": 378,
   "metadata": {},
   "outputs": [
    {
     "data": {
      "text/plain": [
       "2.93730407523511"
      ]
     },
     "execution_count": 378,
     "metadata": {},
     "output_type": "execute_result"
    }
   ],
   "source": [
    "calculate_rank(test_mini,history,projection,0.01,10)"
   ]
  },
  {
   "cell_type": "code",
   "execution_count": 379,
   "metadata": {},
   "outputs": [
    {
     "data": {
      "text/plain": [
       "11.915904936014625"
      ]
     },
     "execution_count": 379,
     "metadata": {},
     "output_type": "execute_result"
    }
   ],
   "source": [
    "calculate_rank(test_mini,history,projection,0.01,50)"
   ]
  },
  {
   "cell_type": "code",
   "execution_count": 380,
   "metadata": {},
   "outputs": [
    {
     "data": {
      "text/plain": [
       "19.91283676703645"
      ]
     },
     "execution_count": 380,
     "metadata": {},
     "output_type": "execute_result"
    }
   ],
   "source": [
    "calculate_rank(test_mini,history,projection,0.01,100)"
   ]
  },
  {
   "cell_type": "code",
   "execution_count": 388,
   "metadata": {},
   "outputs": [],
   "source": [
    "neighbor_number_list=[10,25,50,75,100]\n",
    "accuracy_list=[]\n",
    "for i in neighbor_number_list:\n",
    "    accuracy_list.append(calculate_accuracy(test_mini,history,projection,0.01,i))"
   ]
  },
  {
   "cell_type": "code",
   "execution_count": 387,
   "metadata": {},
   "outputs": [],
   "source": [
    "neighbor_number_list=[10,25,50,75,100]\n",
    "accuracy_list_1=[]\n",
    "for i in neighbor_number_list:\n",
    "    accuracy_list_1.append(calculate_accuracy(test_mini,history,projection,0.1,i))"
   ]
  },
  {
   "cell_type": "code",
   "execution_count": 389,
   "metadata": {},
   "outputs": [],
   "source": [
    "neighbor_number_list=[10,25,50,75,100]\n",
    "accuracy_list_2=[]\n",
    "for i in neighbor_number_list:\n",
    "    accuracy_list_2.append(calculate_accuracy(test_mini,history,projection,0.3,i))"
   ]
  },
  {
   "cell_type": "code",
   "execution_count": 390,
   "metadata": {},
   "outputs": [],
   "source": [
    "neighbor_number_list=[10,25,50,75,100]\n",
    "accuracy_list_3=[]\n",
    "for i in neighbor_number_list:\n",
    "    accuracy_list_3.append(calculate_accuracy(test_mini,history,projection,0.5,i))"
   ]
  },
  {
   "cell_type": "code",
   "execution_count": 391,
   "metadata": {},
   "outputs": [],
   "source": [
    "neighbor_number_list=[10,25,50,75,100]\n",
    "accuracy_list_4=[]\n",
    "for i in neighbor_number_list:\n",
    "    accuracy_list_4.append(calculate_accuracy(test_mini,history,projection,0.7,i))"
   ]
  },
  {
   "cell_type": "code",
   "execution_count": 392,
   "metadata": {},
   "outputs": [
    {
     "data": {
      "text/plain": [
       "[0.3637400228050171,\n",
       " 0.508551881413911,\n",
       " 0.6237172177879133,\n",
       " 0.6761687571265679,\n",
       " 0.7194982896237172]"
      ]
     },
     "execution_count": 392,
     "metadata": {},
     "output_type": "execute_result"
    }
   ],
   "source": [
    "accuracy_list"
   ]
  },
  {
   "cell_type": "code",
   "execution_count": 393,
   "metadata": {},
   "outputs": [
    {
     "data": {
      "text/plain": [
       "[0.33979475484606614,\n",
       " 0.4925883694412771,\n",
       " 0.5929304446978335,\n",
       " 0.6442417331812998,\n",
       " 0.69327251995439]"
      ]
     },
     "execution_count": 393,
     "metadata": {},
     "output_type": "execute_result"
    }
   ],
   "source": [
    "accuracy_list_1"
   ]
  },
  {
   "cell_type": "code",
   "execution_count": 394,
   "metadata": {},
   "outputs": [
    {
     "data": {
      "text/plain": [
       "[0.3181299885974915,\n",
       " 0.4583808437856328,\n",
       " 0.5359179019384265,\n",
       " 0.5895096921322691,\n",
       " 0.6419612314709237]"
      ]
     },
     "execution_count": 394,
     "metadata": {},
     "output_type": "execute_result"
    }
   ],
   "source": [
    "accuracy_list_2"
   ]
  },
  {
   "cell_type": "code",
   "execution_count": 395,
   "metadata": {},
   "outputs": [
    {
     "data": {
      "text/plain": [
       "[0.2896237172177879,\n",
       " 0.41961231470923605,\n",
       " 0.5028506271379704,\n",
       " 0.56442417331813,\n",
       " 0.6009122006841505]"
      ]
     },
     "execution_count": 395,
     "metadata": {},
     "output_type": "execute_result"
    }
   ],
   "source": [
    "accuracy_list_3"
   ]
  },
  {
   "cell_type": "code",
   "execution_count": 396,
   "metadata": {},
   "outputs": [
    {
     "data": {
      "text/plain": [
       "[0.24971493728620298,\n",
       " 0.3671607753705815,\n",
       " 0.45610034207525657,\n",
       " 0.540478905359179,\n",
       " 0.5826681870011402]"
      ]
     },
     "execution_count": 396,
     "metadata": {},
     "output_type": "execute_result"
    }
   ],
   "source": [
    "accuracy_list_4"
   ]
  },
  {
   "cell_type": "code",
   "execution_count": 406,
   "metadata": {},
   "outputs": [
    {
     "data": {
      "image/png": "[encoded data removed]",
      "text/plain": [
       "<Figure size 432x288 with 1 Axes>"
      ]
     },
     "metadata": {},
     "output_type": "display_data"
    }
   ],
   "source": [
    "plt.plot(neighbor_number_list, accuracy_list, 'r',neighbor_number_list , accuracy_list_1, 'b', neighbor_number_list, accuracy_list_2, 'g', neighbor_number_list, accuracy_list_3, 'y', neighbor_number_list, accuracy_list_4, 'm')\n",
    "plt.legend([0.01,0.1,0.3,0.5,0.7])\n",
    "plt.xlabel('Number of recommended songs')\n",
    "plt.ylabel('Accuracy')\n",
    "plt.title(\"BFS path weight discount parameter decision-making\")\n",
    "plt.show()"
   ]
  },
  {
   "cell_type": "code",
   "execution_count": 407,
   "metadata": {},
   "outputs": [],
   "source": [
    "neighbor_number_list=[10,25,50,75,100]\n",
    "rank_list=[]\n",
    "for i in neighbor_number_list:\n",
    "    rank_list.append(calculate_rank(test_mini,history,projection,0.01,i))"
   ]
  },
  {
   "cell_type": "code",
   "execution_count": 408,
   "metadata": {},
   "outputs": [
    {
     "data": {
      "text/plain": [
       "[2.93730407523511,\n",
       " 6.475336322869955,\n",
       " 11.915904936014625,\n",
       " 15.72681281618887,\n",
       " 19.91283676703645]"
      ]
     },
     "execution_count": 408,
     "metadata": {},
     "output_type": "execute_result"
    }
   ],
   "source": [
    "rank_list"
   ]
  },
  {
   "cell_type": "code",
   "execution_count": 409,
   "metadata": {},
   "outputs": [
    {
     "data": {
      "text/plain": [
       "[0.293730407523511,\n",
       " 0.2590134529147982,\n",
       " 0.2383180987202925,\n",
       " 0.20969083754918494,\n",
       " 0.1991283676703645]"
      ]
     },
     "execution_count": 409,
     "metadata": {},
     "output_type": "execute_result"
    }
   ],
   "source": [
    "proportion_list=[]\n",
    "for i in range(len(rank_list)):\n",
    "    proportion_list.append(rank_list[i]/neighbor_number_list[i])\n",
    "proportion_list"
   ]
  },
  {
   "cell_type": "code",
   "execution_count": 421,
   "metadata": {},
   "outputs": [
    {
     "data": {
      "image/png": "[encoded data removed]",
      "text/plain": [
       "<Figure size 432x288 with 1 Axes>"
      ]
     },
     "metadata": {},
     "output_type": "display_data"
    }
   ],
   "source": [
    "y_pos = np.arange(len(neighbor_number_list))\n",
    "plt.bar(y_pos,rank_list, alpha=0.5)\n",
    "plt.xticks(y_pos, neighbor_number_list)\n",
    "plt.xlabel('Number of recommended songs')\n",
    "plt.ylabel('Average rank')\n",
    "plt.title(\"Average rank range of recommended songs in BFS\")\n",
    "plt.show()"
   ]
  },
  {
   "cell_type": "code",
   "execution_count": 412,
   "metadata": {},
   "outputs": [
    {
     "data": {
      "image/png": "[encoded data removed]",
      "text/plain": [
       "<Figure size 432x288 with 1 Axes>"
      ]
     },
     "metadata": {},
     "output_type": "display_data"
    }
   ],
   "source": [
    "plt.plot(neighbor_number_list,proportion_list)\n",
    "plt.xlabel('Number of recommended songs')\n",
    "plt.ylabel('Rank proportion')\n",
    "plt.title(\"Average rank proportion of recommended songs in BFS\")\n",
    "plt.show()"
   ]
  },
  {
   "cell_type": "code",
   "execution_count": 281,
   "metadata": {},
   "outputs": [],
   "source": [
    "# len(test_mini.index)"
   ]
  },
  {
   "cell_type": "code",
   "execution_count": 381,
   "metadata": {},
   "outputs": [],
   "source": [
    "# song=test_mini[test_mini['user'] == '392a322c1d6788bc7e0ab2ad9e486a6ff5520385'].track_id.reset_index()['track_id'].tolist()\n",
    "# song"
   ]
  },
  {
   "cell_type": "code",
   "execution_count": 279,
   "metadata": {},
   "outputs": [],
   "source": [
    "# for j in song:\n",
    "#     print(j)\n",
    "#     for i in range(len(all_recommend)):\n",
    "#         if j in all_recommend[i][0]:\n",
    "#             print(all_recommend[i][1])"
   ]
  },
  {
   "cell_type": "code",
   "execution_count": 278,
   "metadata": {},
   "outputs": [],
   "source": [
    "# for i in all_recommend:\n",
    "#     if song[0] in all_recommend:\n",
    "#         print(1)"
   ]
  },
  {
   "cell_type": "code",
   "execution_count": 277,
   "metadata": {},
   "outputs": [],
   "source": [
    "# for i in range(len(all_recommend)):\n",
    "#     if song[0] in all_recommend[i][0]:\n",
    "#         print(all_recommend[i][1])"
   ]
  },
  {
   "cell_type": "code",
   "execution_count": 382,
   "metadata": {},
   "outputs": [],
   "source": [
    "# all_recommend=get_user_songs(history,'392a322c1d6788bc7e0ab2ad9e486a6ff5520385',projection,0.01,10)\n",
    "# all_recommend"
   ]
  },
  {
   "cell_type": "code",
   "execution_count": null,
   "metadata": {},
   "outputs": [],
   "source": []
  },
  {
   "cell_type": "code",
   "execution_count": null,
   "metadata": {},
   "outputs": [],
   "source": []
  }
 ],
 "metadata": {
  "kernelspec": {
   "display_name": "Python 3",
   "language": "python",
   "name": "python3"
  },
  "language_info": {
   "codemirror_mode": {
    "name": "ipython",
    "version": 3
   },
   "file_extension": ".py",
   "mimetype": "text/x-python",
   "name": "python",
   "nbconvert_exporter": "python",
   "pygments_lexer": "ipython3",
   "version": "3.6.5"
  }
 },
 "nbformat": 4,
 "nbformat_minor": 2
}
